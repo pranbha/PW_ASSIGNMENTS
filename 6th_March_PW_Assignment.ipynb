{
 "cells": [
  {
   "cell_type": "markdown",
   "id": "a7250876",
   "metadata": {},
   "source": [
    "### Q1. What is Statistics?"
   ]
  },
  {
   "cell_type": "markdown",
   "id": "88049339",
   "metadata": {},
   "source": [
    "Statistics is the science of collecting, organizing and analyzing data."
   ]
  },
  {
   "cell_type": "markdown",
   "id": "a249b569",
   "metadata": {},
   "source": [
    "### Q2. Define the different types of statistics and give an example of when each type might be used."
   ]
  },
  {
   "cell_type": "markdown",
   "id": "ff782763",
   "metadata": {},
   "source": [
    "Statistics can be broadly categorized into two main types: descriptive statistics and inferential statistics.\n",
    "\n",
    "1. Descriptive Statistics:\n",
    "\n",
    "Descriptive statistics involve organizing, summarizing, and presenting data in a meaningful way. These statistics help to describe the basic features of the data under investigation.\n",
    "\n",
    "Examples:\n",
    "\n",
    "   a. Measures of Central Tendency: Mean, Median, Mode\n",
    "      - Example: Calculating the average income of employees in a company.\n",
    "   b. Measures of Dispersion: Range, Variance, Standard Deviation\n",
    "      - Example: Determining the spread of test scores in a classroom.\n",
    "   c. Measures of Distribution Shape: Skewness, Kurtosis\n",
    "      - Example: Assessing the symmetry of data in a study on household income.\n",
    "\n",
    "2. Inferential Statistics:\n",
    "\n",
    "Inferential statistics involve making inferences or predictions about a population based on sample data. These statistics allow researchers to draw conclusions and make generalizations about a larger group based on a smaller sample.\n",
    "\n",
    "Examples:\n",
    "\n",
    "   a. Hypothesis Testing: T-tests, ANOVA, Chi-square tests\n",
    "      - Example: Testing whether a new drug treatment is more effective than the current standard treatment.\n",
    "   b. Confidence Intervals: Estimating the range within which a population parameter lies.\n",
    "      - Example: Estimating the average height of adult males in a city with a certain level of confidence.\n",
    "   c. Regression Analysis: Linear regression, Logistic regression\n",
    "      - Example: Predicting sales revenue based on advertising expenditure and other relevant factors."
   ]
  },
  {
   "cell_type": "markdown",
   "id": "75ec317d",
   "metadata": {},
   "source": [
    "### Q3. What are the different types of data and how do they differ from each other? Provide an example of each type of data."
   ]
  },
  {
   "cell_type": "markdown",
   "id": "0823b4b1",
   "metadata": {},
   "source": [
    "1. Discrete Data:\n",
    "\n",
    "   - Discrete data are countable and finite, consisting of distinct values with no possible values in between.\n",
    "   \n",
    "   - Examples: \n",
    "   \n",
    "     - Number of students in a classroom (can't have fractions of students).\n",
    "     - Number of cars in a parking lot (can't have a fraction of a car).\n",
    "\n",
    "2. Continuous Data:\n",
    "\n",
    "   - Continuous data can take any value within a certain range. They are infinitely divisible and can have any value within a given interval.\n",
    "   \n",
    "   - Examples:\n",
    "   \n",
    "     - Height of individuals (can have any value between, for example, 150 cm and 200 cm).\n",
    "     - Weight of objects (can have any value between, for example, 0 kg and 100 kg).\n",
    "\n",
    "3. Nominal Data:\n",
    "\n",
    "   - Nominal data are categorical data that represent categories or labels with no inherent order or ranking.\n",
    "   \n",
    "   - Examples:\n",
    "   \n",
    "     - Colors (e.g., red, blue, green).\n",
    "     - Types of fruits (e.g., apple, orange, banana).\n",
    "\n",
    "4. Ordinal Data:\n",
    "\n",
    "   - Ordinal data represent categories with a specific order or ranking, but the intervals between categories may not be uniform or measurable.\n",
    "   \n",
    "   - Examples:\n",
    "   \n",
    "     - Educational levels (e.g., elementary school, high school, college).\n",
    "     - Levels of agreement (e.g., strongly disagree, disagree, neutral, agree, strongly agree)."
   ]
  },
  {
   "cell_type": "markdown",
   "id": "0dc32046",
   "metadata": {},
   "source": [
    "### Q4. Categorise the following datasets with respect to quantitative and qualitative data types:\n",
    "(i) Grading in exam: A+, A, B+, B, C+, C, D, E\n",
    "\n",
    "(ii) Colour of mangoes: yellow, green, orange, red\n",
    "\n",
    "(iii) Height data of a class: [178.9, 179, 179.5, 176, 177.2, 178.3, 175.8,...]\n",
    "\n",
    "(iv) Number of mangoes exported by a farm: [500, 600, 478, 672, ...]"
   ]
  },
  {
   "cell_type": "markdown",
   "id": "ac0b2c52",
   "metadata": {},
   "source": [
    "i) Qualitative\n",
    "\n",
    "ii) Qualitative\n",
    "\n",
    "iii) Quantitaive\n",
    "\n",
    "iv) Quantitative"
   ]
  },
  {
   "cell_type": "markdown",
   "id": "44bfddb3",
   "metadata": {},
   "source": [
    "### Q5. Explain the concept of levels of measurement and give an example of a variable for each level."
   ]
  },
  {
   "cell_type": "markdown",
   "id": "ba7b4df9",
   "metadata": {},
   "source": [
    "1. Nominal Level of Measurement:\n",
    "\n",
    "   - At the nominal level, variables are categorized into distinct, unordered groups or classes. Nominal data only indicate different categories, without any inherent order or ranking.\n",
    "   \n",
    "   - Example: Eye color\n",
    "   \n",
    "     - Variable: Eye Color\n",
    "     - Categories: Brown, Blue, Green, Hazel, etc.\n",
    "     - Each category represents a different group, but there is no inherent order or ranking among them.\n",
    "\n",
    "2. Ordinal Level of Measurement:\n",
    "\n",
    "   - Ordinal data represent categories with a specific order or ranking. However, the intervals between the categories may not be uniform or measurable.\n",
    "   \n",
    "   - Example: Education level\n",
    "   \n",
    "     - Variable: Education Level\n",
    "     - Categories: High School Diploma, Bachelor's Degree, Master's Degree, PhD\n",
    "     - These categories have a clear order or ranking, but the difference between each level may not be uniform.\n",
    "\n",
    "3. Interval Level of Measurement:\n",
    "\n",
    "   - Interval data have meaningful intervals between measurements, but there is no true zero point. The zero point is arbitrary and does not indicate the absence of the quantity being measured.\n",
    "   \n",
    "   - Example: Temperature in Celsius or Fahrenheit\n",
    "   \n",
    "     - Variable: Temperature\n",
    "     - Measurement: 20°C, 25°C, 30°C, etc.\n",
    "     - The difference between 20°C and 25°C is the same as the difference between 25°C and 30°C, but 0°C does not indicate the absence of temperature.\n",
    "\n",
    "4. Ratio Level of Measurement:\n",
    "\n",
    "   - Ratio data have a true zero point, and both meaningful intervals and ratios between measurements. The zero point represents the absence of the quantity being measured.\n",
    "   \n",
    "   - Example: Height\n",
    "   \n",
    "     - Variable: Height\n",
    "     - Measurements: 150 cm, 170 cm, 180 cm, etc.\n",
    "     - Ratio data allow for meaningful mathematical operations such as multiplication and division, and 0 cm indicates the absence of height."
   ]
  },
  {
   "cell_type": "markdown",
   "id": "058b1759",
   "metadata": {},
   "source": [
    "### Q6. Why is it important to understand the level of measurement when analyzing data? Provide an example to illustrate your answer."
   ]
  },
  {
   "cell_type": "markdown",
   "id": "41a842ab",
   "metadata": {},
   "source": [
    "1. Selection of Statistical Methods:\n",
    "\n",
    "   - Different levels of measurement require different statistical methods for analysis. For instance, nominal and ordinal data require non-parametric statistical tests, while interval and ratio data allow for parametric tests.\n",
    "   - Using inappropriate statistical methods can lead to incorrect conclusions and interpretations. For example, applying a t-test to nominal data would be inappropriate and could yield misleading results.\n",
    "\n",
    "2. Interpretation of Results:\n",
    "\n",
    "   - The level of measurement affects the types of conclusions and interpretations that can be made from the data. For example, interval and ratio data allow for meaningful interpretations of differences and ratios, while nominal and ordinal data do not.\n",
    "   - Misinterpreting data due to an incorrect understanding of its level of measurement can lead to flawed decision-making. For instance, misinterpreting ordinal data as interval data may lead to incorrect assumptions about the magnitude of differences between categories.\n",
    "\n",
    "3. Data Visualization:\n",
    "\n",
    "   - Different levels of measurement require different visualization techniques. Understanding the level of measurement helps in selecting appropriate graphical representations that effectively communicate the data.\n",
    "   - Using inappropriate visualizations can obscure patterns in the data or convey misleading information. For example, using a histogram to represent nominal data may incorrectly imply a continuous distribution.\n",
    "\n",
    "Example:\n",
    "Consider a dataset containing information about the performance ratings of employees in a company. The dataset includes the following variables:\n",
    "- Employee ID (Nominal)\n",
    "- Department (Nominal)\n",
    "- Performance Rating (Ordinal)\n",
    "- Years of Service (Ratio)\n",
    "\n",
    "Understanding the level of measurement for each variable is essential for conducting appropriate analyses:\n",
    "- Nominal variables (e.g., Employee ID, Department) would require frequency counts or contingency tables to analyze patterns.\n",
    "- Ordinal variables (e.g., Performance Rating) may involve ranking or comparing the performance of employees using non-parametric tests such as the Mann-Whitney U test.\n",
    "- Ratio variables (e.g., Years of Service) would allow for calculations of averages, proportions, or correlations, and parametric tests such as t-tests or ANOVA could be applied."
   ]
  },
  {
   "cell_type": "markdown",
   "id": "55d2c08f",
   "metadata": {},
   "source": [
    "### Q7. How nominal data type is different from ordinal data type."
   ]
  },
  {
   "cell_type": "markdown",
   "id": "26cc3a5d",
   "metadata": {},
   "source": [
    "1. Nominal Data:\n",
    "\n",
    "   - Nominal data represent categories or labels with no inherent order or ranking. The categories are distinct and mutually exclusive, but there is no implied order or hierarchy among them.\n",
    "   \n",
    "   - Examples of nominal data include:\n",
    "   \n",
    "     - Gender (Male, Female)\n",
    "     - Marital status (Single, Married, Divorced)\n",
    "     - Types of animals (Cat, Dog, Bird)\n",
    "   - In nominal data, the categories serve as labels without any numerical significance. They are simply different groups or classes that items or individuals belong to.\n",
    "\n",
    "2. Ordinal Data:\n",
    "\n",
    "   - Ordinal data also represent categories, but these categories have a specific order or ranking. The categories are ordered in terms of their relative position or magnitude, but the intervals between them may not be uniform or measurable.\n",
    "   \n",
    "   - Examples of ordinal data include:\n",
    "   \n",
    "     - Educational levels (High School Diploma, Bachelor's Degree, Master's Degree, PhD)\n",
    "     - Likert scale responses (Strongly Disagree, Disagree, Neutral, Agree, Strongly Agree)\n",
    "     - Levels of satisfaction (Very Unsatisfied, Unsatisfied, Neutral, Satisfied, Very Satisfied)\n",
    "   - In ordinal data, the categories not only represent different groups but also convey information about the relative standing or preference among them.\n",
    "\n",
    "Key Differences:\n",
    "\n",
    "- Nominal data have categories with no inherent order or ranking, while ordinal data have categories with a specific order or ranking.\n",
    "- In nominal data, the categories are simply labels without numerical significance, whereas in ordinal data, the categories represent a hierarchy or ranking.\n",
    "- Ordinal data provide more information about the relative position or preference among categories compared to nominal data, where categories are only distinct groups."
   ]
  },
  {
   "cell_type": "markdown",
   "id": "e9e5e025",
   "metadata": {},
   "source": [
    "### Q8. Which type of plot can be used to display data in terms of range?"
   ]
  },
  {
   "cell_type": "markdown",
   "id": "420ecf53",
   "metadata": {},
   "source": [
    "A type of plot commonly used to display data in terms of range is a **box plot** (also known as a box-and-whisker plot). \n",
    "\n",
    "A box plot provides a graphical representation of the distribution of a dataset, including its central tendency, dispersion, and any outliers. It consists of a rectangular box (the \"box\") and two lines extending from it (the \"whiskers\"). The box represents the interquartile range (IQR), which spans the middle 50% of the data, with the median indicated by a line inside the box. The whiskers extend from the box to the minimum and maximum values within a certain range or to the most extreme non-outlier data points. Outliers may also be represented as individual points beyond the whiskers.\n",
    "\n",
    "A box plot is particularly useful for comparing distributions between different groups or visualizing the spread of data along with any skewness or outliers. It provides a clear summary of the dataset's range and variability."
   ]
  },
  {
   "cell_type": "markdown",
   "id": "353dab0e",
   "metadata": {},
   "source": [
    "### Q9. Describe the difference between descriptive and inferential statistics. Give an example of each type of statistics and explain how they are used."
   ]
  },
  {
   "cell_type": "markdown",
   "id": "8f6ddc11",
   "metadata": {},
   "source": [
    "1. Descriptive Statistics:\n",
    "\n",
    "   - Descriptive statistics involve organizing, summarizing, and presenting data in a meaningful way. These statistics help to describe the basic features of the data under investigation without drawing conclusions beyond the dataset itself.\n",
    "   - Descriptive statistics are used to provide a summary of the main characteristics of a dataset, such as central tendency, dispersion, and shape of the distribution.\n",
    "   \n",
    "   - Examples of descriptive statistics include measures like mean, median, mode, standard deviation, range, and graphical representations like histograms, bar charts, and pie charts.\n",
    "   \n",
    "   - Example: Suppose you have collected the test scores of students in a class. Descriptive statistics would be used to calculate the average score (mean), the most common score (mode), the spread of scores (standard deviation), and display the distribution of scores graphically using a histogram.\n",
    "\n",
    "2. Inferential Statistics:\n",
    "\n",
    "   - Inferential statistics involve making inferences or predictions about a population based on sample data. These statistics allow researchers to draw conclusions and make generalizations about a larger group based on a smaller sample.\n",
    "   - Inferential statistics are used to test hypotheses, estimate population parameters, and make predictions about future observations.\n",
    "   \n",
    "   - Examples of inferential statistics include hypothesis testing, confidence intervals, regression analysis, and analysis of variance (ANOVA).\n",
    "   \n",
    "   - Example: Suppose you want to determine whether there is a significant difference in the mean test scores of students who received tutoring compared to those who did not. Inferential statistics would involve conducting a hypothesis test (e.g., t-test) to compare the means of the two groups and determine if the observed difference is statistically significant."
   ]
  },
  {
   "cell_type": "markdown",
   "id": "c19cfc0c",
   "metadata": {},
   "source": [
    "### Q10. What are some common measures of central tendency and variability used in statistics? Explain how each measure can be used to describe a dataset."
   ]
  },
  {
   "cell_type": "markdown",
   "id": "6c905020",
   "metadata": {},
   "source": [
    "Certainly! Measures of central tendency and variability are essential statistical tools used to summarize and describe the characteristics of a dataset.\n",
    "\n",
    "1. Measures of Central Tendency:\n",
    "\n",
    "   - Measures of central tendency provide a single value that represents the center or typical value of a dataset. They help to understand where the data cluster around.\n",
    "\n",
    "   a. Mean:\n",
    "   \n",
    "      - The mean is the average value of a dataset and is calculated by summing all the values and dividing by the total number of observations.\n",
    "      - It provides a measure of the central value around which the data points are distributed.\n",
    "      - The mean is sensitive to outliers, as extreme values can disproportionately influence its value.\n",
    "\n",
    "   b. Median:\n",
    "   \n",
    "      - The median is the middle value of a dataset when the values are arranged in ascending or descending order.\n",
    "      - It is less affected by extreme values compared to the mean, making it a robust measure of central tendency, particularly in skewed distributions.\n",
    "   \n",
    "   c. Mode:\n",
    "   \n",
    "      - The mode is the value that occurs most frequently in a dataset.\n",
    "      - It is useful for categorical or discrete data and can help identify the most common category or value in a distribution.\n",
    "\n",
    "\n",
    "\n",
    "2. Measures of Variability:\n",
    "\n",
    "   - Measures of variability quantify the spread or dispersion of data points around the central tendency. They provide information about how much the data points deviate from the central value.\n",
    "\n",
    "   a. Range:\n",
    "   \n",
    "      - The range is the difference between the maximum and minimum values in a dataset.\n",
    "      - It provides a simple measure of the spread of data but is sensitive to outliers and may not fully capture the variability of the dataset.\n",
    "\n",
    "   b. Variance:\n",
    "   \n",
    "      - Variance measures the average squared deviation of each data point from the mean.\n",
    "      - It provides a more comprehensive measure of variability than the range, taking into account the magnitude of deviations from the mean.\n",
    "      - However, variance is in squared units, making it less interpretable. \n",
    "\n",
    "   c. Standard Deviation:\n",
    "   \n",
    "      - The standard deviation is the square root of the variance and provides a measure of the average distance of data points from the mean.\n",
    "      - It is expressed in the same units as the original data, making it more interpretable than variance.\n",
    "      - Standard deviation is widely used due to its intuitive interpretation and ability to summarize the variability of a dataset."
   ]
  },
  {
   "cell_type": "code",
   "execution_count": null,
   "id": "d2fb66b4",
   "metadata": {},
   "outputs": [],
   "source": []
  }
 ],
 "metadata": {
  "kernelspec": {
   "display_name": "Python 3 (ipykernel)",
   "language": "python",
   "name": "python3"
  },
  "language_info": {
   "codemirror_mode": {
    "name": "ipython",
    "version": 3
   },
   "file_extension": ".py",
   "mimetype": "text/x-python",
   "name": "python",
   "nbconvert_exporter": "python",
   "pygments_lexer": "ipython3",
   "version": "3.9.13"
  }
 },
 "nbformat": 4,
 "nbformat_minor": 5
}
