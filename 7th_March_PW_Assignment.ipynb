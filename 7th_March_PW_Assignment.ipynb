{
 "cells": [
  {
   "cell_type": "markdown",
   "id": "0f910dac",
   "metadata": {},
   "source": [
    "### Q1. What are the three measures of central tendency?"
   ]
  },
  {
   "cell_type": "markdown",
   "id": "0e198862",
   "metadata": {},
   "source": [
    "The three measures of central tendency are:\n",
    "\n",
    "1. Mean: The mean is the average of a set of numbers, calculated by adding up all the values and dividing by the total number of values.\n",
    "\n",
    "\n",
    "2. Median: The median is the middle value in a set of numbers when they are arranged in ascending or descending order. If there is an even number of values, the median is the average of the two middle values.\n",
    "\n",
    "\n",
    "3. Mode: The mode is the value that appears most frequently in a set of numbers. A set of numbers can have one mode, more than one mode (if multiple values occur with the same highest frequency), or no mode if all values occur with the same frequency."
   ]
  },
  {
   "cell_type": "markdown",
   "id": "063da8a5",
   "metadata": {},
   "source": [
    "### Q2. What is the difference between the mean, median, and mode? How are they used to measure the central tendency of a dataset?"
   ]
  },
  {
   "cell_type": "markdown",
   "id": "677200ca",
   "metadata": {},
   "source": [
    "The mean, median, and mode are three measures of central tendency used to describe the center of a dataset, but they each capture different aspects of the data distribution:\n",
    "\n",
    "1. Mean: The mean is the average of a set of numbers and is calculated by adding up all the values and dividing by the total number of values. It is sensitive to outliers, meaning that extreme values can heavily influence the mean. The mean is often used when the data is normally distributed or when a symmetrical distribution is assumed.\n",
    "\n",
    "    \n",
    "2. Median: The median is the middle value in a dataset when the values are arranged in ascending or descending order. If there is an even number of values, the median is the average of the two middle values. The median is less sensitive to outliers compared to the mean, making it a better measure of central tendency for skewed distributions.\n",
    "\n",
    "    \n",
    "3. Mode: The mode is the value that appears most frequently in a dataset. A dataset can have one mode, more than one mode (if multiple values occur with the same highest frequency), or no mode if all values occur with the same frequency. The mode is useful for categorical or discrete data and can be used alongside the mean and median to provide a more complete picture of the dataset's central tendency.\n",
    "\n",
    "In summary, the mean, median, and mode are used to measure the central tendency of a dataset, with each measure providing different insights into the data distribution. The choice of measure depends on the nature of the data and the research question being addressed."
   ]
  },
  {
   "cell_type": "markdown",
   "id": "e3fa52a8",
   "metadata": {},
   "source": [
    "### Q3. Measure the three measures of central tendency for the given height data:\n",
    "### [178,177,176,177,178.2,178,175,179,180,175,178.9,176.2,177,172.5,178,176.5]"
   ]
  },
  {
   "cell_type": "code",
   "execution_count": 8,
   "id": "0647cc4c",
   "metadata": {},
   "outputs": [
    {
     "name": "stdout",
     "output_type": "stream",
     "text": [
      "Mean: 177.01875\n",
      "Median: 177.0\n",
      "Mode: ModeResult(mode=array([[178. , 177. , 176. , 177. , 178.2, 178. , 175. , 179. , 180. ,\n",
      "        175. , 178.9, 176.2, 177. , 172.5, 178. , 176.5]]), count=array([[1, 1, 1, 1, 1, 1, 1, 1, 1, 1, 1, 1, 1, 1, 1, 1]]))\n"
     ]
    },
    {
     "name": "stderr",
     "output_type": "stream",
     "text": [
      "C:\\Users\\pranj\\AppData\\Local\\Temp\\ipykernel_8656\\849840270.py:7: FutureWarning: Unlike other reduction functions (e.g. `skew`, `kurtosis`), the default behavior of `mode` typically preserves the axis it acts along. In SciPy 1.11.0, this behavior will change: the default value of `keepdims` will become False, the `axis` over which the statistic is taken will be eliminated, and the value None will no longer be accepted. Set `keepdims` to True or False to avoid this warning.\n",
      "  print(f\"Mode: {stats.mode(data)}\")\n"
     ]
    }
   ],
   "source": [
    "import numpy as np\n",
    "from scipy import stats\n",
    "data = [[178,177,176,177,178.2,178,175,179,180,175,178.9,176.2,177,172.5,178,176.5]]\n",
    "print(f\"Mean: {np.mean(data)}\")\n",
    "print(f\"Median: {np.median(data)}\")\n",
    "print(f\"Mode: {stats.mode(data)}\")"
   ]
  },
  {
   "cell_type": "markdown",
   "id": "f54581e0",
   "metadata": {},
   "source": [
    "### Q4. Find the standard deviation for the given data:\n",
    "### [178,177,176,177,178.2,178,175,179,180,175,178.9,176.2,177,172.5,178,176.5]"
   ]
  },
  {
   "cell_type": "code",
   "execution_count": 9,
   "id": "ec0f8dad",
   "metadata": {},
   "outputs": [
    {
     "data": {
      "text/plain": [
       "1.7885814036548633"
      ]
     },
     "execution_count": 9,
     "metadata": {},
     "output_type": "execute_result"
    }
   ],
   "source": [
    "import numpy as np\n",
    "data = [178,177,176,177,178.2,178,175,179,180,175,178.9,176.2,177,172.5,178,176.5]\n",
    "np.std(data)"
   ]
  },
  {
   "cell_type": "markdown",
   "id": "fc1d8a35",
   "metadata": {},
   "source": [
    "### Q5. How are measures of dispersion such as range, variance, and standard deviation used to describe the spread of a dataset? Provide an example."
   ]
  },
  {
   "cell_type": "markdown",
   "id": "8cccfd00",
   "metadata": {},
   "source": [
    "Measures of dispersion, such as range, variance, and standard deviation, are used to quantify the spread or variability of a dataset. They provide information about how spread out the values in the dataset are from the central tendency measures like the mean, median, or mode. Here's how each of these measures works and an example to illustrate:\n",
    "\n",
    "1. Range: The range is the simplest measure of dispersion and is calculated as the difference between the maximum and minimum values in a dataset. It gives an idea of how widely the values are spread out.\n",
    "\n",
    "\n",
    "   Example: Suppose you have a dataset of exam scores for a class of students: {65, 70, 75, 80, 85}. The range would be 85 (maximum score) - 65 (minimum score) = 20.\n",
    "\n",
    "\n",
    "2. Variance: Variance measures the average squared deviation of each data point from the mean of the dataset. It provides a measure of the overall variability within the dataset.\n",
    "\n",
    "\n",
    "   Example: Continuing with the exam scores example, suppose the mean score is 75. The deviations from the mean are {-10, -5, 0, 5, 10}. Squaring these deviations gives {100, 25, 0, 25, 100}. The variance is the average of these squared deviations, which is (100 + 25 + 0 + 25 + 100) / 5 = 50.\n",
    "\n",
    "\n",
    "3. Standard Deviation: Standard deviation is the square root of the variance. It provides a measure of how much individual data points deviate from the mean, in the same units as the original data.\n",
    "\n",
    "\n",
    "   Example: Using the same exam scores dataset, the variance was calculated to be 50. Therefore, the standard deviation is the square root of 50, which is approximately 7.07.\n",
    "\n",
    "\n",
    "These measures of dispersion help to quantify the spread of data points around the central tendency and provide important insights into the variability of the dataset."
   ]
  },
  {
   "cell_type": "markdown",
   "id": "73480952",
   "metadata": {},
   "source": [
    "### Q6. What is a Venn diagram?"
   ]
  },
  {
   "cell_type": "markdown",
   "id": "e65ffa14",
   "metadata": {},
   "source": [
    "A Venn diagram is a graphical representation used to illustrate the relationships between different sets of items. It consists of overlapping circles or other shapes, with each circle representing a set and the overlapping areas representing the intersections between the sets. Venn diagrams are named after John Venn, a British logician and philosopher who introduced them in the late 19th century.\n",
    "\n",
    "In a Venn diagram:\n",
    "\n",
    "- Each circle represents a set, and the elements of that set are depicted within the circle.\n",
    "- The overlapping areas between circles represent the elements that are common to the sets involved in the overlap.\n",
    "- The non-overlapping regions within each circle represent elements that are unique to that particular set.\n",
    "\n",
    "Venn diagrams are commonly used in various fields, including mathematics, logic, statistics, computer science, and business, to visually represent relationships between different categories, groups, or characteristics. They are particularly useful for illustrating concepts related to set theory, logical reasoning, and the analysis of data with multiple attributes or categories."
   ]
  },
  {
   "cell_type": "markdown",
   "id": "2f017369",
   "metadata": {},
   "source": [
    "### Q7. For the two given sets A = (2,3,4,5,6,7) & B = (0,2,6,8,10). Find:\n",
    "### (i) A intersection B\n",
    "### (ii) A ⋃ B"
   ]
  },
  {
   "cell_type": "code",
   "execution_count": 11,
   "id": "5ece59e6",
   "metadata": {},
   "outputs": [
    {
     "data": {
      "text/plain": [
       "{2, 6}"
      ]
     },
     "execution_count": 11,
     "metadata": {},
     "output_type": "execute_result"
    }
   ],
   "source": [
    "A = {2,3,4,5,6,7}\n",
    "B = {0,2,6,8,10}\n",
    " \n",
    "A.intersection(B)"
   ]
  },
  {
   "cell_type": "code",
   "execution_count": 12,
   "id": "524b3f65",
   "metadata": {},
   "outputs": [
    {
     "data": {
      "text/plain": [
       "{0, 2, 3, 4, 5, 6, 7, 8, 10}"
      ]
     },
     "execution_count": 12,
     "metadata": {},
     "output_type": "execute_result"
    }
   ],
   "source": [
    "A.union(B)"
   ]
  },
  {
   "cell_type": "markdown",
   "id": "546e2938",
   "metadata": {},
   "source": [
    "### Q8. What do you understand about skewness in data?"
   ]
  },
  {
   "cell_type": "markdown",
   "id": "e115ebbb",
   "metadata": {},
   "source": [
    "Skewness in data refers to the measure of asymmetry in the distribution of values within a dataset. In a symmetric distribution, the values are evenly distributed around the mean, resulting in a balanced shape. However, in a skewed distribution, the values are not evenly distributed, and the distribution may be characterized by a longer tail on one side than the other.\n",
    "\n",
    "There are two main types of skewness:\n",
    "\n",
    "1. Positive skewness (right-skewed): In a positively skewed distribution, the tail of the distribution extends to the right, meaning that the majority of the data points are concentrated on the left side of the distribution. The mean is typically greater than the median, and the mode is less than the median. This skewness often occurs when there are a few large outliers in the data.\n",
    "\n",
    "2. Negative skewness (left-skewed): In a negatively skewed distribution, the tail of the distribution extends to the left, indicating that the majority of the data points are concentrated on the right side of the distribution. The mean is typically less than the median, and the mode is greater than the median. Negative skewness often occurs when there are a few small outliers in the data.\n",
    "\n",
    "Skewness is an important characteristic of a dataset as it provides insights into the shape and symmetry of the distribution. Understanding skewness helps analysts and researchers make informed decisions about which measures of central tendency and dispersion are most appropriate for summarizing and analyzing the data. Additionally, skewness can impact the performance of statistical models and should be taken into account during data analysis and interpretation."
   ]
  },
  {
   "cell_type": "markdown",
   "id": "6619ae94",
   "metadata": {},
   "source": [
    "### Q9. If a data is right skewed then what will be the position of median with respect to mean?"
   ]
  },
  {
   "cell_type": "markdown",
   "id": "9cba2c30",
   "metadata": {},
   "source": [
    "In a right-skewed distribution, the tail of the distribution extends towards the higher values, meaning that the majority of the data points are concentrated on the lower end of the distribution. In such a distribution:\n",
    "\n",
    "- The mean is typically greater than the median.\n",
    "- The median is generally closer to the lower end of the distribution where most of the data points are concentrated.\n",
    "- The tail on the right side pulls the mean towards higher values, resulting in a higher mean compared to the median.\n",
    "\n",
    "So, in a right-skewed distribution, the position of the median will be lower than that of the mean."
   ]
  },
  {
   "cell_type": "markdown",
   "id": "aeeb0e44",
   "metadata": {},
   "source": [
    "### Q10. Explain the difference between covariance and correlation. How are these measures used in statistical analysis?"
   ]
  },
  {
   "cell_type": "markdown",
   "id": "12ab86cd",
   "metadata": {},
   "source": [
    "Covariance and correlation are both measures used to quantify the relationship between two variables in statistical analysis, but they have some key differences:\n",
    "\n",
    "1. Covariance:\n",
    "   - Covariance measures the degree to which two variables change together. It indicates the direction of the linear relationship between the variables (positive, negative, or no relationship) and the strength of that relationship.\n",
    "   - Mathematically, covariance is calculated as the average of the products of the deviations of corresponding values of the two variables from their respective means.\n",
    "   - The units of covariance are the product of the units of the two variables, which can make interpretation difficult, especially when the variables are measured in different units.\n",
    "   - Covariance can take on any value, positive, negative, or zero, depending on the nature of the relationship between the variables.\n",
    "\n",
    "2. Correlation:\n",
    "   - Correlation is a standardized measure of the linear relationship between two variables. It indicates both the strength and direction of the relationship between the variables.\n",
    "   - Correlation coefficients range from -1 to 1. A correlation coefficient of 1 indicates a perfect positive linear relationship, -1 indicates a perfect negative linear relationship, and 0 indicates no linear relationship.\n",
    "   - Unlike covariance, correlation is unitless, making it easier to interpret.\n",
    "   - Correlation does not imply causation. A high correlation between two variables does not necessarily mean that one variable causes the other; it only indicates a relationship between them."
   ]
  },
  {
   "cell_type": "markdown",
   "id": "566926e2",
   "metadata": {},
   "source": [
    "### Q11. What is the formula for calculating the sample mean? Provide an example calculation for a dataset."
   ]
  },
  {
   "cell_type": "markdown",
   "id": "2c641cde",
   "metadata": {},
   "source": [
    "The formula for calculating the sample mean (\\(\\bar{x}\\)) is:\n",
    "\n",
    "\\[\n",
    "\\bar{x} = \\frac{1}{n} \\sum_{i=1}^{n} x_i\n",
    "\\]\n",
    "\n",
    "Where:\n",
    "- \\(\\bar{x}\\) is the sample mean,\n",
    "- \\(n\\) is the number of observations in the dataset, and\n",
    "- \\(x_i\\) represents each individual observation in the dataset.\n",
    "\n",
    "To calculate the sample mean, you sum up all the values in the dataset and then divide the sum by the total number of observations.\n",
    "\n",
    "Example calculation:\n",
    "Suppose we have a dataset of exam scores for a class of students: {75, 80, 85, 90, 95}.\n",
    "We want to calculate the sample mean.\n",
    "\n",
    "\\[\n",
    "\\bar{x} = \\frac{1}{5} (75 + 80 + 85 + 90 + 95)\n",
    "\\]\n",
    "\\[\n",
    "\\bar{x} = \\frac{1}{5} (425)\n",
    "\\]\n",
    "\\[\n",
    "\\bar{x} = \\frac{425}{5}\n",
    "\\]\n",
    "\\[\n",
    "\\bar{x} = 85\n",
    "\\]\n",
    "\n",
    "So, the sample mean of the dataset is 85."
   ]
  },
  {
   "cell_type": "markdown",
   "id": "1012d6b3",
   "metadata": {},
   "source": [
    "### Q12. For a normal distribution data what is the relationship between its measure of central tendency?"
   ]
  },
  {
   "cell_type": "markdown",
   "id": "275c29ee",
   "metadata": {},
   "source": [
    "In a normal distribution, the relationship between its measures of central tendency—mean, median, and mode—is as follows:\n",
    "\n",
    "1. Mean: In a normal distribution, the mean (\\(\\mu\\)) is located at the center of the distribution, and it is equal to the median (\\(M\\)). This means that half of the data points fall to the left of the mean, and half fall to the right. The mean is the arithmetic average of all data points and is often used as a measure of central tendency.\n",
    "\n",
    "2. Median: As mentioned, in a normal distribution, the median (\\(M\\)) is equal to the mean (\\(\\mu\\)). This implies that the distribution is symmetric around the median, with an equal number of data points lying on either side of it. The median represents the middle value when the data points are arranged in ascending or descending order.\n",
    "\n",
    "3. Mode: In a normal distribution, the mode (\\(Mo\\)) is also equal to the mean (\\(\\mu\\)) and the median (\\(M\\)). This indicates that the peak of the distribution, where the data are most concentrated, aligns with both the mean and the median. In a perfectly symmetrical normal distribution, there is only one mode."
   ]
  },
  {
   "cell_type": "markdown",
   "id": "b60b457b",
   "metadata": {},
   "source": [
    "### Q13. How is covariance different from correlation?"
   ]
  },
  {
   "cell_type": "markdown",
   "id": "e87ea7f0",
   "metadata": {},
   "source": [
    "Covariance and correlation are both measures used to assess the relationship between two variables, but they have some fundamental differences:\n",
    "\n",
    "1. Definition:\n",
    "   - Covariance measures the degree to which two variables change together. It indicates the direction of the linear relationship between the variables (positive, negative, or no relationship) and the strength of that relationship.\n",
    "   - Correlation, on the other hand, is a standardized measure of the linear relationship between two variables. It not only indicates the direction and strength of the relationship but also scales the relationship to be between -1 and 1, making it easier to interpret.\n",
    "\n",
    "2. Units:\n",
    "   - Covariance is measured in the units of the product of the two variables. This can make interpretation difficult, especially when the variables are measured in different units.\n",
    "   - Correlation, however, is unitless. It provides a standardized measure of association between variables, allowing for easier comparison across different datasets or variables measured in different units.\n",
    "\n",
    "3. Range:\n",
    "   - Covariance can take on any value, positive, negative, or zero, depending on the nature of the relationship between the variables.\n",
    "   - Correlation coefficients range from -1 to 1. A correlation coefficient of 1 indicates a perfect positive linear relationship, -1 indicates a perfect negative linear relationship, and 0 indicates no linear relationship.\n",
    "\n",
    "4. Interpretation:\n",
    "   - Covariance provides information about the direction of the relationship between two variables (positive or negative) and the magnitude of that relationship. However, the magnitude is not standardized, so it can be difficult to compare covariances across different datasets or variables.\n",
    "   - Correlation, being a standardized measure, provides a more interpretable measure of the strength and direction of the linear relationship between two variables. It is easier to interpret and compare across different datasets or variables."
   ]
  },
  {
   "cell_type": "markdown",
   "id": "06cda1b3",
   "metadata": {},
   "source": [
    "### Q14. How do outliers affect measures of central tendency and dispersion? Provide an example."
   ]
  },
  {
   "cell_type": "markdown",
   "id": "d99ba1fe",
   "metadata": {},
   "source": [
    "Outliers can have a significant impact on measures of central tendency and dispersion:\n",
    "\n",
    "1. Measures of Central Tendency:\n",
    "   - Outliers can heavily influence the mean, pulling it towards their extreme values. This effect can result in a mean that does not accurately represent the typical value of the dataset.\n",
    "   - The median is less affected by outliers because it is resistant to extreme values. It represents the middle value of the dataset, so outliers have less impact on its calculation.\n",
    "   - The mode may or may not be affected by outliers, depending on their frequency and magnitude. If the outliers occur with high frequency, they may influence the mode.\n",
    "\n",
    "2. Measures of Dispersion:\n",
    "   - Outliers can increase the range of the dataset, as they often have values far from the rest of the data. The range is the difference between the maximum and minimum values, so outliers can widen this difference.\n",
    "   - Outliers can also inflate the variance and standard deviation, particularly if they are far from the mean. Since these measures are based on deviations from the mean, outliers can increase the squared deviations, leading to larger variance and standard deviation values.\n",
    "\n",
    "Example:\n",
    "Consider a dataset representing the salaries of employees in a company:\n",
    "\n",
    "Original dataset: {30000, 35000, 40000, 45000, 50000}\n",
    "\n",
    "Now, suppose there's an outlier in the dataset:\n",
    "\n",
    "Modified dataset: {30000, 35000, 40000, 45000, 150000}\n",
    "\n",
    "The mean of the original dataset is (30000 + 35000 + 40000 + 45000 + 50000) / 5 = 40000.\n",
    "However, the mean of the modified dataset is (30000 + 35000 + 40000 + 45000 + 150000) / 5 = 52000.\n",
    "\n",
    "You can see how the outlier drastically affects the mean, increasing it significantly.\n",
    "\n",
    "Similarly, the range of the original dataset is 50000 - 30000 = 20000, while the range of the modified dataset is 150000 - 30000 = 120000, showing the impact of the outlier on the range.\n",
    "\n",
    "Therefore, outliers can distort the measures of central tendency and dispersion, highlighting the importance of identifying and addressing them appropriately in data analysis."
   ]
  },
  {
   "cell_type": "code",
   "execution_count": null,
   "id": "dd9cede7",
   "metadata": {},
   "outputs": [],
   "source": []
  }
 ],
 "metadata": {
  "kernelspec": {
   "display_name": "Python 3 (ipykernel)",
   "language": "python",
   "name": "python3"
  },
  "language_info": {
   "codemirror_mode": {
    "name": "ipython",
    "version": 3
   },
   "file_extension": ".py",
   "mimetype": "text/x-python",
   "name": "python",
   "nbconvert_exporter": "python",
   "pygments_lexer": "ipython3",
   "version": "3.9.13"
  }
 },
 "nbformat": 4,
 "nbformat_minor": 5
}
