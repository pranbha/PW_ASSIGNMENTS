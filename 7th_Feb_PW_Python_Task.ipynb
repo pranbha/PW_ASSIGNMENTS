{
 "cells": [
  {
   "cell_type": "markdown",
   "id": "1b93a1a6",
   "metadata": {},
   "source": [
    "Q1. You are writing code for a company. The requirement of the company is that you create a python\n",
    "function that will check whether the password entered by the user is correct or not. The function should\n",
    "take the password as input and return the string “Valid Password” if the entered password follows the\n",
    "below-given password guidelines else it should return “Invalid Password”.\n",
    "Note: 1. The Password should contain at least two uppercase letters and at least two lowercase letters.\n",
    "2. The Password should contain at least a number and three special characters.\n",
    "3. The length of the password should be 10 characters long."
   ]
  },
  {
   "cell_type": "code",
   "execution_count": 29,
   "id": "a671eada",
   "metadata": {},
   "outputs": [
    {
     "name": "stdout",
     "output_type": "stream",
     "text": [
      "Enter password: He@#oH$ll5\n",
      "Valid Password\n"
     ]
    }
   ],
   "source": [
    "upper = 0\n",
    "lower = 0\n",
    "num = 0\n",
    "special = 0\n",
    "def check_password(password1):\n",
    "    global upper\n",
    "    global lower\n",
    "    global num\n",
    "    global special\n",
    "    if len(password1) == 10:\n",
    "        for i in password1:\n",
    "            if i.isupper():\n",
    "                upper = upper + 1\n",
    "            if i.islower():\n",
    "                lower = lower + 1\n",
    "            if i.isnumeric():\n",
    "                num = num + 1\n",
    "            if i.isalpha():  \n",
    "                continue\n",
    "            elif i.isdigit():\n",
    "                continue\n",
    "            else: \n",
    "                special += 1\n",
    "        if upper >= 2:\n",
    "            if lower >= 2:\n",
    "                if num >=1:\n",
    "                    if special >= 3:\n",
    "                        print(\"Valid Password\")\n",
    "                    else:\n",
    "                        print(\"Enter atleast three special characters\")\n",
    "                else:\n",
    "                    print(\"Enter atleast 1 number\")\n",
    "            else:\n",
    "                print(\"Enter atleast two lower case alphabets\")\n",
    "        else:\n",
    "            print(\"Enter atleast two upper case alphabets\")\n",
    "                \n",
    "    else:\n",
    "        print(\"Invalid Password\")\n",
    "        \n",
    "password = input(\"Enter password: \")\n",
    "check_password(password)"
   ]
  },
  {
   "cell_type": "markdown",
   "id": "0825c293",
   "metadata": {},
   "source": [
    "Q2. Solve the below-given questions using at least one of the following:\n",
    "1. Lambda function\n",
    "2. Filter function\n",
    "3. Map function\n",
    "4. List Comprehension\n",
    "\n",
    "Check if the string starts with a particular letter"
   ]
  },
  {
   "cell_type": "code",
   "execution_count": 3,
   "id": "1816c04f",
   "metadata": {},
   "outputs": [
    {
     "name": "stdout",
     "output_type": "stream",
     "text": [
      "True\n"
     ]
    }
   ],
   "source": [
    "starts_with = lambda string, letter : string[0] == letter\n",
    "print(starts_with(\"good\", \"g\"))"
   ]
  },
  {
   "cell_type": "markdown",
   "id": "adb1cc04",
   "metadata": {},
   "source": [
    "Check if the string is numeric."
   ]
  },
  {
   "cell_type": "code",
   "execution_count": 5,
   "id": "fb51896d",
   "metadata": {},
   "outputs": [
    {
     "name": "stdout",
     "output_type": "stream",
     "text": [
      "False\n"
     ]
    }
   ],
   "source": [
    "check_numeric = lambda string : string.isnumeric()\n",
    "print(check_numeric(\"123\"))"
   ]
  },
  {
   "cell_type": "markdown",
   "id": "7efe97d6",
   "metadata": {},
   "source": [
    "Sort a list of tuples having fruit names and their quantity. [(\"mango\",99),(\"orange\",80), (\"grapes\", 1000)]"
   ]
  },
  {
   "cell_type": "code",
   "execution_count": 6,
   "id": "3e63aad6",
   "metadata": {},
   "outputs": [
    {
     "name": "stdout",
     "output_type": "stream",
     "text": [
      "[('orange', 80), ('mango', 99), ('grapes', 1000)]\n"
     ]
    }
   ],
   "source": [
    "fruits = [(\"mango\", 99), (\"orange\", 80), (\"grapes\", 1000)]\n",
    "sorted_fruits = sorted(fruits, key=lambda x: x[1])\n",
    "print(sorted_fruits)"
   ]
  },
  {
   "cell_type": "markdown",
   "id": "e577d6be",
   "metadata": {},
   "source": [
    "Find the squares of numbers from 1 to 10."
   ]
  },
  {
   "cell_type": "code",
   "execution_count": 7,
   "id": "4237450d",
   "metadata": {},
   "outputs": [
    {
     "name": "stdout",
     "output_type": "stream",
     "text": [
      "[1, 4, 9, 16, 25, 36, 49, 64, 81, 100]\n"
     ]
    }
   ],
   "source": [
    "l = [1,2,3,4,5,6,7,8,9,10]\n",
    "square_list = list(map(lambda x : x**2, l))\n",
    "print(square_list)"
   ]
  },
  {
   "cell_type": "markdown",
   "id": "78517410",
   "metadata": {},
   "source": [
    "Find the cube root of numbers from 1 to 10."
   ]
  },
  {
   "cell_type": "code",
   "execution_count": 8,
   "id": "59c114ed",
   "metadata": {},
   "outputs": [
    {
     "name": "stdout",
     "output_type": "stream",
     "text": [
      "[1, 8, 27, 64, 125, 216, 343, 512, 729, 1000]\n"
     ]
    }
   ],
   "source": [
    "l = [1,2,3,4,5,6,7,8,9,10]\n",
    "cube_list = list(map(lambda x : x**3, l))\n",
    "print(cube_list)"
   ]
  },
  {
   "cell_type": "markdown",
   "id": "73386cd7",
   "metadata": {},
   "source": [
    "Check if a given number is even."
   ]
  },
  {
   "cell_type": "code",
   "execution_count": 14,
   "id": "877ce6fb",
   "metadata": {},
   "outputs": [
    {
     "name": "stdout",
     "output_type": "stream",
     "text": [
      "True\n",
      "False\n"
     ]
    }
   ],
   "source": [
    "def is_even(number):\n",
    "    return number % 2 == 0\n",
    "print(is_even(2)) # True\n",
    "print(is_even(3))"
   ]
  },
  {
   "cell_type": "markdown",
   "id": "cc4b8350",
   "metadata": {},
   "source": [
    "Filter odd numbers from the given list.\n",
    "[1,2,3,4,5,6,7,8,9,10]"
   ]
  },
  {
   "cell_type": "code",
   "execution_count": 15,
   "id": "c40090a2",
   "metadata": {},
   "outputs": [
    {
     "name": "stdout",
     "output_type": "stream",
     "text": [
      "[1, 3, 5, 7, 9]\n"
     ]
    }
   ],
   "source": [
    "l = [1,2,3,4,5,6,7,8,9,10]\n",
    "odd_list = list(filter(lambda x : x%2 != 0, l))\n",
    "print(odd_list)"
   ]
  },
  {
   "cell_type": "markdown",
   "id": "f9a89ea5",
   "metadata": {},
   "source": [
    "Sort a list of integers into positive and negative integers lists.\n",
    "[1,2,3,4,5,6,-1,-2,-3,-4,-5,0]"
   ]
  },
  {
   "cell_type": "code",
   "execution_count": 16,
   "id": "8082706f",
   "metadata": {},
   "outputs": [
    {
     "name": "stdout",
     "output_type": "stream",
     "text": [
      "[1, 2, 3, 4, 5, 6, 0]\n",
      "[-1, -2, -3, -4, -5]\n"
     ]
    }
   ],
   "source": [
    "l = [1,2,3,4,5,6,-1,-2,-3,-4,-5,0]\n",
    "postive_numbers = [x for x in l if x>=0]\n",
    "negative_numbers = [x for x in l if x<0]\n",
    "print(postive_numbers)\n",
    "print(negative_numbers)"
   ]
  },
  {
   "cell_type": "code",
   "execution_count": null,
   "id": "5f5c940a",
   "metadata": {},
   "outputs": [],
   "source": []
  }
 ],
 "metadata": {
  "kernelspec": {
   "display_name": "Python 3 (ipykernel)",
   "language": "python",
   "name": "python3"
  },
  "language_info": {
   "codemirror_mode": {
    "name": "ipython",
    "version": 3
   },
   "file_extension": ".py",
   "mimetype": "text/x-python",
   "name": "python",
   "nbconvert_exporter": "python",
   "pygments_lexer": "ipython3",
   "version": "3.9.13"
  }
 },
 "nbformat": 4,
 "nbformat_minor": 5
}
