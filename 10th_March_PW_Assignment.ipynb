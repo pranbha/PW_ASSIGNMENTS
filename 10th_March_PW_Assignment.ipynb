{
 "cells": [
  {
   "cell_type": "markdown",
   "id": "546156db",
   "metadata": {},
   "source": [
    "### Q1: What is Estimation Statistics? Explain point estimate and interval estimate."
   ]
  },
  {
   "cell_type": "markdown",
   "id": "2389e4a6",
   "metadata": {},
   "source": [
    "Estimation statistics involves using sample data to make inferences or estimations about population parameters. There are two main types of estimation: point estimation and interval estimation.\n",
    "\n",
    "1. Point Estimate: This involves using a single value, typically derived from sample data, to estimate a population parameter. For example, if you want to estimate the average height of students in a school, you might calculate the mean height of a sample of students and use that as your point estimate for the average height of all students in the school.\n",
    "\n",
    "2. Interval Estimate: Unlike point estimates, interval estimates provide a range of values within which the true population parameter is likely to lie, along with a level of confidence. This range is called a confidence interval. For example, instead of just providing a single value for the average height of students, an interval estimate might be \"the average height of students is between 160 cm and 170 cm with 95% confidence.\" This indicates a level of uncertainty around the estimate."
   ]
  },
  {
   "cell_type": "markdown",
   "id": "d6971517",
   "metadata": {},
   "source": [
    "### Q2. Write a Python function to estimate the population mean using a sample mean and standard deviation."
   ]
  },
  {
   "cell_type": "code",
   "execution_count": 1,
   "id": "53060a2d",
   "metadata": {},
   "outputs": [
    {
     "name": "stdout",
     "output_type": "stream",
     "text": [
      "Estimated population mean: 50\n"
     ]
    }
   ],
   "source": [
    "def estimate_population_mean(sample_mean, sample_std_dev, sample_size):\n",
    "    import math\n",
    "    standard_error = sample_std_dev / math.sqrt(sample_size)\n",
    "    population_mean = sample_mean\n",
    "    return population_mean\n",
    "\n",
    "sample_mean = 50\n",
    "sample_std_dev = 10\n",
    "sample_size = 100\n",
    "estimated_population_mean = estimate_population_mean(sample_mean, sample_std_dev, sample_size)\n",
    "print(\"Estimated population mean:\", estimated_population_mean)\n"
   ]
  },
  {
   "cell_type": "markdown",
   "id": "9edd7d63",
   "metadata": {},
   "source": [
    "### Q3: What is Hypothesis testing? Why is it used? State the importance of Hypothesis testing."
   ]
  },
  {
   "cell_type": "markdown",
   "id": "183a2e9a",
   "metadata": {},
   "source": [
    "Hypothesis testing is a statistical method used to make inferences about a population based on sample data. It involves formulating a hypothesis about a population parameter, collecting sample data, and then using statistical tests to determine whether the data provide enough evidence to reject or fail to reject the hypothesis.\n",
    "\n",
    "The two main types of hypotheses in hypothesis testing are the null hypothesis (H0) and the alternative hypothesis (H1). The null hypothesis represents a default assumption or a statement of no effect, while the alternative hypothesis represents the opposite or the hypothesis we are trying to support.\n",
    "\n",
    "Hypothesis testing is used for several reasons:\n",
    "\n",
    "1. Making Inferences: It allows researchers to draw conclusions about populations based on sample data. By testing hypotheses, researchers can determine whether observed differences or effects are statistically significant and not due to random chance.\n",
    "\n",
    "2. Decision Making: Hypothesis testing provides a systematic framework for decision-making in various fields such as medicine, economics, psychology, and many others. It helps in determining whether to accept or reject a proposed hypothesis, which can have important implications for policy, business, and research.\n",
    "\n",
    "4. Quality Control: In industries such as manufacturing, hypothesis testing is used to ensure product quality and consistency. By testing hypotheses about product specifications and quality standards, companies can identify and address issues related to production processes, materials, or equipment."
   ]
  },
  {
   "cell_type": "markdown",
   "id": "49e8ceab",
   "metadata": {},
   "source": [
    "### Q4. Create a hypothesis that states whether the average weight of male college students is greater than the average weight of female college students."
   ]
  },
  {
   "cell_type": "markdown",
   "id": "3bcabf95",
   "metadata": {},
   "source": [
    "Sure, here's a hypothesis statement regarding the average weight of male college students compared to female college students:\n",
    "\n",
    "Null Hypothesis (H0):The average weight of male college students is greater than the average weight of female college students. \n",
    "\n",
    "Alternative Hypothesis (H1): The average weight of male college students is equal to or less than the average weight of female college students.\n",
    "\n",
    "\n",
    "In statistical notation:\n",
    "\n",
    "- Null Hypothesis (H0): μ_male ≤ μ_female\n",
    "- Alternative Hypothesis (H1): μ_male > μ_female\n",
    "\n",
    "Here, μ_male represents the population mean weight of male college students, and μ_female represents the population mean weight of female college students.\n",
    "\n",
    "This hypothesis can be tested using appropriate statistical methods, such as a one-tailed t-test or z-test, with sample data collected from both groups of college students. The results of the test would provide evidence to either accept or reject the null hypothesis in favor of the alternative hypothesis."
   ]
  },
  {
   "cell_type": "markdown",
   "id": "4e752565",
   "metadata": {},
   "source": [
    "### Q5. Write a Python script to conduct a hypothesis test on the difference between two population means, given a sample from each population."
   ]
  },
  {
   "cell_type": "code",
   "execution_count": 2,
   "id": "27fa0d80",
   "metadata": {},
   "outputs": [
    {
     "name": "stdout",
     "output_type": "stream",
     "text": [
      "Independent Samples t-test:\n",
      "Test Statistic: 1.8000000000000043\n",
      "P-value: 0.10955300864412748\n",
      "Fail to reject the null hypothesis. There is no significant difference between the population means.\n"
     ]
    },
    {
     "data": {
      "text/plain": [
       "(1.8000000000000043, 0.10955300864412748)"
      ]
     },
     "execution_count": 2,
     "metadata": {},
     "output_type": "execute_result"
    }
   ],
   "source": [
    "from scipy import stats\n",
    "\n",
    "def conduct_hypothesis_test(sample1, sample2, alpha=0.05):\n",
    "    test_statistic, p_value = stats.ttest_ind(sample1, sample2)\n",
    "    \n",
    "    print(\"Independent Samples t-test:\")\n",
    "    print(\"Test Statistic:\", test_statistic)\n",
    "    print(\"P-value:\", p_value)\n",
    "\n",
    "    # Check if the null hypothesis can be rejected\n",
    "    if p_value < alpha:\n",
    "        print(\"Reject the null hypothesis. There is a significant difference between the population means.\")\n",
    "    else:\n",
    "        print(\"Fail to reject the null hypothesis. There is no significant difference between the population means.\")\n",
    "\n",
    "    return test_statistic, p_value\n",
    "\n",
    "sample1 = [70, 72, 75, 68, 71]  \n",
    "sample2 = [65, 68, 63, 72, 70]  \n",
    "\n",
    "conduct_hypothesis_test(sample1, sample2)"
   ]
  },
  {
   "cell_type": "markdown",
   "id": "d1c4a504",
   "metadata": {},
   "source": [
    "### Q6: What is a null and alternative hypothesis? Give some examples."
   ]
  },
  {
   "cell_type": "markdown",
   "id": "fa33938e",
   "metadata": {},
   "source": [
    "In statistical hypothesis testing, the null hypothesis (H0) and the alternative hypothesis (H1) are two complementary statements that are used to formulate and test hypotheses about population parameters. Here are definitions and examples of both:\n",
    "\n",
    "1. Null Hypothesis (H0):\n",
    "   - The null hypothesis represents a default assumption or a statement of no effect.\n",
    "   - It suggests that there is no difference, no effect, or no relationship between variables in the population.\n",
    "   - In hypothesis testing, the null hypothesis is typically what we aim to either reject or fail to reject.\n",
    "   - It is denoted by H0.\n",
    "   - Example: \n",
    "     - H0: The average IQ score of students who receive tutoring is equal to the average IQ score of students who do not receive tutoring.\n",
    "\n",
    "2. Alternative Hypothesis (H1):\n",
    "   - The alternative hypothesis represents the opposite or the hypothesis we are trying to support.\n",
    "   - It suggests that there is a difference, an effect, or a relationship between variables in the population.\n",
    "   - In hypothesis testing, the alternative hypothesis is what we are testing the null hypothesis against.\n",
    "   - It is denoted by H1.\n",
    "   - Example:\n",
    "     - H1: The average IQ score of students who receive tutoring is higher than the average IQ score of students who do not receive tutoring.\n",
    "\n",
    "Here are a few more examples:\n",
    "\n",
    "- Example 1:\n",
    "  - H0: The mean cholesterol level of patients taking Drug A is the same as the mean cholesterol level of patients taking a placebo.\n",
    "  - H1: The mean cholesterol level of patients taking Drug A is different from the mean cholesterol level of patients taking a placebo.\n",
    "\n",
    "- Example 2:\n",
    "  - H0: The proportion of voters in favor of Proposition X is 0.5.\n",
    "  - H1: The proportion of voters in favor of Proposition X is not equal to 0.5."
   ]
  },
  {
   "cell_type": "markdown",
   "id": "00489278",
   "metadata": {},
   "source": [
    "### Q7: Write down the steps involved in hypothesis testing."
   ]
  },
  {
   "cell_type": "markdown",
   "id": "7952c02b",
   "metadata": {},
   "source": [
    "1. Define Null Hypothesis\n",
    "2. Define Alternate Hypothesis\n",
    "3. Perform Experiments and statistical analysis to collect proofs\n",
    "4. Make decision to accept or reject the null hypothesis"
   ]
  },
  {
   "cell_type": "markdown",
   "id": "c6eaf791",
   "metadata": {},
   "source": [
    "### Q8. Define p-value and explain its significance in hypothesis testing."
   ]
  },
  {
   "cell_type": "markdown",
   "id": "31cb53af",
   "metadata": {},
   "source": [
    "The p-value, or probability value, is a measure used in hypothesis testing to determine the strength of evidence against the null hypothesis (H0). It represents the probability of observing the test statistic or a more extreme value, assuming that the null hypothesis is true. The smaller the p-value, the stronger the evidence against the null hypothesis, and the more likely it is to reject the null hypothesis in favor of the alternative hypothesis (H1).\n",
    "\n",
    "Here's a more detailed explanation of the significance of the p-value in hypothesis testing:\n",
    "\n",
    "1. Interpretation:\n",
    "   - If the p-value is small (typically less than the chosen significance level α, commonly 0.05), it indicates that the observed data are unlikely to have occurred under the assumption that the null hypothesis is true. In other words, there is strong evidence against the null hypothesis, and it may be appropriate to reject it.\n",
    "   - If the p-value is large, it suggests that the observed data are consistent with the null hypothesis. There is insufficient evidence to reject the null hypothesis, and it may be concluded that the observed effect is not statistically significant.\n",
    "\n",
    "2. Decision Rule:\n",
    "   - In hypothesis testing, a common decision rule is to compare the p-value to the chosen significance level (α). If the p-value is less than α, reject the null hypothesis. If the p-value is greater than or equal to α, fail to reject the null hypothesis.\n",
    "   - The significance level (α) represents the threshold for rejecting the null hypothesis. It is typically set before conducting the hypothesis test and reflects the acceptable level of Type I error (false positive rate).\n",
    "\n",
    "3. Strength of Evidence:\n",
    "   - The p-value provides a quantitative measure of the strength of evidence against the null hypothesis. A smaller p-value indicates stronger evidence against the null hypothesis, while a larger p-value suggests weaker evidence.\n",
    "   - However, it's important to note that the p-value alone does not provide information about the size or practical significance of the observed effect. It only indicates whether the observed effect is statistically significant."
   ]
  },
  {
   "cell_type": "markdown",
   "id": "b11405ec",
   "metadata": {},
   "source": [
    "### Q9. Generate a Student's t-distribution plot using Python's matplotlib library, with the degrees of freedom parameter set to 10."
   ]
  },
  {
   "cell_type": "code",
   "execution_count": 3,
   "id": "64257486",
   "metadata": {},
   "outputs": [
    {
     "data": {
      "image/png": "[encoded data removed]",
      "text/plain": [
       "<Figure size 800x600 with 1 Axes>"
      ]
     },
     "metadata": {},
     "output_type": "display_data"
    }
   ],
   "source": [
    "import numpy as np\n",
    "import matplotlib.pyplot as plt\n",
    "from scipy.stats import t\n",
    "\n",
    "# Generate x values\n",
    "x = np.linspace(-5, 5, 1000)\n",
    "\n",
    "# Set degrees of freedom\n",
    "df = 10\n",
    "\n",
    "# Calculate y values (probability density function)\n",
    "y = t.pdf(x, df)\n",
    "\n",
    "# Plot the t-distribution\n",
    "plt.figure(figsize=(8, 6))\n",
    "plt.plot(x, y, label='t-distribution (df=10)')\n",
    "plt.title(\"Student's t-Distribution\")\n",
    "plt.xlabel('x')\n",
    "plt.ylabel('Probability Density')\n",
    "plt.legend()\n",
    "plt.grid(True)\n",
    "plt.show()"
   ]
  },
  {
   "cell_type": "markdown",
   "id": "667d0b6e",
   "metadata": {},
   "source": [
    "### Q10. Write a Python program to calculate the two-sample t-test for independent samples, given two random samples of equal size and a null hypothesis that the population means are equal."
   ]
  },
  {
   "cell_type": "code",
   "execution_count": 4,
   "id": "8f4e6507",
   "metadata": {},
   "outputs": [
    {
     "name": "stdout",
     "output_type": "stream",
     "text": [
      "Two-sample t-test results:\n",
      "Test Statistic: 0.08097763301789129\n",
      "P-value: 0.9374489547439401\n"
     ]
    }
   ],
   "source": [
    "from scipy import stats\n",
    "\n",
    "def two_sample_t_test(sample1, sample2):\n",
    "    test_statistic, p_value = stats.ttest_ind(sample1, sample2)\n",
    "    return test_statistic, p_value\n",
    "\n",
    "# Example usage\n",
    "sample1 = [12, 15, 17, 18, 20]\n",
    "sample2 = [10, 14, 16, 19, 22]\n",
    "\n",
    "test_statistic, p_value = two_sample_t_test(sample1, sample2)\n",
    "\n",
    "print(\"Two-sample t-test results:\")\n",
    "print(\"Test Statistic:\", test_statistic)\n",
    "print(\"P-value:\", p_value)"
   ]
  },
  {
   "cell_type": "markdown",
   "id": "e392da92",
   "metadata": {},
   "source": [
    "### Q11: What is Student’s t distribution? When to use the t-Distribution."
   ]
  },
  {
   "cell_type": "markdown",
   "id": "53a85d98",
   "metadata": {},
   "source": [
    "Student's t-distribution, often referred to simply as the t-distribution, is a probability distribution that is similar in shape to the normal distribution but has heavier tails. It is used primarily in hypothesis testing and confidence interval estimation for small sample sizes when the population standard deviation is unknown.\n",
    "\n",
    "The t-distribution is characterized by its degrees of freedom (df), which determine its shape. As the degrees of freedom increase, the t-distribution approaches the shape of the standard normal distribution (i.e., the bell-shaped curve with mean 0 and standard deviation 1).\n",
    "\n",
    "The t-distribution is used in situations where:\n",
    "\n",
    "1. Small Sample Sizes: When the sample size is small (typically less than 30) and the population standard deviation is unknown, the t-distribution is used instead of the normal distribution to account for the increased uncertainty in estimating population parameters.\n",
    "\n",
    "2. Unknown Population Variance: In situations where the population standard deviation is unknown and needs to be estimated from the sample standard deviation, the t-distribution provides a more appropriate distribution for constructing confidence intervals and conducting hypothesis tests.\n",
    "\n",
    "3. Hypothesis Testing: The t-distribution is commonly used in hypothesis testing when comparing sample means from small samples. It allows for the calculation of test statistics, such as the t-test, to assess whether there is a significant difference between sample means or to compare a sample mean to a population mean.\n",
    "\n",
    "4. Confidence Interval Estimation: When estimating the population mean or the difference between population means from small samples, the t-distribution is used to construct confidence intervals. These intervals provide a range of plausible values for the population parameter of interest, accounting for the uncertainty inherent in estimating the population parameter from a sample."
   ]
  },
  {
   "cell_type": "markdown",
   "id": "c92491bb",
   "metadata": {},
   "source": [
    "### Q12: What is t-statistic? State the formula for t-statistic."
   ]
  },
  {
   "cell_type": "markdown",
   "id": "acab4040",
   "metadata": {},
   "source": [
    "The t-statistic (also known as the Student's t-statistic) is a measure used in hypothesis testing to assess whether the difference between two sample means is statistically significant. It is calculated by comparing the difference between the sample means to the variability or standard error of this difference.\n",
    "\n",
    "The formula for the t-statistic in the context of comparing two independent sample means is:\n",
    "\n",
    "\\[ t = \\frac{{\\bar{x}_1 - \\bar{x}_2}}{{s_p \\sqrt{\\frac{1}{n_1} + \\frac{1}{n_2}}} \\]\n",
    "\n",
    "Where:\n",
    "- \\( \\bar{x}_1 \\) and \\( \\bar{x}_2 \\) are the sample means of the two independent samples,\n",
    "- \\( s_p \\) is the pooled standard deviation, which combines the variability of both samples,\n",
    "- \\( n_1 \\) and \\( n_2 \\) are the sample sizes of the two independent samples.\n",
    "\n",
    "The pooled standard deviation \\( s_p \\) is calculated as:\n",
    "\n",
    "\\[ s_p = \\sqrt{\\frac{{(n_1 - 1) \\cdot s^2_1 + (n_2 - 1) \\cdot s^2_2}}{{n_1 + n_2 - 2}}} \\]\n",
    "\n",
    "Where:\n",
    "- \\( s^2_1 \\) and \\( s^2_2 \\) are the sample variances of the two independent samples,\n",
    "- \\( n_1 \\) and \\( n_2 \\) are the sample sizes of the two independent samples.\n",
    "\n",
    "The t-statistic follows a t-distribution with degrees of freedom equal to \\( n_1 + n_2 - 2 \\). It is used to determine the probability of observing the observed difference in sample means if the null hypothesis (typically stating that there is no difference between the population means) is true.\n",
    "\n",
    "In hypothesis testing, the calculated t-statistic is compared to critical values from the t-distribution, or its associated p-value is compared to the chosen significance level (α), to determine whether the null hypothesis should be rejected. If the absolute value of the t-statistic is larger than the critical value or the p-value is less than α, then the null hypothesis is rejected, indicating that there is evidence of a significant difference between the population means."
   ]
  },
  {
   "cell_type": "markdown",
   "id": "bbe62c36",
   "metadata": {},
   "source": [
    "### Q13. A coffee shop owner wants to estimate the average daily revenue for their shop. They take a random sample of 50 days and find the sample mean revenue to be 500 dollar with a standard deviation of 50 dollar. Estimate the population mean revenue with a 95% confidence interval."
   ]
  },
  {
   "cell_type": "markdown",
   "id": "74826548",
   "metadata": {},
   "source": [
    "To estimate the population mean revenue with a 95% confidence interval, we can use the formula for the confidence interval for the population mean when the population standard deviation is known:\n",
    "\n",
    "\\[ \\text{Confidence Interval} = \\bar{x} \\pm Z \\cdot \\frac{\\sigma}{\\sqrt{n}} \\]\n",
    "\n",
    "Where:\n",
    "- \\( \\bar{x} \\) is the sample mean revenue,\n",
    "- \\( Z \\) is the Z-score corresponding to the desired confidence level (95% confidence level corresponds to Z = 1.96),\n",
    "- \\( \\sigma \\) is the population standard deviation (given as $50 in this case),\n",
    "- \\( n \\) is the sample size (given as 50 in this case).\n",
    "\n",
    "Substituting the given values into the formula:\n",
    "\n",
    "\\[ \\text{Confidence Interval} = 500 \\pm 1.96 \\cdot \\frac{50}{\\sqrt{50}} \\]\n",
    "\n",
    "Now, let's calculate the confidence interval:\n",
    "\n",
    "\\[ \\text{Confidence Interval} = 500 \\pm 1.96 \\cdot \\frac{50}{\\sqrt{50}} \\]\n",
    "\\[ \\text{Confidence Interval} = 500 \\pm 1.96 \\cdot \\frac{50}{\\sqrt{50}} \\]\n",
    "\\[ \\text{Confidence Interval} = 500 \\pm 1.96 \\cdot 7.071 \\]\n",
    "\\[ \\text{Confidence Interval} = 500 \\pm 13.853 \\]\n",
    "\n",
    "So, the 95% confidence interval for the population mean revenue is \\( \\$500 \\pm \\$13.853 \\). Therefore, the estimated population mean revenue is between \\( \\$486.147 \\) and \\( \\$513.853 \\) with 95% confidence."
   ]
  },
  {
   "cell_type": "markdown",
   "id": "307a4a9b",
   "metadata": {},
   "source": [
    "### Q14. A researcher hypothesizes that a new drug will decrease blood pressure by 10 mmHg. They conduct a clinical trial with 100 patients and find that the sample mean decrease in blood pressure is 8 mmHg with a standard deviation of 3 mmHg. Test the hypothesis with a significance level of 0.05."
   ]
  },
  {
   "cell_type": "markdown",
   "id": "5b87c1ba",
   "metadata": {},
   "source": [
    "To test the hypothesis that the new drug decreases blood pressure by 10 mmHg, we can conduct a one-sample t-test. \n",
    "\n",
    "The null hypothesis (H0) is that the mean decrease in blood pressure is 10 mmHg, and the alternative hypothesis (H1) is that the mean decrease in blood pressure is not equal to 10 mmHg.\n",
    "\n",
    "Given:\n",
    "- Sample mean (\\( \\bar{x} \\)) = 8 mmHg\n",
    "- Sample standard deviation (\\( s \\)) = 3 mmHg\n",
    "- Sample size (\\( n \\)) = 100\n",
    "- Population mean under the null hypothesis (\\( \\mu_0 \\)) = 10 mmHg\n",
    "- Significance level (\\( \\alpha \\)) = 0.05\n",
    "\n",
    "We can calculate the t-statistic using the formula:\n",
    "\n",
    "\\[ t = \\frac{{\\bar{x} - \\mu_0}}{{s/\\sqrt{n}}} \\]\n",
    "\n",
    "Let's calculate the t-statistic:\n",
    "\n",
    "\\[ t = \\frac{{8 - 10}}{{3/\\sqrt{100}}} = \\frac{{-2}}{{0.3}} = -6.67 \\]\n",
    "\n",
    "Now, we need to compare this t-statistic with the critical value from the t-distribution with 99 degrees of freedom (since df = n - 1 = 100 - 1 = 99) at a significance level of 0.05.\n",
    "\n",
    "We can also use the p-value approach. We'll calculate the p-value associated with the t-statistic and compare it with the significance level."
   ]
  },
  {
   "cell_type": "markdown",
   "id": "7f5e07df",
   "metadata": {},
   "source": [
    "### Q15. An electronics company produces a certain type of product with a mean weight of 5 pounds and a standard deviation of 0.5 pounds. A random sample of 25 products is taken, and the sample mean weight is found to be 4.8 pounds. Test the hypothesis that the true mean weight of the products is less than 5 pounds with a significance level of 0.01."
   ]
  },
  {
   "cell_type": "markdown",
   "id": "ca535462",
   "metadata": {},
   "source": [
    "To test the hypothesis that the true mean weight of the products is less than 5 pounds, we can conduct a one-sample t-test. \n",
    "\n",
    "The null hypothesis (H0) is that the true mean weight is 5 pounds, and the alternative hypothesis (H1) is that the true mean weight is less than 5 pounds.\n",
    "\n",
    "Given:\n",
    "- Population mean (\\( \\mu \\)) = 5 pounds\n",
    "- Population standard deviation (\\( \\sigma \\)) = 0.5 pounds\n",
    "- Sample mean (\\( \\bar{x} \\)) = 4.8 pounds\n",
    "- Sample size (\\( n \\)) = 25\n",
    "- Significance level (\\( \\alpha \\)) = 0.01\n",
    "\n",
    "We can calculate the t-statistic using the formula:\n",
    "\n",
    "\\[ t = \\frac{{\\bar{x} - \\mu}}{{s/\\sqrt{n}}} \\]\n",
    "\n",
    "where \\( s \\) is the sample standard deviation.\n",
    "\n",
    "Let's calculate the t-statistic:\n",
    "\n",
    "\\[ t = \\frac{{4.8 - 5}}{{0.5/\\sqrt{25}}} = \\frac{{4.8 - 5}}{{0.5/5}} = -2 \\]\n",
    "\n",
    "Now, we need to compare this t-statistic with the critical value from the t-distribution with 24 degrees of freedom (since df = n - 1 = 25 - 1 = 24) at a significance level of 0.01.\n",
    "\n",
    "We can also use the p-value approach. We'll calculate the p-value associated with the t-statistic and compare it with the significance level."
   ]
  },
  {
   "cell_type": "code",
   "execution_count": 7,
   "id": "486327c7",
   "metadata": {},
   "outputs": [
    {
     "name": "stdout",
     "output_type": "stream",
     "text": [
      "t-statistic: -2.0000000000000018\n",
      "p-value: 0.02846992496829572\n",
      "Fail to reject the null hypothesis. There is not enough evidence to conclude that the true mean weight of the products is less than 5 pounds.\n"
     ]
    }
   ],
   "source": [
    "from scipy import stats\n",
    "\n",
    "# Given data\n",
    "population_mean = 5\n",
    "population_std = 0.5\n",
    "sample_mean = 4.8\n",
    "sample_size = 25\n",
    "alpha = 0.01\n",
    "\n",
    "# Calculate t-statistic\n",
    "t_statistic = (sample_mean - population_mean) / (population_std / (sample_size ** 0.5))\n",
    "\n",
    "# Calculate p-value\n",
    "p_value = stats.t.sf(abs(t_statistic), sample_size - 1)\n",
    "\n",
    "print(\"t-statistic:\", t_statistic)\n",
    "print(\"p-value:\", p_value)\n",
    "\n",
    "# Decision based on p-value\n",
    "if p_value < alpha:\n",
    "    print(\"Reject the null hypothesis. There is sufficient evidence to conclude that the true mean weight of the products is less than 5 pounds.\")\n",
    "else:\n",
    "    print(\"Fail to reject the null hypothesis. There is not enough evidence to conclude that the true mean weight of the products is less than 5 pounds.\")"
   ]
  },
  {
   "cell_type": "markdown",
   "id": "6457071b",
   "metadata": {},
   "source": [
    "### Q16. Two groups of students are given different study materials to prepare for a test. The first group (n1 = 30) has a mean score of 80 with a standard deviation of 10, and the second group (n2 = 40) has a mean score of 75 with a standard deviation of 8. Test the hypothesis that the population means for the two groups are equal with a significance level of 0.01."
   ]
  },
  {
   "cell_type": "markdown",
   "id": "3cac5502",
   "metadata": {},
   "source": [
    "To test the hypothesis that the population means for the two groups are equal, we can conduct a two-sample t-test for independent samples. \n",
    "\n",
    "The null hypothesis (H0) is that the population means for the two groups are equal, and the alternative hypothesis (H1) is that they are not equal.\n",
    "\n",
    "Given:\n",
    "- Sample mean (\\( \\bar{x}_1 \\)) for Group 1 = 80, with a sample size (\\( n_1 \\)) of 30 and a standard deviation (\\( s_1 \\)) of 10\n",
    "- Sample mean (\\( \\bar{x}_2 \\)) for Group 2 = 75, with a sample size (\\( n_2 \\)) of 40 and a standard deviation (\\( s_2 \\)) of 8\n",
    "- Significance level (\\( \\alpha \\)) = 0.01\n",
    "\n",
    "We can calculate the t-statistic using the formula for independent samples:\n",
    "\n",
    "\\[ t = \\frac{{\\bar{x}_1 - \\bar{x}_2}}{{\\sqrt{\\frac{{s_1^2}}{{n_1}} + \\frac{{s_2^2}}{{n_2}}}} \\]\n",
    "\n",
    "where \\( \\bar{x}_1 \\) and \\( \\bar{x}_2 \\) are the sample means, \\( s_1 \\) and \\( s_2 \\) are the sample standard deviations, and \\( n_1 \\) and \\( n_2 \\) are the sample sizes.\n",
    "\n",
    "Let's calculate the t-statistic:\n",
    "\n",
    "\\[ t = \\frac{{80 - 75}}{{\\sqrt{\\frac{{10^2}}{{30}} + \\frac{{8^2}}{{40}}}} \\]\n",
    "\n",
    "\\[ t = \\frac{{5}}{{\\sqrt{\\frac{{100}}{{30}} + \\frac{{64}}{{40}}}} \\]\n",
    "\n",
    "In this code:\n",
    "- We first calculate the t-statistic using the provided formula.\n",
    "- Then, we calculate the p-value using the `stats.t.sf()` function from scipy.stats, which calculates the survival function (1 - cumulative distribution function) at the given t-statistic. We multiply the result by 2 for the two-tailed test.\n",
    "- Finally, we make a decision based on the p-value: if the p-value is less than the significance level (\\( \\alpha \\)), we reject the null hypothesis; otherwise, we fail to reject the null hypothesis.\n",
    "\n",
    "Based on the calculated p-value, we can make a decision regarding the null hypothesis."
   ]
  },
  {
   "cell_type": "code",
   "execution_count": 9,
   "id": "d62798e4",
   "metadata": {},
   "outputs": [
    {
     "name": "stdout",
     "output_type": "stream",
     "text": [
      "t-statistic: 2.2511258444537408\n",
      "p-value: 0.02761348036769749\n",
      "Fail to reject the null hypothesis. There is not enough evidence to conclude that the population means for the two groups are not equal.\n"
     ]
    }
   ],
   "source": [
    "import numpy as np\n",
    "from scipy import stats\n",
    "\n",
    "# Given data\n",
    "mean1 = 80\n",
    "std1 = 10\n",
    "n1 = 30\n",
    "\n",
    "mean2 = 75\n",
    "std2 = 8\n",
    "n2 = 40\n",
    "\n",
    "alpha = 0.01\n",
    "\n",
    "# Calculate t-statistic\n",
    "std_error = np.sqrt((std1**2 / n1) + (std2**2 / n2))\n",
    "t_statistic = (mean1 - mean2) / std_error\n",
    "\n",
    "# Calculate degrees of freedom\n",
    "degrees_of_freedom = n1 + n2 - 2\n",
    "\n",
    "# Calculate p-value\n",
    "p_value = stats.t.sf(abs(t_statistic), degrees_of_freedom) * 2  # two-tailed test\n",
    "\n",
    "print(\"t-statistic:\", t_statistic)\n",
    "print(\"p-value:\", p_value)\n",
    "\n",
    "# Decision based on p-value\n",
    "if p_value < alpha:\n",
    "    print(\"Reject the null hypothesis. There is sufficient evidence to conclude that the population means for the two groups are not equal.\")\n",
    "else:\n",
    "    print(\"Fail to reject the null hypothesis. There is not enough evidence to conclude that the population means for the two groups are not equal.\")"
   ]
  },
  {
   "cell_type": "markdown",
   "id": "df6a4c3e",
   "metadata": {},
   "source": [
    "### Q17. A marketing company wants to estimate the average number of ads watched by viewers during a TV program. They take a random sample of 50 viewers and find that the sample mean is 4 with a standard deviation of 1.5. Estimate the population mean with a 99% confidence interval."
   ]
  },
  {
   "cell_type": "markdown",
   "id": "61ca63f0",
   "metadata": {},
   "source": [
    "To estimate the population mean with a 99% confidence interval, we can use the formula for the confidence interval for the population mean when the population standard deviation is unknown:\n",
    "\n",
    "\\[ \\text{Confidence Interval} = \\bar{x} \\pm t \\cdot \\frac{s}{\\sqrt{n}} \\]\n",
    "\n",
    "Where:\n",
    "- \\( \\bar{x} \\) is the sample mean,\n",
    "- \\( s \\) is the sample standard deviation,\n",
    "- \\( n \\) is the sample size,\n",
    "- \\( t \\) is the critical value from the t-distribution corresponding to the desired confidence level and degrees of freedom (df = n - 1).\n",
    "\n",
    "Given:\n",
    "- Sample mean (\\( \\bar{x} \\)) = 4\n",
    "- Sample standard deviation (\\( s \\)) = 1.5\n",
    "- Sample size (\\( n \\)) = 50\n",
    "- Confidence level = 99%\n",
    "\n",
    "We need to find the critical value \\( t \\) from the t-distribution with 49 degrees of freedom (since df = n - 1 = 50 - 1 = 49) corresponding to a 99% confidence level.\n",
    "\n",
    "\n",
    "In this code:\n",
    "- We calculate the critical value \\( t \\) from the t-distribution using the `stats.t.ppf()` function from scipy.stats. We use a confidence level of 99% and 49 degrees of freedom.\n",
    "- Then, we calculate the margin of error using the critical value and the sample standard deviation divided by the square root of the sample size.\n",
    "- Finally, we calculate the lower and upper bounds of the confidence interval by subtracting and adding the margin of error, respectively, to the sample mean.\n",
    "\n",
    "This will give us the 99% confidence interval for the population mean number of ads watched by viewers during a TV program."
   ]
  },
  {
   "cell_type": "code",
   "execution_count": 13,
   "id": "323c6167",
   "metadata": {},
   "outputs": [
    {
     "name": "stdout",
     "output_type": "stream",
     "text": [
      "99% Confidence Interval for the population mean:\n",
      "Lower Bound: 3.4314963358572577\n",
      "Upper Bound: 4.568503664142742\n"
     ]
    }
   ],
   "source": [
    "import numpy as np\n",
    "from scipy import stats\n",
    "\n",
    "# Given data\n",
    "sample_mean = 4\n",
    "sample_std = 1.5\n",
    "sample_size = 50\n",
    "confidence_level = 0.99\n",
    "\n",
    "# Calculate critical value (t) for 99% confidence level and 49 degrees of freedom\n",
    "t = stats.t.ppf((1 + confidence_level) / 2, sample_size - 1)\n",
    "\n",
    "# Calculate confidence interval\n",
    "margin_of_error = t * (sample_std / np.sqrt(sample_size))\n",
    "lower_bound = sample_mean - margin_of_error\n",
    "upper_bound = sample_mean + margin_of_error\n",
    "\n",
    "print(\"99% Confidence Interval for the population mean:\")\n",
    "print(\"Lower Bound:\", lower_bound)\n",
    "print(\"Upper Bound:\", upper_bound)"
   ]
  },
  {
   "cell_type": "code",
   "execution_count": null,
   "id": "8818a79d",
   "metadata": {},
   "outputs": [],
   "source": []
  }
 ],
 "metadata": {
  "kernelspec": {
   "display_name": "Python 3 (ipykernel)",
   "language": "python",
   "name": "python3"
  },
  "language_info": {
   "codemirror_mode": {
    "name": "ipython",
    "version": 3
   },
   "file_extension": ".py",
   "mimetype": "text/x-python",
   "name": "python",
   "nbconvert_exporter": "python",
   "pygments_lexer": "ipython3",
   "version": "3.9.13"
  }
 },
 "nbformat": 4,
 "nbformat_minor": 5
}
