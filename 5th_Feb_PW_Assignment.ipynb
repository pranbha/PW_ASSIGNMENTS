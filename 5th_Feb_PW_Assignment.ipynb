{
 "cells": [
  {
   "cell_type": "markdown",
   "id": "558ad9cc",
   "metadata": {},
   "source": [
    "Q1. Explain Class and Object with respect to Object-Oriented Programming. Give a suitable example."
   ]
  },
  {
   "cell_type": "markdown",
   "id": "8a284736",
   "metadata": {},
   "source": [
    "Answer - 1"
   ]
  },
  {
   "cell_type": "code",
   "execution_count": 1,
   "id": "8491e3b6",
   "metadata": {},
   "outputs": [
    {
     "data": {
      "text/plain": [
       "'Object − Objects have states and behaviors. Example: A dog has states - color, name, breed as well as behaviors – wagging the tail, barking, eating. An object is an instance of a class. Class − A class can be defined as a template/blueprint that describes the behavior/state that the object of its type support.'"
      ]
     },
     "execution_count": 1,
     "metadata": {},
     "output_type": "execute_result"
    }
   ],
   "source": [
    "'''Object − Objects have states and behaviors. Example: A dog has states - color, name, breed as well as behaviors – wagging the tail, barking, eating. An object is an instance of a class. Class − A class can be defined as a template/blueprint that describes the behavior/state that the object of its type support.'''"
   ]
  },
  {
   "cell_type": "code",
   "execution_count": 2,
   "id": "a4c3ca7d",
   "metadata": {},
   "outputs": [
    {
     "data": {
      "text/plain": [
       "15"
      ]
     },
     "execution_count": 2,
     "metadata": {},
     "output_type": "execute_result"
    }
   ],
   "source": [
    "class sum:\n",
    "    def __init__(hello, a, b):\n",
    "        hello.a = a\n",
    "        hello.b = b\n",
    "    def sum(hello):\n",
    "        return hello.a + hello.b\n",
    "    \n",
    "add = sum(5, 10)\n",
    "add.sum()"
   ]
  },
  {
   "cell_type": "markdown",
   "id": "0dc2b070",
   "metadata": {},
   "source": [
    "Q2. Name the four pillars of OOPs."
   ]
  },
  {
   "cell_type": "markdown",
   "id": "8e0cad53",
   "metadata": {},
   "source": [
    "Answer - 2"
   ]
  },
  {
   "cell_type": "code",
   "execution_count": 4,
   "id": "aca9a5a5",
   "metadata": {},
   "outputs": [
    {
     "data": {
      "text/plain": [
       "'The Four pillars of OOPs, abstraction, encapsulation, inheritance, and polymorphism, are integral to understanding and using OOPS'"
      ]
     },
     "execution_count": 4,
     "metadata": {},
     "output_type": "execute_result"
    }
   ],
   "source": [
    "'''The Four pillars of OOPs, abstraction, encapsulation, inheritance, and polymorphism, are integral to understanding and using OOPS'''"
   ]
  },
  {
   "cell_type": "markdown",
   "id": "fbb9294d",
   "metadata": {},
   "source": [
    "Q3. Explain why the __init__() function is used. Give a suitable example."
   ]
  },
  {
   "cell_type": "markdown",
   "id": "f4547672",
   "metadata": {},
   "source": [
    "Answer - 3"
   ]
  },
  {
   "cell_type": "code",
   "execution_count": 13,
   "id": "2d10c3b1",
   "metadata": {},
   "outputs": [
    {
     "data": {
      "text/plain": [
       "'Good Morning, Pranjal'"
      ]
     },
     "execution_count": 13,
     "metadata": {},
     "output_type": "execute_result"
    }
   ],
   "source": [
    "'''The __init__ function is called every time an object is created from a class. The __init__ method lets the class initialize the object's attributes and serves no other purpose. It is only used within classes.'''\n",
    "class greet:\n",
    "    def __init__(hello, name):\n",
    "        hello.name = name\n",
    "        \n",
    "    def greet(hello):\n",
    "        return \"Good Morning, \" + hello.name\n",
    "\n",
    "pranjal = greet(\"Pranjal\")\n",
    "pranjal.greet()"
   ]
  },
  {
   "cell_type": "markdown",
   "id": "eb898a8e",
   "metadata": {},
   "source": [
    "Q4. Why self is used in OOPs?"
   ]
  },
  {
   "cell_type": "markdown",
   "id": "d32b7668",
   "metadata": {},
   "source": [
    "Answer - 4"
   ]
  },
  {
   "cell_type": "markdown",
   "id": "0a87ad08",
   "metadata": {},
   "source": [
    "The use of self makes it easier to distinguish between instance attributes (and methods) from local variables. In the first example, self. x is an instance attribute whereas x is a local variable."
   ]
  },
  {
   "cell_type": "markdown",
   "id": "be71ff93",
   "metadata": {},
   "source": [
    "Q5. What is inheritance? Give an example for each type of inheritance."
   ]
  },
  {
   "cell_type": "markdown",
   "id": "c478babc",
   "metadata": {},
   "source": [
    "Inheritance is a mechanism of acquiring the features and behaviors of a class by another class. The class whose members are inherited is called the base class, and the class that inherits those members is called the derived class. Inheritance implements the IS-A relationship."
   ]
  },
  {
   "cell_type": "markdown",
   "id": "7cb60b29",
   "metadata": {},
   "source": [
    "Single inheritance - When child class inherits only a single parent class.\n",
    "\n",
    "e.g\n",
    "class Employee:\n",
    "class programmer(Employee):\n",
    "\n",
    "\n",
    "Multiple inheritance - When child class inherits from more than one parent class.\n",
    "\n",
    "e.g\n",
    "class Employee:\n",
    "class Team_Member:\n",
    "class Programmer(Employee, Team_Member):\n",
    "    \n",
    "Multi-level inheritance - When a child class becomes the parent class of another child class.\n",
    "\n",
    "e.g\n",
    "class Employee:\n",
    "class Team_Member(Employee):\n",
    "class Programmer(Team_Member):\n",
    "    \n",
    "Hierarchical inheritance - When more than one child class is inherited from one(same) parent class.\n",
    "\n",
    "e.g\n",
    "class Employee:\n",
    "class Tester(Employee):\n",
    "class Programmer(Employee):\n",
    "    \n",
    "Hybrid iheritance - The combinations of simple, multiple, multilevel and hierarchical inheritance.\n",
    "\n",
    "e.g\n",
    "class Employee:\n",
    "class Tester(Employee):\n",
    "class Beta-Tester(Tester):\n",
    "class Function_Test(Tester, Beta_Tester):"
   ]
  },
  {
   "cell_type": "markdown",
   "id": "b41b1435",
   "metadata": {},
   "source": []
  },
  {
   "cell_type": "code",
   "execution_count": null,
   "id": "6fca2543",
   "metadata": {},
   "outputs": [],
   "source": []
  }
 ],
 "metadata": {
  "kernelspec": {
   "display_name": "Python 3 (ipykernel)",
   "language": "python",
   "name": "python3"
  },
  "language_info": {
   "codemirror_mode": {
    "name": "ipython",
    "version": 3
   },
   "file_extension": ".py",
   "mimetype": "text/x-python",
   "name": "python",
   "nbconvert_exporter": "python",
   "pygments_lexer": "ipython3",
   "version": "3.9.13"
  }
 },
 "nbformat": 4,
 "nbformat_minor": 5
}
