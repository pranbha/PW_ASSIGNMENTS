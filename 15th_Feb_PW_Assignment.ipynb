{
 "cells": [
  {
   "cell_type": "markdown",
   "id": "42228bac",
   "metadata": {},
   "source": [
    "### Question 1: What is multiprocessing in python? Why is it useful?"
   ]
  },
  {
   "cell_type": "markdown",
   "id": "30ce3303",
   "metadata": {},
   "source": [
    "### Answer -1"
   ]
  },
  {
   "cell_type": "markdown",
   "id": "a87e6359",
   "metadata": {},
   "source": [
    "Multiprocessing in Python refers to the ability to execute multiple processes or tasks simultaneously on multiple processors or cores of a computer, as opposed to executing them in a sequential manner."
   ]
  },
  {
   "cell_type": "markdown",
   "id": "7302a3fc",
   "metadata": {},
   "source": [
    "Multiprocessing is useful in various scenarios, such as:\n",
    "\n",
    "1. CPU-intensive tasks: Multiprocessing can speed up the execution of tasks that require a lot of CPU time, such as image processing, machine learning, and scientific computing.\n",
    "\n",
    "2. Parallel programming: Multiprocessing can be used to implement parallel algorithms, where multiple processes work together to solve a problem.\n",
    "\n",
    "3. Scalability: Multiprocessing can help to scale up the performance of a program as the size of the data or the complexity of the problem increases.\n",
    "\n",
    "4. Fault-tolerance: Multiprocessing can improve the reliability of a program by isolating the processes from each other and preventing errors in one process from affecting the others."
   ]
  },
  {
   "cell_type": "markdown",
   "id": "f47c692f",
   "metadata": {},
   "source": [
    "### Question 2: What are the differences between multiprocessing and multithreading?"
   ]
  },
  {
   "cell_type": "markdown",
   "id": "b80b4b77",
   "metadata": {},
   "source": [
    "### Answer - 2"
   ]
  },
  {
   "cell_type": "markdown",
   "id": "32b6d7fe",
   "metadata": {},
   "source": [
    "|Feature|Multiprocessing|Multithreading|\n",
    "|-------|---------------|--------------|\n",
    "|Execution model|Multiple processes Seperate processor core used for each process|Multiple threads within a single process|\n",
    "|Parallelism|True parallelism|Concurrency due to GIL|\n",
    "|Resource usage\t|Higher resource usage, slower startup times|Lower resource usage, faster startup times|\n",
    "|Communication|IPC mechanisms (pipes, queues, shared memory)|Shared memory, synchronization primitives|\n",
    "|Debugging|More complex (multiple memory spaces)|Easier (shared memory, single memory space)|\n",
    "|Best for|CPU-bound tasks|I/O-bound tasks|"
   ]
  },
  {
   "cell_type": "markdown",
   "id": "e15a05c5",
   "metadata": {},
   "source": [
    "### Question 3: Write a python code to create a process using the multiprocessing module."
   ]
  },
  {
   "cell_type": "markdown",
   "id": "c82f06f9",
   "metadata": {},
   "source": [
    "### Answer - 3"
   ]
  },
  {
   "cell_type": "code",
   "execution_count": 6,
   "id": "08d0214e",
   "metadata": {},
   "outputs": [],
   "source": [
    "import multiprocessing\n",
    "\n",
    "def produce(q):\n",
    "    for i in [\"ticket1\", \"ticket2\", \"ticket3\", \"ticket4\"]:\n",
    "        q.put(i)\n",
    "    \n",
    "def consume(q):\n",
    "    while True:\n",
    "        item = q.get()\n",
    "        if item is None:\n",
    "            break\n",
    "        print(item)\n",
    "        \n",
    "if __name__ == \"__main__\":\n",
    "    queue = multiprocessing.Queue()\n",
    "    m1 = multiprocessing.Process(target = produce, args = (queue,))\n",
    "    m2 = multiprocessing.Process(target = consume, args = (queue,))\n",
    "    m1.start()\n",
    "    m2.start()\n",
    "    queue.put(\"ticket5\")\n",
    "    m1.join()\n",
    "    m2.join()"
   ]
  },
  {
   "cell_type": "markdown",
   "id": "87fc5c87",
   "metadata": {},
   "source": [
    "### Question 4: What is a multiprocessing pool in python? Why is it used?"
   ]
  },
  {
   "cell_type": "markdown",
   "id": "31856213",
   "metadata": {},
   "source": [
    "### Answer - 4"
   ]
  },
  {
   "cell_type": "markdown",
   "id": "40bbb941",
   "metadata": {},
   "source": [
    "In Python, a multiprocessing pool is a class in the multiprocessing module that provides a way to distribute tasks across multiple CPU cores. The idea is to create a pool of worker processes that can execute tasks in parallel, thereby reducing the time it takes to complete a large number of tasks.\n",
    "\n",
    "Here's how it works:\n",
    "\n",
    "1. You create a Pool object with a specified number of worker processes.\n",
    "2. You submit tasks to the pool using the apply(), apply_async(), map(), or map_async() methods.\n",
    "3. The pool distributes the tasks among the worker processes and runs them in parallel.\n",
    "4. The results of each task are collected and returned to the main process.\n",
    "\n",
    "The advantage of using a multiprocessing pool is that it allows you to take advantage of multiple CPU cores to perform computations in parallel. This can lead to significant speedups for CPU-bound tasks, such as numerical computations, image processing, or machine learning.\n",
    "\n",
    "The Pool class in Python also provides various methods for controlling the number of worker processes, waiting for tasks to complete, and handling errors. Overall, it's a powerful tool for scaling up your Python programs to take advantage of modern hardware."
   ]
  },
  {
   "cell_type": "markdown",
   "id": "d7ba521e",
   "metadata": {},
   "source": [
    "### Question 5: How can we create a pool of worker processes in python using multiprocessing module?"
   ]
  },
  {
   "cell_type": "markdown",
   "id": "f4a69b38",
   "metadata": {},
   "source": [
    "### Answer - 5"
   ]
  },
  {
   "cell_type": "code",
   "execution_count": null,
   "id": "8927eaf1",
   "metadata": {},
   "outputs": [],
   "source": [
    "import multiprocessing\n",
    "import math\n",
    "\n",
    "def calc_gamma(x):\n",
    "    \"\"\"Function to be executed by worker processes\"\"\"\n",
    "    result = math.gamma(x)\n",
    "    return result\n",
    "\n",
    "if __name__ == '__main__':\n",
    "    # Create a list of values for which to calculate the gamma function\n",
    "    values = [0.5, 1, 2, 3, 4, 5, 6, 7, 8, 9, 10]\n",
    "\n",
    "    # Create a pool of worker processes\n",
    "    pool = multiprocessing.Pool(processes=4)\n",
    "\n",
    "    # Map the gamma function calculation function to the values\n",
    "    results = pool.map(calc_gamma, values)\n",
    "\n",
    "    # Close the pool and wait for the worker processes to finish\n",
    "    pool.close()\n",
    "    pool.join()\n",
    "\n",
    "    # Print the results\n",
    "    for i in range(len(values)):\n",
    "        print(f\"Gamma({values[i]}) = {results[i]}\")"
   ]
  },
  {
   "cell_type": "markdown",
   "id": "f5e5764f",
   "metadata": {},
   "source": [
    "### Question 6 : Write a python program to create 4 processes, each process should print a different number using the multiprocessing module in python."
   ]
  },
  {
   "cell_type": "markdown",
   "id": "74427d9f",
   "metadata": {},
   "source": [
    "### Answer - 6"
   ]
  },
  {
   "cell_type": "code",
   "execution_count": null,
   "id": "1bbdb8f0",
   "metadata": {},
   "outputs": [],
   "source": [
    "import multiprocessing\n",
    "import random\n",
    "\n",
    "def generate_random_number(num):\n",
    "    \"\"\"\n",
    "    This function generates random numbers between 1 to 100\n",
    "    \"\"\"\n",
    "    random_number = random.randint(1, 100)\n",
    "    print(f\"Process number {num}, random number generated : {random_number}\")\n",
    "\n",
    "if __name__ == '__main__':\n",
    "    # Creating a processess list\n",
    "    processes = []\n",
    "    for i in range(4):\n",
    "        p = multiprocessing.Process(target=generate_random_number, args=(i,))\n",
    "        processes.append(p)\n",
    "        p.start()\n",
    "    \n",
    "    # Waiting for processess to complete\n",
    "    for p in processes:\n",
    "        p.join()"
   ]
  },
  {
   "cell_type": "code",
   "execution_count": null,
   "id": "cfde10b7",
   "metadata": {},
   "outputs": [],
   "source": []
  }
 ],
 "metadata": {
  "kernelspec": {
   "display_name": "Python 3 (ipykernel)",
   "language": "python",
   "name": "python3"
  },
  "language_info": {
   "codemirror_mode": {
    "name": "ipython",
    "version": 3
   },
   "file_extension": ".py",
   "mimetype": "text/x-python",
   "name": "python",
   "nbconvert_exporter": "python",
   "pygments_lexer": "ipython3",
   "version": "3.9.13"
  }
 },
 "nbformat": 4,
 "nbformat_minor": 5
}
