{
 "cells": [
  {
   "cell_type": "markdown",
   "id": "b64fa50c",
   "metadata": {},
   "source": [
    "## Q1. Create a Pandas Series that contains the following data: 4, 8, 15, 16, 23, and 42. Then, print the series."
   ]
  },
  {
   "cell_type": "code",
   "execution_count": 1,
   "id": "647d17bb",
   "metadata": {},
   "outputs": [
    {
     "name": "stdout",
     "output_type": "stream",
     "text": [
      "0    1\n",
      "1    2\n",
      "2    3\n",
      "3    4\n",
      "4    5\n",
      "dtype: int64\n"
     ]
    }
   ],
   "source": [
    "import pandas as pd\n",
    "data = [1,2,3,4,5]\n",
    "ser = pd.Series(data)\n",
    "print(ser)"
   ]
  },
  {
   "cell_type": "markdown",
   "id": "85740a92",
   "metadata": {},
   "source": [
    "## Q2. Create a variable of list type containing 10 elements in it, and apply pandas.Series function on the variable print it."
   ]
  },
  {
   "cell_type": "code",
   "execution_count": 3,
   "id": "ae9ce8ae",
   "metadata": {},
   "outputs": [
    {
     "name": "stdout",
     "output_type": "stream",
     "text": [
      "0    1\n",
      "1    2\n",
      "2    3\n",
      "3    4\n",
      "4    5\n",
      "5    6\n",
      "6    7\n",
      "7    8\n",
      "dtype: int64\n"
     ]
    }
   ],
   "source": [
    "li = [1, 2, 3, 4, 5, 6, 7, 8]\n",
    "ser = pd.Series(li)\n",
    "print(ser)"
   ]
  },
  {
   "cell_type": "markdown",
   "id": "1b6b477f",
   "metadata": {},
   "source": [
    "## Q3. Create a Pandas DataFrame that contains the following data:"
   ]
  },
  {
   "cell_type": "code",
   "execution_count": 5,
   "id": "830a4a70",
   "metadata": {},
   "outputs": [
    {
     "name": "stdout",
     "output_type": "stream",
     "text": [
      "     Name  Age  Gender\n",
      "0   Alice   25  Female\n",
      "1     Bob   30    Male\n",
      "2  Claire   27  Female\n"
     ]
    }
   ],
   "source": [
    "li = [{\"Name\":\"Alice\", \"Age\":25, \"Gender\":\"Female\"}, {\"Name\":\"Bob\", \"Age\":30, \"Gender\":\"Male\"}, {\"Name\":\"Claire\", \"Age\":27, \"Gender\":\"Female\"}]\n",
    "df=pd.DataFrame(li)\n",
    "print(df)"
   ]
  },
  {
   "cell_type": "markdown",
   "id": "0d89079d",
   "metadata": {},
   "source": [
    "## Q4. What is ‘DataFrame’ in pandas and how is it different from pandas.series? Explain with an example."
   ]
  },
  {
   "cell_type": "markdown",
   "id": "f30a7d56",
   "metadata": {},
   "source": [
    "In Pandas, a DataFrame is a two-dimensional labeled data structure with columns that can be of different types. It is similar to a table or a spreadsheet in which data is organized in rows and columns. Each column in a DataFrame is a Pandas Series.\n",
    "\n",
    "A Series is a one-dimensional labeled array in Pandas. It can be thought of as a single column of a DataFrame. Essentially, a DataFrame is a collection of Series where each Series represents a column."
   ]
  },
  {
   "cell_type": "code",
   "execution_count": 6,
   "id": "93e81e88",
   "metadata": {},
   "outputs": [
    {
     "name": "stdout",
     "output_type": "stream",
     "text": [
      "Pandas Series:\n",
      "0    10\n",
      "1    20\n",
      "2    30\n",
      "3    40\n",
      "Name: Column_A, dtype: int64\n",
      "\n",
      "DataFrame:\n",
      "   Column_A\n",
      "0        10\n",
      "1        20\n",
      "2        30\n",
      "3        40\n"
     ]
    }
   ],
   "source": [
    "ser = pd.Series([10, 20, 30, 40], name='Column_A')\n",
    "df = pd.DataFrame({'Column_A': [10, 20, 30, 40]})\n",
    "print(\"Pandas Series:\")\n",
    "print(ser)\n",
    "print(\"\\nDataFrame:\")\n",
    "print(df)"
   ]
  },
  {
   "cell_type": "markdown",
   "id": "ce4f6bff",
   "metadata": {},
   "source": [
    "## Q5. What are some common functions you can use to manipulate data in a Pandas DataFrame? Can you give an example of when you might use one of these functions?"
   ]
  },
  {
   "cell_type": "markdown",
   "id": "0821abd0",
   "metadata": {},
   "source": [
    "head() and tail(): These functions allow you to view the first or last N rows of a DataFrame."
   ]
  },
  {
   "cell_type": "code",
   "execution_count": 8,
   "id": "045aa09b",
   "metadata": {},
   "outputs": [
    {
     "data": {
      "text/html": [
       "<div>\n",
       "<style scoped>\n",
       "    .dataframe tbody tr th:only-of-type {\n",
       "        vertical-align: middle;\n",
       "    }\n",
       "\n",
       "    .dataframe tbody tr th {\n",
       "        vertical-align: top;\n",
       "    }\n",
       "\n",
       "    .dataframe thead th {\n",
       "        text-align: right;\n",
       "    }\n",
       "</style>\n",
       "<table border=\"1\" class=\"dataframe\">\n",
       "  <thead>\n",
       "    <tr style=\"text-align: right;\">\n",
       "      <th></th>\n",
       "      <th>Column_A</th>\n",
       "    </tr>\n",
       "  </thead>\n",
       "  <tbody>\n",
       "    <tr>\n",
       "      <th>1</th>\n",
       "      <td>20</td>\n",
       "    </tr>\n",
       "    <tr>\n",
       "      <th>2</th>\n",
       "      <td>30</td>\n",
       "    </tr>\n",
       "    <tr>\n",
       "      <th>3</th>\n",
       "      <td>40</td>\n",
       "    </tr>\n",
       "  </tbody>\n",
       "</table>\n",
       "</div>"
      ],
      "text/plain": [
       "   Column_A\n",
       "1        20\n",
       "2        30\n",
       "3        40"
      ]
     },
     "execution_count": 8,
     "metadata": {},
     "output_type": "execute_result"
    }
   ],
   "source": [
    "df.head(3)\n",
    "df.tail(3)"
   ]
  },
  {
   "cell_type": "markdown",
   "id": "1dc27c4f",
   "metadata": {},
   "source": [
    "describe(): Provides summary statistics of the DataFrame, such as mean, standard deviation, and quartiles."
   ]
  },
  {
   "cell_type": "code",
   "execution_count": 9,
   "id": "6028a88e",
   "metadata": {},
   "outputs": [
    {
     "data": {
      "text/html": [
       "<div>\n",
       "<style scoped>\n",
       "    .dataframe tbody tr th:only-of-type {\n",
       "        vertical-align: middle;\n",
       "    }\n",
       "\n",
       "    .dataframe tbody tr th {\n",
       "        vertical-align: top;\n",
       "    }\n",
       "\n",
       "    .dataframe thead th {\n",
       "        text-align: right;\n",
       "    }\n",
       "</style>\n",
       "<table border=\"1\" class=\"dataframe\">\n",
       "  <thead>\n",
       "    <tr style=\"text-align: right;\">\n",
       "      <th></th>\n",
       "      <th>Column_A</th>\n",
       "    </tr>\n",
       "  </thead>\n",
       "  <tbody>\n",
       "    <tr>\n",
       "      <th>count</th>\n",
       "      <td>4.000000</td>\n",
       "    </tr>\n",
       "    <tr>\n",
       "      <th>mean</th>\n",
       "      <td>25.000000</td>\n",
       "    </tr>\n",
       "    <tr>\n",
       "      <th>std</th>\n",
       "      <td>12.909944</td>\n",
       "    </tr>\n",
       "    <tr>\n",
       "      <th>min</th>\n",
       "      <td>10.000000</td>\n",
       "    </tr>\n",
       "    <tr>\n",
       "      <th>25%</th>\n",
       "      <td>17.500000</td>\n",
       "    </tr>\n",
       "    <tr>\n",
       "      <th>50%</th>\n",
       "      <td>25.000000</td>\n",
       "    </tr>\n",
       "    <tr>\n",
       "      <th>75%</th>\n",
       "      <td>32.500000</td>\n",
       "    </tr>\n",
       "    <tr>\n",
       "      <th>max</th>\n",
       "      <td>40.000000</td>\n",
       "    </tr>\n",
       "  </tbody>\n",
       "</table>\n",
       "</div>"
      ],
      "text/plain": [
       "        Column_A\n",
       "count   4.000000\n",
       "mean   25.000000\n",
       "std    12.909944\n",
       "min    10.000000\n",
       "25%    17.500000\n",
       "50%    25.000000\n",
       "75%    32.500000\n",
       "max    40.000000"
      ]
     },
     "execution_count": 9,
     "metadata": {},
     "output_type": "execute_result"
    }
   ],
   "source": [
    "df.describe()"
   ]
  },
  {
   "cell_type": "markdown",
   "id": "d1641007",
   "metadata": {},
   "source": [
    "info(): Gives a concise summary of the DataFrame, including data types and missing values."
   ]
  },
  {
   "cell_type": "code",
   "execution_count": 10,
   "id": "d66e9959",
   "metadata": {},
   "outputs": [
    {
     "name": "stdout",
     "output_type": "stream",
     "text": [
      "<class 'pandas.core.frame.DataFrame'>\n",
      "RangeIndex: 4 entries, 0 to 3\n",
      "Data columns (total 1 columns):\n",
      " #   Column    Non-Null Count  Dtype\n",
      "---  ------    --------------  -----\n",
      " 0   Column_A  4 non-null      int64\n",
      "dtypes: int64(1)\n",
      "memory usage: 160.0 bytes\n"
     ]
    }
   ],
   "source": [
    "df.info()"
   ]
  },
  {
   "cell_type": "markdown",
   "id": "995580b7",
   "metadata": {},
   "source": [
    "shape: Returns the dimensions (rows, columns) of the DataFrame."
   ]
  },
  {
   "cell_type": "code",
   "execution_count": 11,
   "id": "1caaaccb",
   "metadata": {},
   "outputs": [
    {
     "data": {
      "text/plain": [
       "(4, 1)"
      ]
     },
     "execution_count": 11,
     "metadata": {},
     "output_type": "execute_result"
    }
   ],
   "source": [
    "df.shape"
   ]
  },
  {
   "cell_type": "markdown",
   "id": "3759bf74",
   "metadata": {},
   "source": [
    "## Q6. Which of the following is mutable in nature Series, DataFrame, Panel?"
   ]
  },
  {
   "cell_type": "markdown",
   "id": "08eb7903",
   "metadata": {},
   "source": [
    "In Pandas, a Series is mutable, while a DataFrame and a Panel are both mutable and can be modified after creation.\n",
    "\n",
    "- **Series: A Pandas Series is mutable, meaning you can modify its elements after it has been created. You can change values, add or remove elements, and perform other operations that alter the Series.\n",
    "\n",
    "- **DataFrame: Similar to a Series, a Pandas DataFrame is mutable. You can modify its content, add or remove columns, and perform various operations to manipulate the data.\n",
    "\n",
    "- **Panel: The Panel is a three-dimensional data structure in Pandas, but it has been deprecated since version 0.25.0, and it's recommended to use MultiIndex DataFrames instead. In any case, like DataFrames, Panels are also mutable.\n",
    "\n",
    "Keep in mind that when you modify a mutable object in Pandas, you might need to use the `inplace` parameter or assign the result to a new variable to reflect the changes."
   ]
  },
  {
   "cell_type": "markdown",
   "id": "c19b97a7",
   "metadata": {},
   "source": [
    "## Q7. Create a DataFrame using multiple Series. Explain with an example."
   ]
  },
  {
   "cell_type": "code",
   "execution_count": 12,
   "id": "1fb21170",
   "metadata": {},
   "outputs": [
    {
     "name": "stdout",
     "output_type": "stream",
     "text": [
      "      Name  Age  Salary\n",
      "0    Alice   25   50000\n",
      "1      Bob   30   60000\n",
      "2  Charlie   35   75000\n",
      "3    David   28   48000\n"
     ]
    }
   ],
   "source": [
    "name = pd.Series(['Alice', 'Bob', 'Charlie', 'David'], name='Name')\n",
    "age = pd.Series([25, 30, 35, 28], name='Age')\n",
    "salary = pd.Series([50000, 60000, 75000, 48000], name='Salary')\n",
    "df = pd.DataFrame({\n",
    "    'Name': name,\n",
    "    'Age': age,\n",
    "    'Salary': salary\n",
    "})\n",
    "print(df)"
   ]
  },
  {
   "cell_type": "code",
   "execution_count": null,
   "id": "1b83575f",
   "metadata": {},
   "outputs": [],
   "source": []
  }
 ],
 "metadata": {
  "kernelspec": {
   "display_name": "Python 3 (ipykernel)",
   "language": "python",
   "name": "python3"
  },
  "language_info": {
   "codemirror_mode": {
    "name": "ipython",
    "version": 3
   },
   "file_extension": ".py",
   "mimetype": "text/x-python",
   "name": "python",
   "nbconvert_exporter": "python",
   "pygments_lexer": "ipython3",
   "version": "3.9.13"
  }
 },
 "nbformat": 4,
 "nbformat_minor": 5
}
