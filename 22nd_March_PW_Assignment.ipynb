{
 "cells": [
  {
   "cell_type": "markdown",
   "id": "e8192d8d",
   "metadata": {},
   "source": [
    "### Q1. Pearson correlation coefficient is a measure of the linear relationship between two variables. Suppose you have collected data on the amount of time students spend studying for an exam and their final exam scores. Calculate the Pearson correlation coefficient between these two variables and interpret the result."
   ]
  },
  {
   "cell_type": "markdown",
   "id": "5c5cc6ee",
   "metadata": {},
   "source": [
    "To calculate the Pearson correlation coefficient between the amount of time students spend studying for an exam and their final exam scores, you would follow these steps:\n",
    "\n",
    "1. Collect data on the amount of time each student spends studying and their corresponding final exam scores.\n",
    "2. Calculate the mean (average) amount of time spent studying and the mean final exam score.\n",
    "3. For each student, calculate the difference between their study time and the mean study time, and the difference between their exam score and the mean exam score.\n",
    "4. Multiply these differences for each student.\n",
    "5. Sum up these products for all students.\n",
    "6. Divide this sum by the product of the standard deviations of study time and exam scores.\n",
    "\n",
    "The formula for the Pearson correlation coefficient (r) is:\n",
    "\n",
    "\\[ r = \\frac{\\sum{(X_i - \\bar{X})(Y_i - \\bar{Y})}}{\\sqrt{\\sum{(X_i - \\bar{X})^2} \\sum{(Y_i - \\bar{Y})^2}}} \\]\n",
    "\n",
    "Where:\n",
    "- \\( X_i \\) and \\( Y_i \\) are the individual data points for study time and exam scores, respectively.\n",
    "- \\( \\bar{X} \\) and \\( \\bar{Y} \\) are the means of the study time and exam scores, respectively.\n",
    "\n",
    "Once you calculate the Pearson correlation coefficient (r), it will be a value between -1 and 1. \n",
    "\n",
    "- If \\( r = 1 \\), it indicates a perfect positive linear relationship (as study time increases, exam scores also increase).\n",
    "- If \\( r = -1 \\), it indicates a perfect negative linear relationship (as study time increases, exam scores decrease).\n",
    "- If \\( r = 0 \\), it indicates no linear relationship between the variables.\n",
    "\n",
    "Interpreting the result:\n",
    "- If \\( r > 0 \\), there is a positive correlation, meaning that as study time increases, exam scores tend to increase as well.\n",
    "- If \\( r < 0 \\), there is a negative correlation, meaning that as study time increases, exam scores tend to decrease.\n",
    "- The magnitude of \\( r \\) (how close it is to 1 or -1) indicates the strength of the correlation. A value closer to 1 or -1 indicates a stronger correlation, while a value closer to 0 indicates a weaker correlation.\n",
    "\n",
    "So, after calculating \\( r \\), you would interpret the result based on its value and sign in relation to your data."
   ]
  },
  {
   "cell_type": "markdown",
   "id": "1c047cda",
   "metadata": {},
   "source": [
    "### Q2. Spearman's rank correlation is a measure of the monotonic relationship between two variables. Suppose you have collected data on the amount of sleep individuals get each night and their overall job satisfaction level on a scale of 1 to 10. Calculate the Spearman's rank correlation between these two variables and interpret the result."
   ]
  },
  {
   "cell_type": "markdown",
   "id": "d5d516fa",
   "metadata": {},
   "source": [
    "To calculate Spearman's rank correlation coefficient between the amount of sleep individuals get each night and their overall job satisfaction level, you would follow these steps:\n",
    "\n",
    "1. Collect data on the amount of sleep each individual gets each night and their corresponding job satisfaction levels.\n",
    "2. Rank the sleep data from lowest to highest, assigning ranks to each data point.\n",
    "3. Rank the job satisfaction data from lowest to highest, assigning ranks to each data point.\n",
    "4. Calculate the difference between the ranks for each paired observation (sleep and job satisfaction).\n",
    "5. Square these rank differences.\n",
    "6. Sum up the squared rank differences.\n",
    "7. Use the formula for Spearman's rank correlation coefficient to calculate the correlation.\n",
    "\n",
    "The formula for Spearman's rank correlation coefficient (ρ) is:\n",
    "\n",
    "\\[ \\rho = 1 - \\frac{6 \\sum{d^2}}{n(n^2 - 1)} \\]\n",
    "\n",
    "Where:\n",
    "- \\( d \\) is the difference between the ranks for each paired observation.\n",
    "- \\( n \\) is the number of paired observations.\n",
    "\n",
    "Once you calculate Spearman's rank correlation coefficient (ρ), it will be a value between -1 and 1.\n",
    "\n",
    "- If \\( \\rho = 1 \\), it indicates a perfect monotonic relationship (as one variable increases, the other variable always increases).\n",
    "- If \\( \\rho = -1 \\), it indicates a perfect monotonic relationship (as one variable increases, the other variable always decreases).\n",
    "- If \\( \\rho = 0 \\), it indicates no monotonic relationship between the variables.\n",
    "\n",
    "Interpreting the result:\n",
    "- If \\( \\rho > 0 \\), there is a positive monotonic correlation, meaning that as one variable increases, the other tends to increase.\n",
    "- If \\( \\rho < 0 \\), there is a negative monotonic correlation, meaning that as one variable increases, the other tends to decrease.\n",
    "- The magnitude of \\( \\rho \\) (how close it is to 1 or -1) indicates the strength of the monotonic relationship. A value closer to 1 or -1 indicates a stronger correlation, while a value closer to 0 indicates a weaker correlation.\n",
    "\n",
    "So, after calculating \\( \\rho \\), you would interpret the result based on its value and sign in relation to your data."
   ]
  },
  {
   "cell_type": "markdown",
   "id": "0e098f9c",
   "metadata": {},
   "source": [
    "### Q3. Suppose you are conducting a study to examine the relationship between the number of hours of exercise per week and body mass index (BMI) in a sample of adults. You collected data on both variables for 50 participants. Calculate the Pearson correlation coefficient and the Spearman's rank correlation between these two variables and compare the results."
   ]
  },
  {
   "cell_type": "markdown",
   "id": "a1ded1a8",
   "metadata": {},
   "source": [
    "To calculate both the Pearson correlation coefficient and Spearman's rank correlation coefficient between the number of hours of exercise per week and body mass index (BMI) in your sample of adults, follow these steps:\n",
    "\n",
    "1. Collect data on the number of hours of exercise per week and the BMI for each of the 50 participants.\n",
    "2. Calculate the Pearson correlation coefficient using the formula mentioned earlier, which measures the linear relationship between the two variables.\n",
    "3. Calculate Spearman's rank correlation coefficient using the formula mentioned earlier, which measures the monotonic relationship between the two variables.\n",
    "\n",
    "Once you have both correlation coefficients calculated, compare their magnitudes and signs.\n",
    "\n",
    "- If both coefficients have similar signs and are close in magnitude:\n",
    "  - It indicates a strong linear relationship between the variables.\n",
    "- If the Pearson correlation coefficient is high while Spearman's rank correlation coefficient is low:\n",
    "  - It suggests a linear relationship between the variables but with potential outliers or non-linearity that affects the Spearman's rank correlation.\n",
    "- If both coefficients are low:\n",
    "  - It suggests a weak relationship between the variables.\n",
    "- If Spearman's rank correlation coefficient is higher than the Pearson correlation coefficient:\n",
    "  - It indicates a monotonic relationship between the variables but not necessarily a linear one.\n",
    "\n",
    "By comparing these coefficients, you can gain insights into the nature of the relationship between the number of hours of exercise per week and BMI in your sample of adults."
   ]
  },
  {
   "cell_type": "markdown",
   "id": "0b7be531",
   "metadata": {},
   "source": [
    "### Q4. A researcher is interested in examining the relationship between the number of hours individuals spend watching television per day and their level of physical activity. The researcher collected data on both variables from a sample of 50 participants. Calculate the Pearson correlation coefficient between these two variables."
   ]
  },
  {
   "cell_type": "markdown",
   "id": "784d7b6b",
   "metadata": {},
   "source": [
    "To calculate the Pearson correlation coefficient between the number of hours individuals spend watching television per day and their level of physical activity, follow these steps:\n",
    "\n",
    "1. Collect data on the number of hours individuals spend watching television per day and their level of physical activity for each of the 50 participants.\n",
    "2. Calculate the mean (average) number of hours spent watching television per day and the mean level of physical activity.\n",
    "3. For each participant, calculate the difference between their number of hours spent watching television per day and the mean number of hours, and the difference between their level of physical activity and the mean level of physical activity.\n",
    "4. Multiply these differences for each participant.\n",
    "5. Sum up these products for all participants.\n",
    "6. Divide this sum by the product of the standard deviations of the number of hours spent watching television per day and the level of physical activity.\n",
    "\n",
    "The formula for the Pearson correlation coefficient (r) is:\n",
    "\n",
    "\\[ r = \\frac{\\sum{(X_i - \\bar{X})(Y_i - \\bar{Y})}}{\\sqrt{\\sum{(X_i - \\bar{X})^2} \\sum{(Y_i - \\bar{Y})^2}}} \\]\n",
    "\n",
    "Where:\n",
    "- \\( X_i \\) and \\( Y_i \\) are the individual data points for the number of hours spent watching television per day and the level of physical activity, respectively.\n",
    "- \\( \\bar{X} \\) and \\( \\bar{Y} \\) are the means of the number of hours spent watching television per day and the level of physical activity, respectively.\n",
    "\n",
    "After performing these calculations, the resulting \\( r \\) value will be the Pearson correlation coefficient, indicating the strength and direction of the linear relationship between the number of hours spent watching television per day and the level of physical activity."
   ]
  },
  {
   "cell_type": "markdown",
   "id": "426d01aa",
   "metadata": {},
   "source": [
    "### Q5. A survey was conducted to examine the relationship between age and preference for a particular brand of soft drink. The survey results are shown below:"
   ]
  },
  {
   "cell_type": "markdown",
   "id": "14455059",
   "metadata": {},
   "source": [
    "To examine the relationship between age and preference for a particular brand of soft drink, you can calculate Spearman's rank correlation coefficient. Since the preference is categorical, you will first need to assign ranks to the preferences and then calculate the correlation.\n",
    "\n",
    "Let's assign ranks to the soft drink preferences:\n",
    "- Coke: 1\n",
    "- Pepsi: 2\n",
    "- Mountain Dew: 3\n",
    "\n",
    "Now, let's rank the ages and calculate the differences between ranks for each pair of age and preference:\n",
    "\n",
    "| Age (Years) | Soft drink Preference | Age Rank | Preference Rank |\n",
    "|-------------|-----------------------|----------|-----------------|\n",
    "| 25          | Coke                  | 1        | 1               |\n",
    "| 42          | Pepsi                 | 4        | 2               |\n",
    "| 37          | Mountain Dew          | 3        | 3               |\n",
    "| 19          | Coke                  | 0        | 1               |\n",
    "| 31          | Pepsi                 | 2        | 2               |\n",
    "| 28          | Coke                  | 1        | 1               |\n",
    "\n",
    "Now, calculate the Spearman's rank correlation coefficient using the formula:\n",
    "\n",
    "\\[ \\rho = 1 - \\frac{6 \\sum{d^2}}{n(n^2 - 1)} \\]\n",
    "\n",
    "Where \\( d \\) is the difference between the ranks for each paired observation, and \\( n \\) is the number of paired observations.\n",
    "\n",
    "\\( \\sum{d^2} = (0^2 + 2^2 + 0^2 + 1^2 + 1^2) = 6 \\)\n",
    "\n",
    "\\( n = 5 \\)\n",
    "\n",
    "\\[ \\rho = 1 - \\frac{6 \\times 6}{5 \\times (5^2 - 1)} \\]\n",
    "\\[ \\rho = 1 - \\frac{36}{5 \\times 24} \\]\n",
    "\\[ \\rho = 1 - \\frac{36}{120} \\]\n",
    "\\[ \\rho = 1 - 0.3 \\]\n",
    "\\[ \\rho = 0.7 \\]\n",
    "\n",
    "So, the Spearman's rank correlation coefficient \\( \\rho \\) between age and preference for a particular brand of soft drink is 0.7, indicating a moderately strong positive monotonic relationship between the two variables."
   ]
  },
  {
   "cell_type": "markdown",
   "id": "b9466fe2",
   "metadata": {},
   "source": [
    "### Q6. A company is interested in examining the relationship between the number of sales calls made per day and the number of sales made per week. The company collected data on both variables from a sample of 30 sales representatives. Calculate the Pearson correlation coefficient between these two variables."
   ]
  },
  {
   "cell_type": "markdown",
   "id": "d38fb512",
   "metadata": {},
   "source": [
    "To calculate the Pearson correlation coefficient between the number of sales calls made per day and the number of sales made per week for the sample of 30 sales representatives, you can follow these steps:\n",
    "\n",
    "1. Collect data on the number of sales calls made per day and the number of sales made per week for each of the 30 sales representatives.\n",
    "2. Calculate the mean (average) number of sales calls made per day and the mean number of sales made per week.\n",
    "3. For each sales representative, calculate the difference between their number of sales calls made per day and the mean number of sales calls, and the difference between their number of sales made per week and the mean number of sales made per week.\n",
    "4. Multiply these differences for each sales representative.\n",
    "5. Sum up these products for all sales representatives.\n",
    "6. Divide this sum by the product of the standard deviations of the number of sales calls made per day and the number of sales made per week.\n",
    "\n",
    "The formula for the Pearson correlation coefficient (r) is:\n",
    "\n",
    "\\[ r = \\frac{\\sum{(X_i - \\bar{X})(Y_i - \\bar{Y})}}{\\sqrt{\\sum{(X_i - \\bar{X})^2} \\sum{(Y_i - \\bar{Y})^2}}} \\]\n",
    "\n",
    "Where:\n",
    "- \\( X_i \\) and \\( Y_i \\) are the individual data points for the number of sales calls made per day and the number of sales made per week, respectively.\n",
    "- \\( \\bar{X} \\) and \\( \\bar{Y} \\) are the means of the number of sales calls made per day and the number of sales made per week, respectively.\n",
    "\n",
    "After performing these calculations, the resulting \\( r \\) value will be the Pearson correlation coefficient, indicating the strength and direction of the linear relationship between the number of sales calls made per day and the number of sales made per week."
   ]
  },
  {
   "cell_type": "code",
   "execution_count": null,
   "id": "4afac791",
   "metadata": {},
   "outputs": [],
   "source": []
  }
 ],
 "metadata": {
  "kernelspec": {
   "display_name": "Python 3 (ipykernel)",
   "language": "python",
   "name": "python3"
  },
  "language_info": {
   "codemirror_mode": {
    "name": "ipython",
    "version": 3
   },
   "file_extension": ".py",
   "mimetype": "text/x-python",
   "name": "python",
   "nbconvert_exporter": "python",
   "pygments_lexer": "ipython3",
   "version": "3.9.13"
  }
 },
 "nbformat": 4,
 "nbformat_minor": 5
}
