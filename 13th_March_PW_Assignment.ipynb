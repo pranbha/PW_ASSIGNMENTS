{
 "cells": [
  {
   "cell_type": "code",
   "execution_count": 1,
   "id": "c43ee348",
   "metadata": {},
   "outputs": [],
   "source": [
    "import numpy as np\n",
    "import scipy.stats as stat"
   ]
  },
  {
   "cell_type": "markdown",
   "id": "e8ec4e5e",
   "metadata": {},
   "source": [
    "### Q1. Write a Python function that takes in two arrays of data and calculates the F-value for a variance ratio test. The function should return the F-value and the corresponding p-value for the test."
   ]
  },
  {
   "cell_type": "code",
   "execution_count": 5,
   "id": "9453c395",
   "metadata": {},
   "outputs": [],
   "source": [
    "from scipy.stats import f\n",
    "def variance_ratio_test(data1, data2):\n",
    "    \n",
    "    # Convert data to numpy arrays\n",
    "    data1 = np.asarray(data1)\n",
    "    data2 = np.asarray(data2)\n",
    "\n",
    "    # Calculate variances\n",
    "    var1 = np.var(data1, ddof=1)  # ddof=1 for sample variance\n",
    "    var2 = np.var(data2, ddof=1)\n",
    "\n",
    "    # Calculate F-value\n",
    "    f_value = var1 / var2 if var1 >= var2 else var2 / var1\n",
    "\n",
    "    # Degrees of freedom\n",
    "    df1 = len(data1) - 1\n",
    "    df2 = len(data2) - 1\n",
    "\n",
    "    # Calculate p-value\n",
    "    p_value = f.cdf(f_value, df1, df2) if var1 >= var2 else f.cdf(f_value, df2, df1)\n",
    "\n",
    "    return f_value, p_value\n"
   ]
  },
  {
   "cell_type": "code",
   "execution_count": 6,
   "id": "8edc6ad3",
   "metadata": {},
   "outputs": [
    {
     "name": "stdout",
     "output_type": "stream",
     "text": [
      "P-Value: 0.9808734640676142, F-Value: 4.387122002085505\n"
     ]
    }
   ],
   "source": [
    "data1 = [18,19,22,25,27,28,41,45,51,55]\n",
    "data2 = [14,15,15,17,18,22,25,25,27,34]\n",
    "f,p = variance_ratio_test(data1,data2)\n",
    "print(f\"P-Value: {p}, F-Value: {f}\")"
   ]
  },
  {
   "cell_type": "markdown",
   "id": "3a336f9f",
   "metadata": {},
   "source": [
    "### Q2. Given a significance level of 0.05 and the degrees of freedom for the numerator and denominator of an F-distribution, write a Python function that returns the critical F-value for a two-tailed test."
   ]
  },
  {
   "cell_type": "code",
   "execution_count": 7,
   "id": "459176b4",
   "metadata": {},
   "outputs": [],
   "source": [
    "from scipy.stats import f\n",
    "\n",
    "def critical_f_value(alpha, dfn, dfd):\n",
    "    crit_f_value = f.ppf(1 - alpha / 2, dfn, dfd)\n",
    "    return crit_f_value"
   ]
  },
  {
   "cell_type": "markdown",
   "id": "8d0ad78d",
   "metadata": {},
   "source": [
    "### Q3. Write a Python program that generates random samples from two normal distributions with known variances and uses an F-test to determine if the variances are equal. The program should output the F- value, degrees of freedom, and p-value for the test."
   ]
  },
  {
   "cell_type": "code",
   "execution_count": 8,
   "id": "ad080b3e",
   "metadata": {},
   "outputs": [
    {
     "name": "stdout",
     "output_type": "stream",
     "text": [
      "F-value: 1.9519879169531071\n",
      "Degrees of freedom (numerator): 19\n",
      "Degrees of freedom (denominator): 19\n",
      "p-value: 0.9230325883921324\n"
     ]
    }
   ],
   "source": [
    "from scipy.stats import f\n",
    "\n",
    "def f_test(data1, data2):\n",
    "    # Convert data to numpy arrays\n",
    "    data1 = np.asarray(data1)\n",
    "    data2 = np.asarray(data2)\n",
    "\n",
    "    # Calculate variances\n",
    "    var1 = np.var(data1, ddof=1)  # ddof=1 for sample variance\n",
    "    var2 = np.var(data2, ddof=1)\n",
    "\n",
    "    # Degrees of freedom\n",
    "    n1 = len(data1)\n",
    "    n2 = len(data2)\n",
    "    dfn = n1 - 1\n",
    "    dfd = n2 - 1\n",
    "\n",
    "    # Calculate F-value\n",
    "    if var1 >= var2:\n",
    "        f_value = var1 / var2\n",
    "    else:\n",
    "        f_value = var2 / var1\n",
    "\n",
    "    # Calculate p-value\n",
    "    p_value = f.cdf(f_value, dfn, dfd)\n",
    "\n",
    "    return f_value, dfn, dfd, p_value\n",
    "\n",
    "# Generate random samples from two normal distributions with known variances\n",
    "np.random.seed(0)\n",
    "mean1, mean2 = 0, 0\n",
    "std1, std2 = 1, 1\n",
    "sample_size = 20\n",
    "sample1 = np.random.normal(mean1, std1, sample_size)\n",
    "sample2 = np.random.normal(mean2, std2, sample_size)\n",
    "\n",
    "# Perform F-test\n",
    "f_value, dfn, dfd, p_value = f_test(sample1, sample2)\n",
    "\n",
    "# Output results\n",
    "print(\"F-value:\", f_value)\n",
    "print(\"Degrees of freedom (numerator):\", dfn)\n",
    "print(\"Degrees of freedom (denominator):\", dfd)\n",
    "print(\"p-value:\", p_value)"
   ]
  },
  {
   "cell_type": "markdown",
   "id": "35d18975",
   "metadata": {},
   "source": [
    "### Q4.The variances of two populations are known to be 10 and 15. A sample of 12 observations is taken from each population. Conduct an F-test at the 5% significance level to determine if the variances are significantly different."
   ]
  },
  {
   "cell_type": "markdown",
   "id": "f90ca61f",
   "metadata": {},
   "source": [
    "H0 = Variances of two populations are equal\n",
    "\n",
    "H1 = Variances of two populations are not equal"
   ]
  },
  {
   "cell_type": "code",
   "execution_count": 9,
   "id": "bbefcf28",
   "metadata": {},
   "outputs": [],
   "source": [
    "var1 = 10\n",
    "var2 = 15\n",
    "f_test = var1/var2\n",
    "dof1 = 11\n",
    "dof2 = 11\n",
    "significance_val = 0.05\n",
    "critical_value = stat.f.ppf(q=1-significance_val, dfn = dof1, dfd = dof2)"
   ]
  },
  {
   "cell_type": "code",
   "execution_count": 10,
   "id": "54af9e3d",
   "metadata": {},
   "outputs": [
    {
     "data": {
      "text/plain": [
       "2.8179304699530863"
      ]
     },
     "execution_count": 10,
     "metadata": {},
     "output_type": "execute_result"
    }
   ],
   "source": [
    "critical_value"
   ]
  },
  {
   "cell_type": "code",
   "execution_count": 11,
   "id": "26a4b22a",
   "metadata": {},
   "outputs": [
    {
     "data": {
      "text/plain": [
       "0.6666666666666666"
      ]
     },
     "execution_count": 11,
     "metadata": {},
     "output_type": "execute_result"
    }
   ],
   "source": [
    "f_test"
   ]
  },
  {
   "cell_type": "code",
   "execution_count": 12,
   "id": "3a7129ea",
   "metadata": {},
   "outputs": [
    {
     "name": "stdout",
     "output_type": "stream",
     "text": [
      "Fail to reject null hypothesis\n"
     ]
    }
   ],
   "source": [
    "if f_test>critical_value:\n",
    "    print(\"Reject null Hypothesis\")\n",
    "else:\n",
    "    print(\"Fail to reject null hypothesis\")"
   ]
  },
  {
   "cell_type": "markdown",
   "id": "c0259cde",
   "metadata": {},
   "source": [
    "### Q5. A manufacturer claims that the variance of the diameter of a certain product is 0.005. A sample of 25 products is taken, and the sample variance is found to be 0.006. Conduct an F-test at the 1% significance level to determine if the claim is justified."
   ]
  },
  {
   "cell_type": "markdown",
   "id": "2904cb63",
   "metadata": {},
   "source": [
    "H0 = Diameter of product is equal to 0.005\n",
    "\n",
    "H1 = Diameter of product is not equal to 0.005"
   ]
  },
  {
   "cell_type": "code",
   "execution_count": 13,
   "id": "47e9f230",
   "metadata": {},
   "outputs": [],
   "source": [
    "var1 = 0.005\n",
    "var2 = 0.006\n",
    "f_test = var1/var2\n",
    "dof1 = 1\n",
    "dof2 = 24\n",
    "significance_val = 0.01\n",
    "critical_value = stat.f.ppf(q=1-significance_val, dfn = dof1, dfd = dof2)"
   ]
  },
  {
   "cell_type": "code",
   "execution_count": 14,
   "id": "29674d09",
   "metadata": {},
   "outputs": [
    {
     "data": {
      "text/plain": [
       "0.8333333333333334"
      ]
     },
     "execution_count": 14,
     "metadata": {},
     "output_type": "execute_result"
    }
   ],
   "source": [
    "f_test"
   ]
  },
  {
   "cell_type": "code",
   "execution_count": 15,
   "id": "5421023c",
   "metadata": {},
   "outputs": [
    {
     "data": {
      "text/plain": [
       "7.8228705933679725"
      ]
     },
     "execution_count": 15,
     "metadata": {},
     "output_type": "execute_result"
    }
   ],
   "source": [
    "critical_value"
   ]
  },
  {
   "cell_type": "code",
   "execution_count": 16,
   "id": "6d98742a",
   "metadata": {},
   "outputs": [
    {
     "name": "stdout",
     "output_type": "stream",
     "text": [
      "Fail to reject null hypothesis\n"
     ]
    }
   ],
   "source": [
    "if f_test>critical_value:\n",
    "    print(\"Reject null Hypothesis\")\n",
    "else:\n",
    "    print(\"Fail to reject null hypothesis\")"
   ]
  },
  {
   "cell_type": "markdown",
   "id": "e1e6300b",
   "metadata": {},
   "source": [
    "### Q6. Write a Python function that takes in the degrees of freedom for the numerator and denominator of an F-distribution and calculates the mean and variance of the distribution. The function should return the mean and variance as a tuple."
   ]
  },
  {
   "cell_type": "code",
   "execution_count": 17,
   "id": "e581b96b",
   "metadata": {},
   "outputs": [
    {
     "name": "stdout",
     "output_type": "stream",
     "text": [
      "Mean of F-distribution: 1.2500\n",
      "Variance of F-distribution: 1.3542\n"
     ]
    }
   ],
   "source": [
    "def f_distribution_mean_variance(df1, df2):\n",
    "    mean = df2 / (df2 - 2)\n",
    "    variance = (2 * (df2 ** 2) * (df1 + df2 - 2)) / (df1 * (df2 - 2) ** 2 * (df2 - 4))\n",
    "    return mean, variance\n",
    "\n",
    "# Example usage\n",
    "df1 = 5\n",
    "df2 = 10\n",
    "mean, variance = f_distribution_mean_variance(df1, df2)\n",
    "print(f\"Mean of F-distribution: {mean:.4f}\")\n",
    "print(f\"Variance of F-distribution: {variance:.4f}\")"
   ]
  },
  {
   "cell_type": "markdown",
   "id": "08c98d11",
   "metadata": {},
   "source": [
    "### Q7. A random sample of 10 measurements is taken from a normal population with unknown variance. The sample variance is found to be 25. Another random sample of 15 measurements is taken from another normal population with unknown variance, and the sample variance is found to be 20. Conduct an F-test at the 10% significance level to determine if the variances are significantly different."
   ]
  },
  {
   "cell_type": "code",
   "execution_count": null,
   "id": "5f34b53d",
   "metadata": {},
   "outputs": [],
   "source": [
    "H0 = Variances are not significantly different\n",
    "H1 = Varinces are significantly different"
   ]
  },
  {
   "cell_type": "code",
   "execution_count": 27,
   "id": "1d6c3fe9",
   "metadata": {},
   "outputs": [],
   "source": [
    "var1 = 25\n",
    "var2 = 20\n",
    "f_test = var1/var2\n",
    "dof1 = 9\n",
    "dof2 = 14\n",
    "alpha = 0.1\n",
    "critical_value = stat.f.ppf(q=1-alpha/2, dfn = dof1, dfd = dof2)"
   ]
  },
  {
   "cell_type": "code",
   "execution_count": 28,
   "id": "7fa53ab5",
   "metadata": {},
   "outputs": [
    {
     "data": {
      "text/plain": [
       "2.6457907352338195"
      ]
     },
     "execution_count": 28,
     "metadata": {},
     "output_type": "execute_result"
    }
   ],
   "source": [
    "critical_value"
   ]
  },
  {
   "cell_type": "code",
   "execution_count": 29,
   "id": "aa693445",
   "metadata": {},
   "outputs": [
    {
     "data": {
      "text/plain": [
       "1.25"
      ]
     },
     "execution_count": 29,
     "metadata": {},
     "output_type": "execute_result"
    }
   ],
   "source": [
    "f_test"
   ]
  },
  {
   "cell_type": "code",
   "execution_count": 30,
   "id": "13eb7e04",
   "metadata": {},
   "outputs": [
    {
     "name": "stdout",
     "output_type": "stream",
     "text": [
      "Fail to reject null hypothesis\n"
     ]
    }
   ],
   "source": [
    "if f_test>critical_value:\n",
    "    print(\"Reject null Hypothesis\")\n",
    "else:\n",
    "    print(\"Fail to reject null hypothesis\")"
   ]
  },
  {
   "cell_type": "markdown",
   "id": "f2692a68",
   "metadata": {},
   "source": [
    "### Q8. The following data represent the waiting times in minutes at two different restaurants on a Saturday night: Restaurant A: 24, 25, 28, 23, 22, 20, 27; Restaurant B: 31, 33, 35, 30, 32, 36. Conduct an F-test at the 5% significance level to determine if the variances are significantly different."
   ]
  },
  {
   "cell_type": "markdown",
   "id": "8648edd7",
   "metadata": {},
   "source": [
    "H0 : Variances are not significantly different\n",
    "    \n",
    "H1 : Variances are significantly different"
   ]
  },
  {
   "cell_type": "code",
   "execution_count": 33,
   "id": "cffe2332",
   "metadata": {},
   "outputs": [],
   "source": [
    "RestaurantA = [24, 25, 28, 23, 22, 20, 27]\n",
    "RestaurantB = [31, 33, 35, 30, 32, 36]"
   ]
  },
  {
   "cell_type": "code",
   "execution_count": 35,
   "id": "ce03da81",
   "metadata": {},
   "outputs": [],
   "source": [
    "f_test = np.var(RestaurantA)/np.var(RestaurantB)"
   ]
  },
  {
   "cell_type": "code",
   "execution_count": 36,
   "id": "67cd022f",
   "metadata": {},
   "outputs": [
    {
     "data": {
      "text/plain": [
       "1.496767651159843"
      ]
     },
     "execution_count": 36,
     "metadata": {},
     "output_type": "execute_result"
    }
   ],
   "source": [
    "f_test"
   ]
  },
  {
   "cell_type": "code",
   "execution_count": 37,
   "id": "0bc4d499",
   "metadata": {},
   "outputs": [],
   "source": [
    "dof1 = len(RestaurantA)-1\n",
    "dof2 = len(RestaurantB)-1\n",
    "significance_val = 0.05"
   ]
  },
  {
   "cell_type": "code",
   "execution_count": 38,
   "id": "b4a68e1b",
   "metadata": {},
   "outputs": [],
   "source": [
    "critical_value = stat.f.ppf(q=1-significance_val, dfn = dof1, dfd = dof2)"
   ]
  },
  {
   "cell_type": "code",
   "execution_count": 39,
   "id": "06de5919",
   "metadata": {},
   "outputs": [
    {
     "data": {
      "text/plain": [
       "4.950288068694318"
      ]
     },
     "execution_count": 39,
     "metadata": {},
     "output_type": "execute_result"
    }
   ],
   "source": [
    "critical_value"
   ]
  },
  {
   "cell_type": "code",
   "execution_count": 40,
   "id": "6c5ae5e7",
   "metadata": {},
   "outputs": [
    {
     "name": "stdout",
     "output_type": "stream",
     "text": [
      "Fail to reject null hypothesis\n"
     ]
    }
   ],
   "source": [
    "if f_test>critical_value:\n",
    "    print(\"Reject null Hypothesis\")\n",
    "else:\n",
    "    print(\"Fail to reject null hypothesis\")"
   ]
  },
  {
   "cell_type": "markdown",
   "id": "1200b7ac",
   "metadata": {},
   "source": [
    "### Q9. The following data represent the test scores of two groups of students: Group A: 80, 85, 90, 92, 87, 83; Group B: 75, 78, 82, 79, 81, 84. Conduct an F-test at the 1% significance level to determine if the variances are significantly different."
   ]
  },
  {
   "cell_type": "code",
   "execution_count": null,
   "id": "0ef8543c",
   "metadata": {},
   "outputs": [],
   "source": [
    "H0 : Variances are not sgnificantly different\n",
    "H1 : Variances are sgnificantly different"
   ]
  },
  {
   "cell_type": "code",
   "execution_count": 41,
   "id": "ebe2b01b",
   "metadata": {},
   "outputs": [],
   "source": [
    "A = [80, 85, 90, 92, 87, 83]\n",
    "B = [75, 78, 82, 79, 81, 84]"
   ]
  },
  {
   "cell_type": "code",
   "execution_count": 42,
   "id": "ea5bb987",
   "metadata": {},
   "outputs": [],
   "source": [
    "f_test = np.var(A)/np.var(B)"
   ]
  },
  {
   "cell_type": "code",
   "execution_count": 43,
   "id": "37bee9c5",
   "metadata": {},
   "outputs": [
    {
     "data": {
      "text/plain": [
       "1.9442622950819677"
      ]
     },
     "execution_count": 43,
     "metadata": {},
     "output_type": "execute_result"
    }
   ],
   "source": [
    "f_test"
   ]
  },
  {
   "cell_type": "code",
   "execution_count": 44,
   "id": "059e1743",
   "metadata": {},
   "outputs": [],
   "source": [
    "dof1 = len(A)-1\n",
    "dof2 = len(B)-1\n",
    "significance_val = 0.01"
   ]
  },
  {
   "cell_type": "code",
   "execution_count": 45,
   "id": "3ea716c7",
   "metadata": {},
   "outputs": [],
   "source": [
    "critical_value = stat.f.ppf(q=1-significance_val, dfn = dof1, dfd = dof2)"
   ]
  },
  {
   "cell_type": "code",
   "execution_count": 46,
   "id": "232515d3",
   "metadata": {},
   "outputs": [
    {
     "data": {
      "text/plain": [
       "10.967020650907992"
      ]
     },
     "execution_count": 46,
     "metadata": {},
     "output_type": "execute_result"
    }
   ],
   "source": [
    "critical_value"
   ]
  },
  {
   "cell_type": "code",
   "execution_count": 47,
   "id": "f381b977",
   "metadata": {},
   "outputs": [
    {
     "name": "stdout",
     "output_type": "stream",
     "text": [
      "Fail to reject null hypothesis\n"
     ]
    }
   ],
   "source": [
    "if f_test>critical_value:\n",
    "    print(\"Reject null Hypothesis\")\n",
    "else:\n",
    "    print(\"Fail to reject null hypothesis\")"
   ]
  },
  {
   "cell_type": "code",
   "execution_count": null,
   "id": "f8dfdbfe",
   "metadata": {},
   "outputs": [],
   "source": []
  }
 ],
 "metadata": {
  "kernelspec": {
   "display_name": "Python 3 (ipykernel)",
   "language": "python",
   "name": "python3"
  },
  "language_info": {
   "codemirror_mode": {
    "name": "ipython",
    "version": 3
   },
   "file_extension": ".py",
   "mimetype": "text/x-python",
   "name": "python",
   "nbconvert_exporter": "python",
   "pygments_lexer": "ipython3",
   "version": "3.9.13"
  }
 },
 "nbformat": 4,
 "nbformat_minor": 5
}
