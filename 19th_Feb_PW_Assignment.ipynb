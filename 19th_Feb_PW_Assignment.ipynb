{
 "cells": [
  {
   "cell_type": "markdown",
   "id": "69df8834",
   "metadata": {},
   "source": [
    "### Q1. What is Flask Framework? What are the advantages of Flask Framework?"
   ]
  },
  {
   "cell_type": "markdown",
   "id": "c8dfc388",
   "metadata": {},
   "source": [
    "### Answer - 1"
   ]
  },
  {
   "cell_type": "markdown",
   "id": "2cc9a6c2",
   "metadata": {},
   "source": [
    "### Flask is a popular web framework for Python that allows developers to build web applications quickly and easily. Flask is designed to be lightweight and flexible, which makes it a great choice for building smaller web applications or for prototyping larger applications.\n",
    "### One of the key features of Flask is its simplicity. Flask provides a minimalistic approach to building web applications, providing only the essential components needed to get a web application up and running. Flask does not require any particular database or templating engine, which allows developers to choose the tools that best suit their needs.\n",
    "\n",
    "### Some advantages of Flask include:\n",
    "\n",
    "1. Lightweight: Flask is a lightweight framework, meaning that it does not come with a lot of built-in features. This allows developers to have more control over the structure of their application and can make it easier to understand and debug.\n",
    "\n",
    "2. Flexibility: Flask is highly flexible and can be used to build a wide range of web applications, from simple prototypes to complex web applications with multiple modules and databases.\n",
    "\n",
    "3. Easy to use: Flask is easy to set up and use, even for developers who are new to web development. The framework has a simple and intuitive API that makes it easy to build and test web applications.\n",
    "\n",
    "4. Large ecosystem: Flask has a large and active community of developers who have created a wide range of plugins and extensions for the framework. This means that developers can easily find and use existing code to add functionality to their applications.\n",
    "\n",
    "5. Good documentation: Flask has excellent documentation that is easy to understand and follow. This makes it easier for developers to learn how to use the framework and to troubleshoot any issues that may arise."
   ]
  },
  {
   "cell_type": "markdown",
   "id": "95d05098",
   "metadata": {},
   "source": [
    "### Q2. Create a simple Flask application to display ‘Hello World!!’. Attach the screenshot of the output in Jupyter Notebook."
   ]
  },
  {
   "cell_type": "markdown",
   "id": "85b8379a",
   "metadata": {},
   "source": [
    "### Answer - 2"
   ]
  },
  {
   "cell_type": "code",
   "execution_count": 2,
   "id": "21b3f2e5",
   "metadata": {},
   "outputs": [
    {
     "name": "stdout",
     "output_type": "stream",
     "text": [
      "Requirement already satisfied: flask in c:\\users\\pranj\\anaconda3\\lib\\site-packages (1.1.2)\n",
      "Requirement already satisfied: Werkzeug>=0.15 in c:\\users\\pranj\\anaconda3\\lib\\site-packages (from flask) (2.0.3)\n",
      "Requirement already satisfied: itsdangerous>=0.24 in c:\\users\\pranj\\anaconda3\\lib\\site-packages (from flask) (2.0.1)\n",
      "Requirement already satisfied: Jinja2>=2.10.1 in c:\\users\\pranj\\anaconda3\\lib\\site-packages (from flask) (2.11.3)\n",
      "Requirement already satisfied: click>=5.1 in c:\\users\\pranj\\anaconda3\\lib\\site-packages (from flask) (8.0.4)\n",
      "Requirement already satisfied: colorama in c:\\users\\pranj\\anaconda3\\lib\\site-packages (from click>=5.1->flask) (0.4.5)\n",
      "Requirement already satisfied: MarkupSafe>=0.23 in c:\\users\\pranj\\anaconda3\\lib\\site-packages (from Jinja2>=2.10.1->flask) (2.0.1)\n",
      "Note: you may need to restart the kernel to use updated packages.\n"
     ]
    }
   ],
   "source": [
    "pip install flask"
   ]
  },
  {
   "cell_type": "code",
   "execution_count": null,
   "id": "6f26fa1e",
   "metadata": {},
   "outputs": [],
   "source": [
    "from flask import Flask\n",
    "@app.route(\"/hey\")\n",
    "def hello_world3():\n",
    "    return \"<h1 align='center'>Hello, World!</h1>\"\n",
    "\n",
    "if __name__ == \"__main__\":\n",
    "    app.run(host = \"0.0.0.0\")"
   ]
  },
  {
   "cell_type": "code",
   "execution_count": null,
   "id": "53ca6701",
   "metadata": {},
   "outputs": [],
   "source": [
    "\"C:\\Users\\pranj\\OneDrive\\Pictures\\Screenshots\\Screenshot (7).png\""
   ]
  },
  {
   "cell_type": "markdown",
   "id": "cbff4f2f",
   "metadata": {},
   "source": [
    "### Q3. What is App routing in Flask? Why do we use app routes?"
   ]
  },
  {
   "cell_type": "markdown",
   "id": "9c0962b4",
   "metadata": {},
   "source": [
    "### Answer - 3"
   ]
  },
  {
   "cell_type": "markdown",
   "id": "d1edc540",
   "metadata": {},
   "source": [
    "### In Flask, routing refers to the process of mapping URLs to functions in the Python code that generate responses to those URLs.\n",
    "### An app route is a decorator function in Flask that maps a URL endpoint to a Python function. The basic syntax for an app route is as follows:\n",
    "\n",
    "@app.route('/pagename')\n",
    "\n",
    "def function_name():\n",
    "\n",
    "### When a user visits the specified URL endpoint in their web browser, Flask will invoke the associated function and return the response generated by that function.\n",
    "### We use app routes in Flask to build web applications that can respond to different requests from users. By defining app routes, we can map different URLs to different functions, which allows us to create a clean and organized structure for our application.\n",
    "### For example, we might define separate app routes to handle the home page, a login page, a user profile page, and so on. This makes it easy to add new features to our application over time, and to keep our code organized and maintainable.\n",
    "### Overall, app routing is a key part of building web applications in Flask, and is essential for creating dynamic and responsive websites."
   ]
  },
  {
   "cell_type": "markdown",
   "id": "c1dbe674",
   "metadata": {},
   "source": [
    "### Q4. Create a “/welcome” route to display the welcome message “Welcome to ABC Corporation” and a “/”\n",
    "### route to show the following details:\n",
    "### Company Name: ABC Corporation\n",
    "### Location: India\n",
    "### Contact Detail: 999-999-9999"
   ]
  },
  {
   "cell_type": "markdown",
   "id": "8d46d26d",
   "metadata": {},
   "source": [
    "### Answer - 4"
   ]
  },
  {
   "cell_type": "code",
   "execution_count": 4,
   "id": "0d8b20c1",
   "metadata": {},
   "outputs": [
    {
     "name": "stdout",
     "output_type": "stream",
     "text": [
      " * Serving Flask app \"__main__\" (lazy loading)\n",
      " * Environment: production\n",
      "\u001b[31m   WARNING: This is a development server. Do not use it in a production deployment.\u001b[0m\n",
      "\u001b[2m   Use a production WSGI server instead.\u001b[0m\n",
      " * Debug mode: off\n"
     ]
    },
    {
     "name": "stderr",
     "output_type": "stream",
     "text": [
      " * Running on all addresses.\n",
      "   WARNING: This is a development server. Do not use it in a production deployment.\n",
      " * Running on http://192.168.29.28:5000/ (Press CTRL+C to quit)\n"
     ]
    }
   ],
   "source": [
    "from flask import Flask\n",
    "\n",
    "app = Flask(__name__)\n",
    "\n",
    "@app.route(\"/welcome\")\n",
    "def welcome_msg():\n",
    "    return \"<h1 align='center'>Welcome to ABC Corporation</h1>\"\n",
    "\n",
    "@app.route(\"/\")\n",
    "def home_page():\n",
    "    return '''\n",
    "    <h1>Company Name: ABC Corporation</h1>\n",
    "    <p>Location: India</p>\n",
    "    <p>Contact Detail: 999-999-9999</p>\n",
    "    '''\n",
    "\n",
    "if __name__==\"__main__\":\n",
    "    app.run(host=\"0.0.0.0\")"
   ]
  },
  {
   "cell_type": "markdown",
   "id": "b3e36faa",
   "metadata": {},
   "source": [
    "Screenshot 1 : \"C:\\Users\\pranj\\OneDrive\\Pictures\\Screenshots\\Screenshot (8).png\"\n",
    "\n",
    "Screenshot 2 : \"C:\\Users\\pranj\\OneDrive\\Pictures\\Screenshots\\Screenshot (9).png\""
   ]
  },
  {
   "attachments": {},
   "cell_type": "markdown",
   "id": "2c426ad8",
   "metadata": {},
   "source": [
    "### Q5. What function is used in Flask for URL Building? Write a Python code to demonstrate the working of the url_for() function."
   ]
  },
  {
   "cell_type": "markdown",
   "id": "ef091600",
   "metadata": {},
   "source": [
    "### Answer - 5"
   ]
  },
  {
   "cell_type": "markdown",
   "id": "fa26bb5b",
   "metadata": {},
   "source": [
    "### In Flask, the url_for() function is used for URL building. The url_for() function generates a URL for a given endpoint and any arguments provided. This function is useful because it ensures that URLs are always generated according to the rules of the application, even if the URL structure is changed."
   ]
  },
  {
   "cell_type": "code",
   "execution_count": null,
   "id": "576db818",
   "metadata": {},
   "outputs": [],
   "source": [
    "from flask import Flask, url_for\n",
    "\n",
    "app = Flask(__name__)\n",
    "\n",
    "@app.route('/')\n",
    "def home():\n",
    "    return 'Welcome to My home page!'\n",
    "\n",
    "@app.route('/user/<username>')\n",
    "def user_profile(username):\n",
    "    return f'Welcome to {username}\\'s profile!'\n",
    "\n",
    "with app.test_request_context():\n",
    "    print(\"1. URL for Home page is :\",url_for('home'))\n",
    "\n",
    "    print(\"2. URL for user is :\",url_for('user_profile', username='PranjalBhardwaj'))"
   ]
  }
 ],
 "metadata": {
  "kernelspec": {
   "display_name": "Python 3 (ipykernel)",
   "language": "python",
   "name": "python3"
  },
  "language_info": {
   "codemirror_mode": {
    "name": "ipython",
    "version": 3
   },
   "file_extension": ".py",
   "mimetype": "text/x-python",
   "name": "python",
   "nbconvert_exporter": "python",
   "pygments_lexer": "ipython3",
   "version": "3.9.13"
  }
 },
 "nbformat": 4,
 "nbformat_minor": 5
}
