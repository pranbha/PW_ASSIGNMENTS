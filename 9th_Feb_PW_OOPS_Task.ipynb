{
 "cells": [
  {
   "cell_type": "markdown",
   "id": "2c1726b3",
   "metadata": {},
   "source": [
    "Q1. Create a vehicle class with an init method having instance variables as name_of_vehicle, max_speed\n",
    "and average_of_vehicle."
   ]
  },
  {
   "cell_type": "code",
   "execution_count": 1,
   "id": "14eafea7",
   "metadata": {},
   "outputs": [],
   "source": [
    "class vehicle:\n",
    "    def __init__(self,name_of_vehicle, max_speed, average_of_vehicle):\n",
    "        self.name_of_vehicle = name_of_vehicle\n",
    "        self.max_speed = max_speed\n",
    "        self.average_of_vehicle = average_of_vehicle"
   ]
  },
  {
   "cell_type": "markdown",
   "id": "54ad951f",
   "metadata": {},
   "source": [
    "Q2. Create a child class car from the vehicle class created in Que 1, which will inherit the vehicle class.\n",
    "Create a method named seating_capacity which takes capacity as an argument and returns the name of\n",
    "the vehicle and its seating capacity."
   ]
  },
  {
   "cell_type": "code",
   "execution_count": 5,
   "id": "e3e69db4",
   "metadata": {},
   "outputs": [
    {
     "data": {
      "text/plain": [
       "('Ferrari', 2)"
      ]
     },
     "execution_count": 5,
     "metadata": {},
     "output_type": "execute_result"
    }
   ],
   "source": [
    "class car(vehicle):\n",
    "    def seating_capacity(self, capacity):\n",
    "        self.capacity = capacity\n",
    "        return (self.name_of_vehicle, self.capacity)\n",
    "    \n",
    "obj_car = car(\"Ferrari\", 350, 15)\n",
    "obj_car.seating_capacity(2)"
   ]
  },
  {
   "cell_type": "markdown",
   "id": "922c4948",
   "metadata": {},
   "source": [
    "Q3. What is multiple inheritance? Write a python code to demonstrate multiple inheritance."
   ]
  },
  {
   "cell_type": "code",
   "execution_count": 11,
   "id": "e7d71a39",
   "metadata": {},
   "outputs": [
    {
     "name": "stdout",
     "output_type": "stream",
     "text": [
      "Name of the dog is : Tomi\n",
      "This is example of multiple inheritance\n"
     ]
    }
   ],
   "source": [
    "'''Multiple inheritance is a feature of some object-oriented computer programming languages in which an object or class can inherit features from more than one parent object or parent class. It is distinct from single inheritance, where an object or class may only inherit from one particular object or class.'''\n",
    "class dog:\n",
    "    def dog_name(self, name_of_dog):\n",
    "        self.name1 = name_of_dog\n",
    "        print(f\"Name of the dog is : {self.name1}\")\n",
    "class cat:\n",
    "    def cat_name(self,name_of_cat):\n",
    "        self.name2 = name_of_cat\n",
    "        print(f\"Name of the cat is : {self.name2}\")\n",
    "class animal(dog, cat):\n",
    "    def multiple_inheritance(self):\n",
    "        print(\"This is the example of multiple inheritance\")\n",
    "        \n",
    "obj = animal()\n",
    "obj.dog_name(\"Tomi\")\n",
    "obj.multiple_inheritance()"
   ]
  },
  {
   "cell_type": "markdown",
   "id": "90c7d82a",
   "metadata": {},
   "source": [
    "Q4. What are getter and setter in python? Create a class and create a getter and a setter method in this\n",
    "class."
   ]
  },
  {
   "cell_type": "markdown",
   "id": "6014cb83",
   "metadata": {},
   "source": [
    "getter and setter are decorators in python that provide access and modification to private variables to external user and ensures encapsulation."
   ]
  },
  {
   "cell_type": "code",
   "execution_count": 12,
   "id": "fb87a4f6",
   "metadata": {},
   "outputs": [
    {
     "data": {
      "text/plain": [
       "64"
      ]
     },
     "execution_count": 12,
     "metadata": {},
     "output_type": "execute_result"
    }
   ],
   "source": [
    "class square:\n",
    "    def __init__(self, length):\n",
    "        self.__length = length\n",
    "\n",
    "    @property  # getter method\n",
    "    def get_area(self):\n",
    "        return (self.__length * self.__length)\n",
    "\n",
    "    @get_area.setter # setter method\n",
    "    def set_area(self, len):\n",
    "        self.__length = len\n",
    "\n",
    "\n",
    "s1 = square(5)\n",
    "s1.set_area = 8\n",
    "s1.get_area"
   ]
  },
  {
   "cell_type": "markdown",
   "id": "02249183",
   "metadata": {},
   "source": [
    "Q5.What is method overriding in python? Write a python code to demonstrate method overriding."
   ]
  },
  {
   "cell_type": "markdown",
   "id": "ce26a6e2",
   "metadata": {},
   "source": [
    "Method overriding in Python is to create two methods with the same name and same parameter in a superclass-subclass relationship"
   ]
  },
  {
   "cell_type": "code",
   "execution_count": 13,
   "id": "266ffddc",
   "metadata": {},
   "outputs": [
    {
     "name": "stdout",
     "output_type": "stream",
     "text": [
      "This is teacher\n",
      "This is student\n"
     ]
    }
   ],
   "source": [
    "class Teacher:\n",
    "    def print(self):\n",
    "        print(\"This is teacher\")\n",
    "\n",
    "\n",
    "class Student(Teacher):\n",
    "    def print(self):\n",
    "        print(\"This is student\")\n",
    "\n",
    "\n",
    "ob1 = Teacher\n",
    "ob1.print(\"\")\n",
    "\n",
    "ob2 = Student\n",
    "ob2.print(\"\")"
   ]
  },
  {
   "cell_type": "code",
   "execution_count": null,
   "id": "52012a2d",
   "metadata": {},
   "outputs": [],
   "source": []
  }
 ],
 "metadata": {
  "kernelspec": {
   "display_name": "Python 3 (ipykernel)",
   "language": "python",
   "name": "python3"
  },
  "language_info": {
   "codemirror_mode": {
    "name": "ipython",
    "version": 3
   },
   "file_extension": ".py",
   "mimetype": "text/x-python",
   "name": "python",
   "nbconvert_exporter": "python",
   "pygments_lexer": "ipython3",
   "version": "3.9.13"
  }
 },
 "nbformat": 4,
 "nbformat_minor": 5
}
