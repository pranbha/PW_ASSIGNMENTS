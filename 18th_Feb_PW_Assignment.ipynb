{
 "cells": [
  {
   "cell_type": "markdown",
   "id": "8e249c40",
   "metadata": {},
   "source": [
    "### Q1. What is an API? Give an example, where an API is used in real life."
   ]
  },
  {
   "cell_type": "markdown",
   "id": "1c64c059",
   "metadata": {},
   "source": [
    "### Answer - 1"
   ]
  },
  {
   "cell_type": "markdown",
   "id": "8732bf75",
   "metadata": {},
   "source": [
    "### APIs are an accessible way to extract and share data within and across organizations. APIs are all around us. Every time you use a rideshare app, send a mobile payment, or change the thermostat temperature from your phone, you're using an API."
   ]
  },
  {
   "cell_type": "markdown",
   "id": "a638966d",
   "metadata": {},
   "source": [
    "### Q2. Give advantages and disadvantages of using API."
   ]
  },
  {
   "cell_type": "markdown",
   "id": "3784efec",
   "metadata": {},
   "source": [
    "### Answer - 2"
   ]
  },
  {
   "cell_type": "markdown",
   "id": "9fa8b5cc",
   "metadata": {},
   "source": [
    "### Advantages:\n",
    "1. Increased Interoperability: API solutions enable different software systems to communicate with each other, regardless of their programming language or platform. This enhances the interoperability between systems, allowing for the exchange of data and functionality.\n",
    "2. Improved Efficiency: API driven infrastructures enable developers to reuse code and functionality from existing software systems, saving time and reducing the amount of code that needs to be written from scratch.\n",
    "3. Better User Experience: APIs can enable third-party developers to create applications that integrate with existing software systems, providing a better user experience and increased functionality.\n",
    "4. Increased Flexibility: APIs provide developers with greater flexibility, enabling them to choose the best programming languages and frameworks for their needs.\n",
    "5. New Revenue Streams: APIs can enable companies to create new revenue streams by providing third-party developers with access to their software systems.\n",
    "\n",
    "### Disadvantages\n",
    "1. Security Concerns: API infrastructures can be vulnerable to security breaches, such as SQL injection attacks and cross-site scripting (XSS) attacks, making it crucial to implement security measures to protect against these threats.\n",
    "2. Complexity: APIs can be complex, requiring a significant amount of development effort to implement and maintain.\n",
    "3. Compatibility Issues: APIs can have compatibility issues between different versions of the same software system or between different systems, which can lead to errors and system failures.\n",
    "4. Dependency on Third-Party Developers: APIs rely on third-party developers to create applications that integrate with the software system. This can create dependencies that are outside of the control of the company that owns the software system.\n",
    "5. Governance and Management: APIs require proper governance and management to ensure they are being used correctly and consistently across different applications and systems."
   ]
  },
  {
   "cell_type": "markdown",
   "id": "a2a4352e",
   "metadata": {},
   "source": [
    "### Q3. What is a Web API? Differentiate between API and Web API."
   ]
  },
  {
   "cell_type": "markdown",
   "id": "1d801ce5",
   "metadata": {},
   "source": [
    "### Answer - 2"
   ]
  },
  {
   "cell_type": "markdown",
   "id": "ec1a36fc",
   "metadata": {},
   "source": [
    "### API is an interface that exposes an application's data to outside software, whereas web applications are one type of API with stricter requirements. These requirements include network communication, SOAP as the primary protocol, and less accessibility for the public.\n",
    "\n",
    "- WEB API \n",
    " - It uses HTTP protocol\n",
    " - It is a subset of API\n",
    "\n",
    "- API\n",
    " -  uses TCP, SMTP, HTTP protocols \n"
   ]
  },
  {
   "cell_type": "markdown",
   "id": "a0e58741",
   "metadata": {},
   "source": [
    "### Q4. Explain REST and SOAP Architecture. Mention shortcomings of SOAP."
   ]
  },
  {
   "cell_type": "markdown",
   "id": "3a06baa2",
   "metadata": {},
   "source": [
    "### Answer - 4"
   ]
  },
  {
   "cell_type": "markdown",
   "id": "881b4928",
   "metadata": {},
   "source": [
    "- REST \n",
    " - Representational State Transfer\n",
    " - Uses HTTP\n",
    " - Have PUT, GET, POST, DELETE commands\n",
    " - It is more simple\n",
    " - It is more flexible\n",
    " - It is easily scalable\n",
    " - It is less Secure\n",
    " \n",
    "- SOAP\n",
    " - Simple Object Access Protocol\n",
    " - It uses TCP and SMTP protocols\n",
    " - Messages are transferred in XML(eXtensible Markup Language)\n",
    " - Rules are defined in WSDL(Web Service Description Language)\n",
    "\n",
    "- Shortcomings of SOAP\n",
    " - It is complex\n",
    " - It is less flexible\n",
    " - It is difficult to scale"
   ]
  },
  {
   "cell_type": "markdown",
   "id": "31114fff",
   "metadata": {},
   "source": [
    "### Q5. Differentiate between REST and SOAP."
   ]
  },
  {
   "cell_type": "markdown",
   "id": "ce4ad031",
   "metadata": {},
   "source": [
    "### Answer - 5"
   ]
  },
  {
   "cell_type": "markdown",
   "id": "118c799d",
   "metadata": {},
   "source": [
    "## Key differences: SOAP vs REST\n",
    "\n",
    "SOAP is a protocol, while REST is an architectural style. This creates significant differences in how SOAP APIs and REST APIs behave.\n",
    "\n",
    "\n",
    "- Design\n",
    "The SOAP API exposes functions or operations, while REST APIs are data-driven. For example, consider an application with employee data that other applications can manipulate. The application's SOAP API could expose a function called CreateEmployee. To create an employee, you would specify the function name in your SOAP message when sending a request.\n",
    "\n",
    "However, the application's REST API could expose a URL called /employees, and a POST request to that URL would create a new employee record.\n",
    "\n",
    "\n",
    "- Flexibility\n",
    "SOAP APIs are rigid and only allow XML messaging between applications. The application server also has to maintain the state of each client. This means it has to remember all previous requests when processing a new request.\n",
    "\n",
    "REST is more flexible and allows applications to transfer data as plain text, HTML, XML, and JSON. REST is also stateless, so the REST API treats every new request independently of previous requests.\n",
    "\n",
    "\n",
    "- Performance\n",
    "SOAP messages are larger and more complex, which makes them slower to transmit and process. This can increase page load times.\n",
    "\n",
    "REST is faster and more efficient than SOAP due to the smaller message sizes of REST. REST responses are also cacheable, so the server can store frequently accessed data in a cache for even shorter page load times.\n",
    "\n",
    "\n",
    "- Scalability\n",
    "The SOAP protocol requires applications to store the state between requests, which increases bandwidth and memory requirements. As a result, it makes applications expensive and challenging to scale.\n",
    "\n",
    "Unlike SOAP, REST permits stateless and layered architecture, which makes it more scalable. For example, the application server can pass the request to other servers or allow an intermediary (like a content delivery network) to handle it.\n",
    "\n",
    "\n",
    "- Security\n",
    "SOAP requires an additional layer of WS-Security to work with HTTPS. WS-Security uses additional header content to ensure only the designated process in the specified server reads the SOAP message content. This adds communication overheads and negatively impacts performance.\n",
    "\n",
    "REST supports HTTPS without additional overheads.\n",
    "\n",
    "\n",
    "- Reliability\n",
    "SOAP has error handling logic built into it, and it provides more reliability. On the other hand, REST requires you to try again in case of communication failures, and it’s less reliable."
   ]
  },
  {
   "cell_type": "code",
   "execution_count": null,
   "id": "3c809ada",
   "metadata": {},
   "outputs": [],
   "source": []
  }
 ],
 "metadata": {
  "kernelspec": {
   "display_name": "Python 3 (ipykernel)",
   "language": "python",
   "name": "python3"
  },
  "language_info": {
   "codemirror_mode": {
    "name": "ipython",
    "version": 3
   },
   "file_extension": ".py",
   "mimetype": "text/x-python",
   "name": "python",
   "nbconvert_exporter": "python",
   "pygments_lexer": "ipython3",
   "version": "3.9.13"
  }
 },
 "nbformat": 4,
 "nbformat_minor": 5
}
