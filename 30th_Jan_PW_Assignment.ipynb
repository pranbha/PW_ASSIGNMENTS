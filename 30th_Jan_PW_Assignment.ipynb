{
 "cells": [
  {
   "cell_type": "markdown",
   "id": "f48f1b7e",
   "metadata": {},
   "source": [
    "Answer - 1"
   ]
  },
  {
   "cell_type": "code",
   "execution_count": 1,
   "id": "b940904e",
   "metadata": {},
   "outputs": [
    {
     "name": "stdout",
     "output_type": "stream",
     "text": [
      "Enter the percentage: 86\n",
      "You got grade B\n"
     ]
    }
   ],
   "source": [
    "percentage=int(input(\"Enter the percentage: \"))\n",
    "if percentage>=0 and percentage<=100:\n",
    "    if percentage > 90:\n",
    "        print(\"You got grade A\")\n",
    "    elif percentage>80 and percentage<=90:\n",
    "        print(\"You got grade B\")\n",
    "    elif percentage>=60 and percentage<=80:\n",
    "        print(\"You got grade C\")\n",
    "    else:\n",
    "        print(\"You got grade D \")\n",
    "else:\n",
    "    print(\"Enter valid percentage\")"
   ]
  },
  {
   "cell_type": "markdown",
   "id": "b0246a5f",
   "metadata": {},
   "source": [
    "Answer - 2"
   ]
  },
  {
   "cell_type": "code",
   "execution_count": 2,
   "id": "c8794a5e",
   "metadata": {},
   "outputs": [
    {
     "name": "stdout",
     "output_type": "stream",
     "text": [
      "Enter the Cost Price of Bike : 200000\n",
      "Tax to be paid by you is 15%\n"
     ]
    }
   ],
   "source": [
    "Cost_Price = int(input(\"Enter the Cost Price of Bike : \"))\n",
    "if Cost_Price>100000:\n",
    "    print(\"Tax to be paid by you is 15%\")\n",
    "elif Cost_Price>50000 and Cost_Price<=100000:\n",
    "    print(\"Tax to be paid by you is 10%\")\n",
    "else:\n",
    "    print(\"Tax to be paid by you is 5%\")"
   ]
  },
  {
   "cell_type": "markdown",
   "id": "212fc68c",
   "metadata": {},
   "source": [
    "Answer - 3"
   ]
  },
  {
   "cell_type": "code",
   "execution_count": 3,
   "id": "89fa52fb",
   "metadata": {},
   "outputs": [
    {
     "name": "stdout",
     "output_type": "stream",
     "text": [
      "Enter the city name to know Monument in it : DeLhI\n",
      "Monument in this city is Red Fort\n"
     ]
    }
   ],
   "source": [
    "City = input(\"Enter the city name to know Monument in it : \")\n",
    "City_name = City.lower()\n",
    "if City_name == \"delhi\":\n",
    "    print(\"Monument in this city is Red Fort\")\n",
    "elif City_name == \"agra\":\n",
    "    print(\"Monument in this city is Taj Mahal\")\n",
    "elif City_name == \"jaipur\":\n",
    "    print(\"Monument in this city is Jal Mahal\")"
   ]
  },
  {
   "cell_type": "markdown",
   "id": "10fc7a6a",
   "metadata": {},
   "source": [
    "Answer - 4"
   ]
  },
  {
   "cell_type": "code",
   "execution_count": 4,
   "id": "28fbff79",
   "metadata": {},
   "outputs": [
    {
     "name": "stdout",
     "output_type": "stream",
     "text": [
      "Enter a number: 86\n",
      "\n",
      " 2\n"
     ]
    }
   ],
   "source": [
    "number = int(input(\"Enter a number: \"))\n",
    "Quotient = number / 3\n",
    "count=1\n",
    "while Quotient > 10 and Quotient!=10:\n",
    "    Quotient = Quotient / 3\n",
    "    count = count+1\n",
    "else:\n",
    "    print(\"\\n\", count)"
   ]
  },
  {
   "cell_type": "code",
   "execution_count": 5,
   "id": "1eb3fbc2",
   "metadata": {},
   "outputs": [
    {
     "name": "stdout",
     "output_type": "stream",
     "text": [
      "Enter a number: 86\n",
      "\n",
      " 2\n"
     ]
    }
   ],
   "source": [
    "number = int(input(\"Enter a number: \"))\n",
    "count=0\n",
    "while number>=10 :\n",
    "    number = number / 3\n",
    "    count = count+1\n",
    "else:\n",
    "    print(\"\\n\", count)"
   ]
  },
  {
   "cell_type": "markdown",
   "id": "11919c1b",
   "metadata": {},
   "source": [
    "Answer - 5"
   ]
  },
  {
   "cell_type": "code",
   "execution_count": 11,
   "id": "9f26c56a",
   "metadata": {},
   "outputs": [
    {
     "data": {
      "text/plain": [
       "'A While loop in Python allows a part of the code to be executed repeatedly as long as a given condition is true. The While loop in Python is also called a pre-tested loop. It is typically used when the number of iterations is not known.\\nA Python While loop expression/condition consists of three parts:'"
      ]
     },
     "execution_count": 11,
     "metadata": {},
     "output_type": "execute_result"
    }
   ],
   "source": [
    "'''A While loop in Python allows a part of the code to be executed repeatedly as long as a given condition is true. The While loop in Python is also called a pre-tested loop. It is typically used when the number of iterations is not known.\n",
    "A Python While loop expression/condition consists of three parts:'''\n",
    "#A piece of code that needs to be repeated over and over\n",
    "#The while keyword\n",
    "#A condition that translates to either True or False\n",
    "#Explanation - \n",
    "#In Python, the test condition/expression will be checked first. If the condition holds True, the body of the loop will be entered.\n",
    "#After one iteration, it will check the condition again.\n",
    "#The process will continue until the condition becomes False.\n",
    "#The expression should be any valid Python expression that results in True or False. False is 0 while True is any non-zero value.\n",
    "#The while loop body begins with an indentation while the first un-indented line represents the end of the while loop.\n"
   ]
  },
  {
   "cell_type": "markdown",
   "id": "9aea600b",
   "metadata": {},
   "source": [
    "Example -"
   ]
  },
  {
   "cell_type": "code",
   "execution_count": 12,
   "id": "fcb33d94",
   "metadata": {},
   "outputs": [
    {
     "name": "stdout",
     "output_type": "stream",
     "text": [
      "1\n",
      "2\n",
      "3\n",
      "4\n"
     ]
    }
   ],
   "source": [
    "i = 1\n",
    "while i < 5 :\n",
    "    print(i)\n",
    "    i += 1"
   ]
  },
  {
   "cell_type": "markdown",
   "id": "3dfa6077",
   "metadata": {},
   "source": [
    "Answer - 6"
   ]
  },
  {
   "cell_type": "code",
   "execution_count": 13,
   "id": "d3347ed9",
   "metadata": {},
   "outputs": [
    {
     "name": "stdout",
     "output_type": "stream",
     "text": [
      "Enter number of rows : 5\n",
      "* \n",
      "* * \n",
      "* * * \n",
      "* * * * \n",
      "* * * * * \n"
     ]
    }
   ],
   "source": [
    "n = int(input('Enter number of rows : '))\n",
    "i = 1\n",
    "while i <= n:\n",
    "    j = 1\n",
    "    while j <= i:\n",
    "        print(\"*\", end=\" \")\n",
    "        j += 1\n",
    "    print()\n",
    "    i += 1\n"
   ]
  },
  {
   "cell_type": "code",
   "execution_count": 14,
   "id": "ba84cc5c",
   "metadata": {},
   "outputs": [
    {
     "name": "stdout",
     "output_type": "stream",
     "text": [
      "Enter number of rows : 5\n",
      "* * * * * \n",
      "* * * * \n",
      "* * * \n",
      "* * \n",
      "* \n"
     ]
    }
   ],
   "source": [
    "n = int(input('Enter number of rows : '))\n",
    "i = 1\n",
    "while i <= n:\n",
    "    j = n\n",
    "    while j >= i:\n",
    "        print(\"*\", end=\" \")\n",
    "        j -= 1\n",
    "    print()\n",
    "    i += 1\n"
   ]
  },
  {
   "cell_type": "code",
   "execution_count": 15,
   "id": "4331341a",
   "metadata": {},
   "outputs": [
    {
     "name": "stdout",
     "output_type": "stream",
     "text": [
      "Enter number of rows : 5\n",
      "  1 \n",
      "  2   3 \n",
      "  4   5   6 \n",
      "  7   8   9  10 \n",
      " 11  12  13  14  15 \n"
     ]
    }
   ],
   "source": [
    "n = int(input('Enter number of rows : '))\n",
    "k = 1\n",
    "i = 1\n",
    "while i <= n:\n",
    "    j = 1\n",
    "    while j <= i:\n",
    "        print(\"{:3d}\".format(k), end=\" \")\n",
    "        j += 1\n",
    "        k += 1\n",
    "    print()\n",
    "    i += 1\n"
   ]
  },
  {
   "cell_type": "markdown",
   "id": "f35ef2bf",
   "metadata": {},
   "source": [
    "Answer - 7"
   ]
  },
  {
   "cell_type": "code",
   "execution_count": 16,
   "id": "d7f3082d",
   "metadata": {},
   "outputs": [
    {
     "name": "stdout",
     "output_type": "stream",
     "text": [
      "10\n",
      "9\n",
      "8\n",
      "7\n",
      "6\n",
      "5\n",
      "4\n",
      "3\n",
      "2\n",
      "1\n"
     ]
    }
   ],
   "source": [
    "i=10\n",
    "while i !=0:\n",
    "    print(i)\n",
    "    i=i-1\n"
   ]
  },
  {
   "cell_type": "markdown",
   "id": "53ef6070",
   "metadata": {},
   "source": [
    "Answer - 8"
   ]
  },
  {
   "cell_type": "code",
   "execution_count": 17,
   "id": "4291a837",
   "metadata": {},
   "outputs": [
    {
     "name": "stdout",
     "output_type": "stream",
     "text": [
      "10\n",
      "9\n",
      "8\n",
      "7\n",
      "6\n",
      "5\n",
      "4\n",
      "3\n",
      "2\n",
      "1\n"
     ]
    }
   ],
   "source": [
    "i=10\n",
    "while i !=0:\n",
    "    print(i)\n",
    "    i=i-1\n"
   ]
  },
  {
   "cell_type": "code",
   "execution_count": null,
   "id": "0599670b",
   "metadata": {},
   "outputs": [],
   "source": []
  }
 ],
 "metadata": {
  "kernelspec": {
   "display_name": "Python 3 (ipykernel)",
   "language": "python",
   "name": "python3"
  },
  "language_info": {
   "codemirror_mode": {
    "name": "ipython",
    "version": 3
   },
   "file_extension": ".py",
   "mimetype": "text/x-python",
   "name": "python",
   "nbconvert_exporter": "python",
   "pygments_lexer": "ipython3",
   "version": "3.9.13"
  }
 },
 "nbformat": 4,
 "nbformat_minor": 5
}
