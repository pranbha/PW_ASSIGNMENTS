{
 "cells": [
  {
   "cell_type": "markdown",
   "id": "acfb813e",
   "metadata": {},
   "source": [
    "Q1. Which keyword is used to create a function? Create a function to return a list of odd numbers in the range of 1 to 25."
   ]
  },
  {
   "cell_type": "markdown",
   "id": "1804027f",
   "metadata": {},
   "source": [
    "Answer - 1"
   ]
  },
  {
   "cell_type": "code",
   "execution_count": 1,
   "id": "9c951c55",
   "metadata": {},
   "outputs": [
    {
     "name": "stdout",
     "output_type": "stream",
     "text": [
      "[1, 3, 5, 7, 9, 11, 13, 15, 17, 19, 21, 23]\n"
     ]
    }
   ],
   "source": [
    "#‘def’ keyword is used to create a function.\n",
    "def odd_no(n):\n",
    "    l = []\n",
    "    for i in range(1,n):\n",
    "        if i % 2 == 1:\n",
    "            l.append(i)\n",
    "    return l\n",
    "\n",
    "input1 = odd_no(25)\n",
    "print(input1)\n"
   ]
  },
  {
   "cell_type": "markdown",
   "id": "82b8d1f9",
   "metadata": {},
   "source": [
    "Q2. Why *args and **kwargs is used in some functions? Create a function each for *args and **kwargs to demonstrate their use."
   ]
  },
  {
   "cell_type": "markdown",
   "id": "76c8462c",
   "metadata": {},
   "source": [
    "Answer - 2"
   ]
  },
  {
   "cell_type": "code",
   "execution_count": 2,
   "id": "6c3a2ecb",
   "metadata": {},
   "outputs": [
    {
     "name": "stdout",
     "output_type": "stream",
     "text": [
      "(1, 2, 3, 4, ['hello', 'goodmorning'], (2, 3, 1))\n"
     ]
    }
   ],
   "source": [
    "'''*args is used in functions to pass any number of variables to the function so it does not show any error. It does not provide a limit to number of parameters on which a function is working.\n",
    "**kwargs is used to return a dictionary that is output in key value pairs on any input received in form of key value pair.\n",
    "'''\n",
    "def test(*args):\n",
    "    return args\n",
    "\n",
    "a = test(1,2,3,4, [\"hello\", \"goodmorning\"], (2,3,1))\n",
    "print(a)\n"
   ]
  },
  {
   "cell_type": "code",
   "execution_count": 3,
   "id": "db02cbc2",
   "metadata": {},
   "outputs": [
    {
     "name": "stdout",
     "output_type": "stream",
     "text": [
      "{'b': 'Good', 'c': 2, 'd': 4, 'e': 'hello'}\n"
     ]
    }
   ],
   "source": [
    "def test(**kwargs):\n",
    "    return kwargs\n",
    "\n",
    "a = test(b = \"Good\", c = 2, d = 4, e = \"hello\")\n",
    "print(a)\n"
   ]
  },
  {
   "cell_type": "markdown",
   "id": "ac0c570c",
   "metadata": {},
   "source": [
    "Q3. What is an iterator in python? Name the method used to initialise the iterator object and the method used for iteration. Use these methods to print the first five elements of the given list [2, 4, 6, 8, 10, 12, 14, 16, 18, 20]."
   ]
  },
  {
   "cell_type": "markdown",
   "id": "aa8dc821",
   "metadata": {},
   "source": [
    "Answer - 3"
   ]
  },
  {
   "cell_type": "code",
   "execution_count": 4,
   "id": "e0d68739",
   "metadata": {},
   "outputs": [
    {
     "name": "stdout",
     "output_type": "stream",
     "text": [
      "2\n",
      "4\n",
      "6\n",
      "8\n",
      "10\n"
     ]
    }
   ],
   "source": [
    "'''An iterator is an object that contains a countable number of values. An iterator is an object that can be iterated upon, meaning that you can traverse through all the values. Technically, in Python, an iterator is an object which implements the iterator protocol.\n",
    "‘next’ and ‘iter’ are methods used to initialize the iterator object and used for iteration.'''\n",
    "a = [2, 4, 6, 8, 10, 12, 14, 16, 18, 20]\n",
    "iterator = iter(a)\n",
    "print(next(iterator))\n",
    "print(next(iterator))\n",
    "print(next(iterator))\n",
    "print(next(iterator))\n",
    "print(next(iterator))\n"
   ]
  },
  {
   "cell_type": "markdown",
   "id": "cab15ed3",
   "metadata": {},
   "source": [
    "Q4. What is a generator function in python? Why yield keyword is used? Give an example of a generator function."
   ]
  },
  {
   "cell_type": "markdown",
   "id": "d257355b",
   "metadata": {},
   "source": [
    "Answer - 4"
   ]
  },
  {
   "cell_type": "code",
   "execution_count": 5,
   "id": "06736ea1",
   "metadata": {},
   "outputs": [
    {
     "name": "stdout",
     "output_type": "stream",
     "text": [
      "0\n",
      "1\n",
      "1\n",
      "2\n",
      "3\n",
      "5\n",
      "8\n",
      "13\n",
      "21\n",
      "34\n"
     ]
    }
   ],
   "source": [
    "'''In Python, a generator is a function that returns an iterator that produces a sequence of values when iterated over. Generators are useful when we want to produce a large sequence of values, but we don't want to store all of them in memory at once.\n",
    "In simpler words, the yield keyword will convert an expression that is specified along with it to a generator object and return it to the caller. Hence, if you want to get the values stored inside the generator object, you need to iterate over it.\n",
    "'''\n",
    "def fib(n):\n",
    "    a,b = 0,1\n",
    "    for i in range(n):\n",
    "        yield a\n",
    "        a,b = b, a+b\n",
    "\n",
    "for i in fib(10):\n",
    "    print(i)\n"
   ]
  },
  {
   "cell_type": "code",
   "execution_count": null,
   "id": "1c9e4dbe",
   "metadata": {},
   "outputs": [],
   "source": []
  }
 ],
 "metadata": {
  "kernelspec": {
   "display_name": "Python 3 (ipykernel)",
   "language": "python",
   "name": "python3"
  },
  "language_info": {
   "codemirror_mode": {
    "name": "ipython",
    "version": 3
   },
   "file_extension": ".py",
   "mimetype": "text/x-python",
   "name": "python",
   "nbconvert_exporter": "python",
   "pygments_lexer": "ipython3",
   "version": "3.9.13"
  }
 },
 "nbformat": 4,
 "nbformat_minor": 5
}
