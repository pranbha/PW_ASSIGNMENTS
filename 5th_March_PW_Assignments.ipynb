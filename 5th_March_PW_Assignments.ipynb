{
 "cells": [
  {
   "cell_type": "markdown",
   "id": "adfff392",
   "metadata": {},
   "source": [
    "### Q1. How can you create a Bokeh plot using Python code?"
   ]
  },
  {
   "cell_type": "markdown",
   "id": "db752d63",
   "metadata": {},
   "source": [
    "pip install bokeh\n",
    "\n",
    "from bokeh.plotting import figure, output_file, show\n",
    "\n",
    "x = [1, 2, 3, 4, 5]\n",
    "y = [6, 7, 2, 4, 5]\n",
    "\n",
    "output_file(\"line.html\")\n",
    "\n",
    "p = figure(title=\"Simple Line Plot\", x_axis_label='x', y_axis_label='y')\n",
    "\n",
    "p.line(x, y, legend_label=\"Line\", line_width=2)\n",
    "\n",
    "from bokeh.plotting import figure, output_file, show\n",
    "\n",
    "x = [1, 2, 3, 4, 5]\n",
    "y = [6, 7, 2, 4, 5]\n",
    "output_file(\"line.html\")\n",
    "p = figure(title=\"Simple Line Plot\", x_axis_label='x', y_axis_label='y')\n",
    "p.line(x, y, legend_label=\"Line\", line_width=2)\n",
    "\n",
    "show(p)\n",
    "\n",
    "This will generate a Bokeh plot with a simple line chart displaying the points `(1, 6), (2, 7), (3, 2), (4, 4), (5, 5)`. You can customize the plot further by modifying parameters of the `figure()` and `line()` functions."
   ]
  },
  {
   "cell_type": "markdown",
   "id": "9e382e23",
   "metadata": {},
   "source": [
    "### Q2. What are glyphs in Bokeh, and how can you add them to a Bokeh plot? Explain with an example."
   ]
  },
  {
   "cell_type": "code",
   "execution_count": 2,
   "id": "94c19f35",
   "metadata": {},
   "outputs": [],
   "source": [
    "#In Bokeh, glyphs are visual markers used to represent data points in plots. Glyphs can be simple shapes like circles, squares, or lines, or they can be more complex shapes like wedges, patches, or vectorized images. These glyphs are added to a plot to visualize data in various ways.\n",
    "\n",
    "#To add glyphs to a Bokeh plot, you typically use glyph methods provided by the `figure` object, such as `circle()`, `square()`, `line()`, etc. You pass in the data to be plotted along with any additional parameters to customize the appearance of the glyphs.\n",
    "\n",
    "#Here's an example demonstrating how to add glyphs to a Bokeh plot:\n",
    "\n",
    "from bokeh.plotting import figure, output_file, show\n",
    "x = [1, 2, 3, 4, 5]\n",
    "y = [6, 7, 2, 4, 5]\n",
    "output_file(\"glyphs.html\")\n",
    "p = figure(title=\"Glyphs Example\", x_axis_label='x', y_axis_label='y')\n",
    "p.circle(x, y, size=10, color=\"navy\", alpha=0.5, legend_label=\"Circle\")\n",
    "p.line(x, y, line_width=2, color=\"green\", legend_label=\"Line\")\n",
    "show(p)"
   ]
  },
  {
   "cell_type": "markdown",
   "id": "b1c74ee9",
   "metadata": {},
   "source": [
    "### Q3. How can you customize the appearance of a Bokeh plot, including the axes, title, and legend?"
   ]
  },
  {
   "cell_type": "markdown",
   "id": "1863021b",
   "metadata": {},
   "source": [
    "You can customize various aspects of a Bokeh plot, including the axes, title, legend, colors, fonts, and more. Below are some common customizations you can make to a Bokeh plot:\n",
    "\n",
    "1. Title and Axis Labels:\n",
    "   You can set the title and labels for the x-axis and y-axis using the `title`, `x_axis_label`, and `y_axis_label` parameters of the `figure()` function.\n",
    "\n",
    "2. Axis Ranges:\n",
    "   You can set the range of values displayed on the axes using the `x_range` and `y_range` parameters of the `figure()` function.\n",
    "\n",
    "3. Axis Ticks and Formatting:\n",
    "   You can customize the appearance of axis ticks, including their positions, labels, and formatting using various properties of the axis objects returned by `figure()`.\n",
    "\n",
    "4. Legend:\n",
    "   You can add a legend to the plot using the `legend` parameter of the `figure()` function. You can customize the position, orientation, and other properties of the legend using properties of the legend object returned by `figure()`.\n",
    "\n",
    "5. Plot Background and Grid Lines:\n",
    "   You can customize the appearance of the plot background and grid lines using properties of the plot object returned by `figure()`.\n"
   ]
  },
  {
   "cell_type": "markdown",
   "id": "c49c06cc",
   "metadata": {},
   "source": [
    "### Q4. What is a Bokeh server, and how can you use it to create interactive plots that can be updated in real time?"
   ]
  },
  {
   "cell_type": "markdown",
   "id": "3d6dd8e3",
   "metadata": {},
   "source": [
    "Bokeh Server is a feature of the Bokeh library that allows you to create interactive web applications with Bokeh plots that can update and respond to user input or data changes in real-time. Bokeh Server enables the creation of dynamic and interactive dashboards, data visualization tools, and applications without needing to write complex JavaScript or HTML code.\n",
    "\n",
    "Here's how you can use Bokeh Server to create interactive plots that can be updated in real-time:\n",
    "\n",
    "1. Define the Plot and Application Logic:\n",
    "   Start by defining your Bokeh plot and any interactive elements you want to include, such as sliders, dropdowns, buttons, etc. You'll also define the update logic for the plot based on user input or changes in data.\n",
    "\n",
    "2. Create a Bokeh Application:\n",
    "   Next, you'll create a Bokeh application using the `bokeh.application` module. This application will define the layout and interaction behavior of your Bokeh plot.\n",
    "\n",
    "3. Run the Bokeh Server:\n",
    "   You'll then run the Bokeh server using the `bokeh.server` module, which will host your application. The server will continuously monitor for changes and update the plot accordingly.\n",
    "\n",
    "4. Access the Application in a Web Browser:\n",
    "   Finally, you can access your interactive Bokeh plot by navigating to the appropriate URL in a web browser. The plot will be served by the Bokeh server, and any interactions or updates will be handled in real-time."
   ]
  },
  {
   "cell_type": "markdown",
   "id": "df06c294",
   "metadata": {},
   "source": [
    "### Q5. How can you embed a Bokeh plot into a web page or dashboard using Flask or Django?"
   ]
  },
  {
   "cell_type": "markdown",
   "id": "b4e8e766",
   "metadata": {},
   "source": [
    "Embedding a Bokeh plot into a web page or dashboard using Flask or Django involves creating a web application that serves the Bokeh plot alongside other HTML content. Below are the steps for embedding a Bokeh plot into a web page or dashboard using Flask or Django:\n",
    "\n",
    "1. Install Flask:\n",
    "   pip install Flask\n",
    "\n",
    "\n",
    "2. Create Flask App:\n",
    "   Create a Flask web application. Define a route that will render the HTML page containing the Bokeh plot.\n",
    "\n",
    "3. Generate Bokeh Plot:\n",
    "   Use Bokeh to generate the plot within your Flask app.\n",
    "\n",
    "4. Render the HTML Template:\n",
    "   Create an HTML template file that will contain the Bokeh plot. Pass any necessary data to the template.\n",
    "\n",
    "5. Serve the Bokeh Plot:\n",
    "   Render the HTML template with the Bokeh plot in the Flask route.\n",
    "\n",
    "Here's a simplified example:\n",
    "\n",
    "from flask import Flask, render_template\n",
    "from bokeh.plotting import figure\n",
    "from bokeh.embed import components\n",
    "\n",
    "app = Flask(__name__)\n",
    "\n",
    "@app.route('/')\n",
    "def index():\n",
    "    # Generate Bokeh plot\n",
    "    plot = figure()\n",
    "    plot.circle([1, 2, 3], [4, 5, 6])\n",
    "    script, div = components(plot)\n",
    "\n",
    "    # Render HTML template with Bokeh plot\n",
    "    return render_template('index.html', script=script, div=div)\n",
    "\n",
    "if __name__ == '__main__':\n",
    "    app.run(debug=True)\n",
    "```\n",
    "\n",
    "### Using Django:\n",
    "\n",
    "1. **Create Django Project:**\n",
    "   Create a Django project if you haven't already.\n",
    "\n",
    "2. **Define View Function:**\n",
    "   Define a view function in a Django app that will render the HTML page containing the Bokeh plot.\n",
    "\n",
    "3. **Generate Bokeh Plot:**\n",
    "   Use Bokeh to generate the plot within your view function.\n",
    "\n",
    "4. **Render the HTML Template:**\n",
    "   Create an HTML template file that will contain the Bokeh plot. Pass any necessary data to the template.\n",
    "\n",
    "5. **Serve the Bokeh Plot:**\n",
    "   Render the HTML template with the Bokeh plot in the Django view function.\n",
    "\n",
    "Here's a simplified example:\n",
    "\n",
    "```python\n",
    "# views.py\n",
    "from django.shortcuts import render\n",
    "from bokeh.plotting import figure\n",
    "from bokeh.embed import components\n",
    "\n",
    "def index(request):\n",
    "    # Generate Bokeh plot\n",
    "    plot = figure()\n",
    "    plot.circle([1, 2, 3], [4, 5, 6])\n",
    "\n",
    "    # Get components of the Bokeh plot\n",
    "    script, div = components(plot)\n",
    "\n",
    "    # Render HTML template with Bokeh plot\n",
    "    return render(request, 'index.html', {'script': script, 'div': div})"
   ]
  },
  {
   "cell_type": "code",
   "execution_count": null,
   "id": "7f3d1071",
   "metadata": {},
   "outputs": [],
   "source": []
  }
 ],
 "metadata": {
  "kernelspec": {
   "display_name": "Python 3 (ipykernel)",
   "language": "python",
   "name": "python3"
  },
  "language_info": {
   "codemirror_mode": {
    "name": "ipython",
    "version": 3
   },
   "file_extension": ".py",
   "mimetype": "text/x-python",
   "name": "python",
   "nbconvert_exporter": "python",
   "pygments_lexer": "ipython3",
   "version": "3.9.13"
  }
 },
 "nbformat": 4,
 "nbformat_minor": 5
}
