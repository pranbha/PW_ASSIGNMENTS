{
 "cells": [
  {
   "cell_type": "markdown",
   "id": "8caf5cab",
   "metadata": {},
   "source": [
    "Q1. What is an Exception in python? Write the difference between Exceptions and Syntax errors."
   ]
  },
  {
   "cell_type": "markdown",
   "id": "918c1da6",
   "metadata": {},
   "source": [
    "Answer - 1"
   ]
  },
  {
   "cell_type": "markdown",
   "id": "0ecbb101",
   "metadata": {},
   "source": [
    "Exception is an abnormal condition encontered during the execution of a program.\n",
    "\n",
    "Difference between Exception and Syntax error.\n",
    "\n",
    "Exception -\n",
    "\n",
    "A condition where the program encounters some unexpected value passed for a variable used in the program.\n",
    "It is maskable by using try and except block in python.\n",
    "\n",
    "Syntax error -\n",
    "\n",
    "A condition where programmers uses a token(letter, symbol, etc) in the program code that is beyond or not defined in the grammer of that language.\n",
    "It is non-maskable."
   ]
  },
  {
   "cell_type": "markdown",
   "id": "25084ed4",
   "metadata": {},
   "source": [
    "Q2. What happens when an exception is not handled? Explain with an example."
   ]
  },
  {
   "cell_type": "markdown",
   "id": "d5ad9e5c",
   "metadata": {},
   "source": [
    "Answer - 2"
   ]
  },
  {
   "cell_type": "markdown",
   "id": "4d165f65",
   "metadata": {},
   "source": [
    "If an exception is not handled in python, the program will abort at that line and the further lines of code will not be executed"
   ]
  },
  {
   "cell_type": "code",
   "execution_count": 1,
   "id": "187720f4",
   "metadata": {},
   "outputs": [
    {
     "name": "stdout",
     "output_type": "stream",
     "text": [
      "INFO:root:When exception is not handled\n",
      "\n"
     ]
    },
    {
     "ename": "ZeroDivisionError",
     "evalue": "division by zero",
     "output_type": "error",
     "traceback": [
      "\u001b[1;31m---------------------------------------------------------------------------\u001b[0m",
      "\u001b[1;31mZeroDivisionError\u001b[0m                         Traceback (most recent call last)",
      "\u001b[1;32m~\\AppData\\Local\\Temp\\ipykernel_1764\\3627393078.py\u001b[0m in \u001b[0;36m<module>\u001b[1;34m\u001b[0m\n\u001b[0;32m      5\u001b[0m     \u001b[0mprint\u001b[0m\u001b[1;33m(\u001b[0m\u001b[0mf\u001b[0m\u001b[1;33m.\u001b[0m\u001b[0mread\u001b[0m\u001b[1;33m(\u001b[0m\u001b[1;33m)\u001b[0m\u001b[1;33m)\u001b[0m\u001b[1;33m\u001b[0m\u001b[1;33m\u001b[0m\u001b[0m\n\u001b[0;32m      6\u001b[0m \u001b[0mn\u001b[0m \u001b[1;33m=\u001b[0m \u001b[1;36m0\u001b[0m\u001b[1;33m\u001b[0m\u001b[1;33m\u001b[0m\u001b[0m\n\u001b[1;32m----> 7\u001b[1;33m \u001b[0mn\u001b[0m \u001b[1;33m=\u001b[0m \u001b[1;36m4\u001b[0m\u001b[1;33m/\u001b[0m\u001b[0mn\u001b[0m\u001b[1;33m\u001b[0m\u001b[1;33m\u001b[0m\u001b[0m\n\u001b[0m\u001b[0;32m      8\u001b[0m \u001b[1;33m\u001b[0m\u001b[0m\n\u001b[0;32m      9\u001b[0m \u001b[1;31m# The lines below will not run\u001b[0m\u001b[1;33m\u001b[0m\u001b[1;33m\u001b[0m\u001b[0m\n",
      "\u001b[1;31mZeroDivisionError\u001b[0m: division by zero"
     ]
    }
   ],
   "source": [
    "import logging\n",
    "logging.basicConfig(filename=\"Q2_2.log\", filemode=\"w\", level=logging.INFO)\n",
    "logging.info(\"When exception is not handled\")\n",
    "with open(\"Q2_2.log\") as f:\n",
    "    print(f.read())\n",
    "n = 0\n",
    "n = 4/n\n",
    "\n",
    "# The lines below will not run\n",
    "\n",
    "logging.info(\"Executing further lines of code...\")\n",
    "logging.shutdown()\n",
    "\n",
    "with open(\"Q2_2.log\") as f:\n",
    "    print(f.read())"
   ]
  },
  {
   "cell_type": "markdown",
   "id": "43b239d9",
   "metadata": {},
   "source": [
    "Q3. Which Python statements are used to catch and handle exceptions? Explain with an example."
   ]
  },
  {
   "cell_type": "markdown",
   "id": "7627f2c5",
   "metadata": {},
   "source": [
    "Answer - 3"
   ]
  },
  {
   "cell_type": "markdown",
   "id": "94acfd02",
   "metadata": {},
   "source": [
    "'try' and 'except' block is used to catch and handle the exception.\n",
    "\n",
    "Under 'try' block, the normal program code is kept for execution.\n",
    "\n",
    "Under 'except' block, the response to the exception is kept."
   ]
  },
  {
   "cell_type": "code",
   "execution_count": 38,
   "id": "aa0774df",
   "metadata": {},
   "outputs": [],
   "source": [
    "import logging\n",
    "logging.basicConfig(filename = \"Q2_2.log\", filemode=\"w\", level = logging.INFO)\n",
    "\n",
    "try:\n",
    "    a = 5/0\n",
    "except Exception as e:\n",
    "    logging.warning(\"This statement has some issue : %s\", e)"
   ]
  },
  {
   "cell_type": "code",
   "execution_count": 39,
   "id": "b79b8d77",
   "metadata": {},
   "outputs": [],
   "source": [
    "logging.shutdown()"
   ]
  },
  {
   "cell_type": "code",
   "execution_count": 40,
   "id": "4599422e",
   "metadata": {},
   "outputs": [
    {
     "ename": "AttributeError",
     "evalue": "module 'logging.handlers' has no attribute 'clear'",
     "output_type": "error",
     "traceback": [
      "\u001b[1;31m---------------------------------------------------------------------------\u001b[0m",
      "\u001b[1;31mAttributeError\u001b[0m                            Traceback (most recent call last)",
      "\u001b[1;32m~\\AppData\\Local\\Temp\\ipykernel_1764\\1213465298.py\u001b[0m in \u001b[0;36m<module>\u001b[1;34m\u001b[0m\n\u001b[1;32m----> 1\u001b[1;33m \u001b[0mlogging\u001b[0m\u001b[1;33m.\u001b[0m\u001b[0mhandlers\u001b[0m\u001b[1;33m.\u001b[0m\u001b[0mclear\u001b[0m\u001b[1;33m(\u001b[0m\u001b[1;33m)\u001b[0m\u001b[1;33m\u001b[0m\u001b[1;33m\u001b[0m\u001b[0m\n\u001b[0m",
      "\u001b[1;31mAttributeError\u001b[0m: module 'logging.handlers' has no attribute 'clear'"
     ]
    }
   ],
   "source": [
    "logging.handlers.clear()"
   ]
  },
  {
   "cell_type": "code",
   "execution_count": 27,
   "id": "84ef1034",
   "metadata": {},
   "outputs": [
    {
     "name": "stdout",
     "output_type": "stream",
     "text": [
      "WARNING:root:This statement has some issue : division by zero\n",
      "\n"
     ]
    }
   ],
   "source": [
    "with open(\"Q2_2.log\", \"r\") as f:\n",
    "    print(f.read())"
   ]
  },
  {
   "cell_type": "markdown",
   "id": "3e3b3362",
   "metadata": {},
   "source": [
    "Q4. Explain with an example:\n",
    "\n",
    "a. try and else\n",
    "\n",
    "b. finally\n",
    "\n",
    "c. raise"
   ]
  },
  {
   "cell_type": "markdown",
   "id": "3c639921",
   "metadata": {},
   "source": [
    "Answer - 4"
   ]
  },
  {
   "cell_type": "markdown",
   "id": "ae97ae9f",
   "metadata": {},
   "source": [
    "a. try and else\n",
    "\n",
    "try - 'try' block contains the code that might throw exception.\n",
    "\n",
    "else - 'else' block will execute if try block executed successfully.\n",
    "\n",
    "b. finally\n",
    "\n",
    "The 'finally' block will run regardless of any error.\n",
    "\n",
    "c. raise\n",
    "\n",
    "The 'raise' keyword is used to raise a custom exception."
   ]
  },
  {
   "cell_type": "code",
   "execution_count": 41,
   "id": "9f03f351",
   "metadata": {},
   "outputs": [],
   "source": [
    "import logging\n",
    "logging.basicConfig(filename=\"Q4.log\", filemode=\"w\", level=logging.INFO)\n",
    "\n",
    "\n",
    "class LenCheck(Exception):\n",
    "    def __init__(self, num):\n",
    "        self.num = num\n",
    "\n",
    "\n",
    "def lencheck(num):\n",
    "    if (len(num) != 5):\n",
    "        raise LenCheck(\"The input length is not an 5\")\n",
    "        # raise LenCheck(logging.info(\"The input length is not an 5\"))\n",
    "    else:\n",
    "        logging.info(\"The input length is 5\")\n",
    "\n",
    "\n",
    "l = [\"Aditya\", \"Gargi\"]\n",
    "for i in l:\n",
    "    try:\n",
    "        lencheck(i)\n",
    "    except LenCheck as e:\n",
    "        logging.info(\"Exception occured as %s\", e)\n",
    "    else:\n",
    "        logging.info(\"This is else block\")\n",
    "    finally:\n",
    "        logging.info(\"This is finally block\\nI will run regardless of the error\\n\\n\")\n",
    "logging.shutdown()"
   ]
  },
  {
   "cell_type": "code",
   "execution_count": 21,
   "id": "fa7efc8f",
   "metadata": {},
   "outputs": [
    {
     "name": "stdout",
     "output_type": "stream",
     "text": [
      "INFO:root:Exception occured as The input length is not an 5\n",
      "INFO:root:This is finally block\n",
      "I will run regardless of the error\n",
      "\n",
      "\n",
      "INFO:root:The input length is 5\n",
      "INFO:root:This is else block\n",
      "INFO:root:This is finally block\n",
      "I will run regardless of the error\n",
      "\n",
      "\n",
      "\n"
     ]
    }
   ],
   "source": [
    "with open(\"Q2_2.log\") as f:\n",
    "    print(f.read())"
   ]
  },
  {
   "cell_type": "markdown",
   "id": "02af4b10",
   "metadata": {},
   "source": [
    "Q5. What are Custom Exceptions in python? Why do we need Custom Exceptions? Explain with an example."
   ]
  },
  {
   "cell_type": "markdown",
   "id": "db266943",
   "metadata": {},
   "source": [
    "Answer - 5"
   ]
  },
  {
   "cell_type": "markdown",
   "id": "e3f9b221",
   "metadata": {},
   "source": [
    "Custom exceptions are the new user defined classes of exception derived from built in class 'Exception'\n",
    "We need a custom exception class to create a specific exception on user defined constraint(s)."
   ]
  },
  {
   "cell_type": "code",
   "execution_count": 43,
   "id": "d7a55b07",
   "metadata": {},
   "outputs": [
    {
     "name": "stdout",
     "output_type": "stream",
     "text": [
      "Enter the number : 3\n",
      "Number is odd\n"
     ]
    }
   ],
   "source": [
    "class oddeven(Exception):\n",
    "    def __init__(self, message):\n",
    "        self.message = message\n",
    "        \n",
    "def odd_even(num):\n",
    "    if num % 2 == 0:\n",
    "        raise oddeven(\"Number is even\")\n",
    "    else:\n",
    "        raise oddeven(\"Number is odd\")\n",
    "        \n",
    "try:\n",
    "    num = int(input(\"Enter the number : \"))\n",
    "    odd_even(num)\n",
    "except oddeven as e:\n",
    "    print(e)"
   ]
  },
  {
   "cell_type": "markdown",
   "id": "d23df2b7",
   "metadata": {},
   "source": [
    "Q6. Create a custom exception class. Use this class to handle an exception."
   ]
  },
  {
   "cell_type": "markdown",
   "id": "75f22a6b",
   "metadata": {},
   "source": [
    "Answer - 6"
   ]
  },
  {
   "cell_type": "code",
   "execution_count": 44,
   "id": "aa8d134a",
   "metadata": {},
   "outputs": [
    {
     "name": "stdout",
     "output_type": "stream",
     "text": [
      "Enter the number : 5\n",
      "Number is odd\n"
     ]
    }
   ],
   "source": [
    "class oddeven(Exception):\n",
    "    def __init__(self, message):\n",
    "        self.message = message\n",
    "        \n",
    "def odd_even(num):\n",
    "    if num % 2 == 0:\n",
    "        raise oddeven(\"Number is even\")\n",
    "    else:\n",
    "        raise oddeven(\"Number is odd\")\n",
    "        \n",
    "try:\n",
    "    num = int(input(\"Enter the number : \"))\n",
    "    odd_even(num)\n",
    "except oddeven as e:\n",
    "    print(e)"
   ]
  },
  {
   "cell_type": "code",
   "execution_count": null,
   "id": "cb01bd7a",
   "metadata": {},
   "outputs": [],
   "source": []
  }
 ],
 "metadata": {
  "kernelspec": {
   "display_name": "Python 3 (ipykernel)",
   "language": "python",
   "name": "python3"
  },
  "language_info": {
   "codemirror_mode": {
    "name": "ipython",
    "version": 3
   },
   "file_extension": ".py",
   "mimetype": "text/x-python",
   "name": "python",
   "nbconvert_exporter": "python",
   "pygments_lexer": "ipython3",
   "version": "3.9.13"
  }
 },
 "nbformat": 4,
 "nbformat_minor": 5
}
