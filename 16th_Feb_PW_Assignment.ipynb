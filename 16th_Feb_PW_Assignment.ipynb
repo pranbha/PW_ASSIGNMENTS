{
 "cells": [
  {
   "cell_type": "markdown",
   "id": "a6a37133",
   "metadata": {},
   "source": [
    "Q1. What is a database? Differentiate between SQL and NoSQL databases."
   ]
  },
  {
   "cell_type": "markdown",
   "id": "b1ac3437",
   "metadata": {},
   "source": [
    "Answer - 1"
   ]
  },
  {
   "cell_type": "markdown",
   "id": "464fc907",
   "metadata": {},
   "source": [
    "A database is a systematic or organized collection of related information that is stored in such a way that it can be easily accessed, retrieved, managed, and updated.\n",
    "\n",
    "-  SQL\n",
    " -  It is a standard language.\n",
    " -  These databases are table/relation based databases.\n",
    " -  The databses are vertical scalable.\n",
    " -  The are used in complex query intensive environment.\n",
    " -  Follow ACID model.\n",
    " \n",
    "-  NoSQL\n",
    " - It posses no declarative query support.\n",
    " - These databases can be document based, key-value pairs, or graph databases.\n",
    " - The databses are horizontally scalable.\n",
    " - The are used where queries are not complex.\n",
    " - Follow BASE model."
   ]
  },
  {
   "cell_type": "markdown",
   "id": "70e2ab11",
   "metadata": {},
   "source": [
    "Q2. What is DDL? Explain why CREATE, DROP, ALTER, and TRUNCATE are used with an example."
   ]
  },
  {
   "cell_type": "markdown",
   "id": "ec77c52d",
   "metadata": {},
   "source": [
    "Answer - 2"
   ]
  },
  {
   "cell_type": "markdown",
   "id": "e7207a7f",
   "metadata": {},
   "source": [
    "- DDL\n",
    "  - It stands for Data Definition Language\n",
    "  - These are the SQL statements that are used to define and modify the databse schema.\n",
    "- CREATE\n",
    "  - It is used to create the database and tables.\n",
    "  - e.g > create table students(stuid number primary key not null, stuname varchar2(20), stubranch varchar(20)); \n",
    "- DROP\n",
    "  - It is used to delete tables from the databse.\n",
    "  - e.g > drop table students;\n",
    "- ALTER\n",
    "  - It is used to alter the database schema.\n",
    "  - e.g > alter table student add marks number;\n",
    "- TRUNCATE\n",
    "  - It is used to delete an existing table and free the resources.\n",
    "  - e.g > truncate table students;"
   ]
  },
  {
   "cell_type": "markdown",
   "id": "62c0d3f2",
   "metadata": {},
   "source": [
    "Q3. What is DML? Explain INSERT, UPDATE, and DELETE with an example."
   ]
  },
  {
   "cell_type": "markdown",
   "id": "b668eb61",
   "metadata": {},
   "source": [
    "Answer - 3"
   ]
  },
  {
   "cell_type": "markdown",
   "id": "906ba8ed",
   "metadata": {},
   "source": [
    "- DML\n",
    "  - It stands for Data Manipulation Language.\n",
    "  - These are the SQL statements used for the manipulation of data present in a database.\n",
    "- INSERT\n",
    "  - Used to insert tuples/rows into a table.\n",
    "  - It stands for Data Manipulation Language.\n",
    "  - e.g > insert into Student values(5, 'Aditya', 'CSE');\n",
    "- UPDATE\n",
    "  - Used to update tuples/rows in a table.\n",
    "  - e.g > update Student set name = 'Gargi' where id = 5;\n",
    "- DELETE\n",
    "  - Used to delete tuples/rows from a table.\n",
    "  - e.g > delete from Student where id = 5;"
   ]
  },
  {
   "cell_type": "markdown",
   "id": "d102b223",
   "metadata": {},
   "source": [
    "Q4. What is DQL? Explain SELECT with an example."
   ]
  },
  {
   "cell_type": "markdown",
   "id": "5052b711",
   "metadata": {},
   "source": [
    "Answer - 4"
   ]
  },
  {
   "cell_type": "markdown",
   "id": "8aabac1c",
   "metadata": {},
   "source": [
    "- DQL\n",
    "  - It stands for Data Query Language.\n",
    "  - These SQL statements are used to retrieve schema relation based on the passed query.\n",
    "- SELECT\n",
    "  - Used to retrieve data basedon the schema relation passed. e.g > select * from students;"
   ]
  },
  {
   "cell_type": "markdown",
   "id": "d2ea75a2",
   "metadata": {},
   "source": [
    "Q5. Explain Primary Key and Foreign Key."
   ]
  },
  {
   "cell_type": "markdown",
   "id": "8df496fd",
   "metadata": {},
   "source": [
    "Answer - 5"
   ]
  },
  {
   "cell_type": "markdown",
   "id": "36d5e86b",
   "metadata": {},
   "source": [
    "- Primary Key\n",
    "  - It is one or more column(s) in a table used to uniquely identify each row in a table. \n",
    "  - None of the columns that are part of the primary key contain null value.\n",
    "  - A table can have only one primary key.\n",
    "- Foreign Key\n",
    "  - It is a column or a group of columns whose values are derived from the primary/unique key of some other table."
   ]
  },
  {
   "cell_type": "markdown",
   "id": "0c631647",
   "metadata": {},
   "source": [
    "Q6. Write a python code to connect MySQL to python. Explain the cursor() and execute() method."
   ]
  },
  {
   "cell_type": "markdown",
   "id": "00e379c7",
   "metadata": {},
   "source": [
    "Answer - 6"
   ]
  },
  {
   "cell_type": "markdown",
   "id": "ac796ae1",
   "metadata": {},
   "source": [
    "import mysql.connector\n",
    "\n",
    "mydb = mysql.connector.connect(\n",
    "\n",
    "host=\"localhost\",\n",
    "\n",
    "user=\"abc\",\n",
    "\n",
    "password=\"password\"\n",
    "\n",
    ")\n",
    "mycursor = mydb.cursor()\n",
    "\n",
    "mycursor.execute(\"SQL_QUERY\")\n",
    "\n",
    "- Cursor()\n",
    "  - It is the mediator between SQL database connection and SQL query.\n",
    "- execute()\n",
    "  - This method accepts a MySQL query as a parameter and executes the given query."
   ]
  },
  {
   "cell_type": "markdown",
   "id": "a6ff490a",
   "metadata": {},
   "source": [
    "Q7. Give the order of execution of SQL clauses in an SQL query."
   ]
  },
  {
   "cell_type": "markdown",
   "id": "881cc191",
   "metadata": {},
   "source": [
    "Answer - 7"
   ]
  },
  {
   "cell_type": "markdown",
   "id": "535a610f",
   "metadata": {},
   "source": [
    "- The order of the execution of SQL clauses in an SQL query are:\n",
    "  - from > where > groupBy > having > select > order by > limit"
   ]
  },
  {
   "cell_type": "code",
   "execution_count": null,
   "id": "97a2f769",
   "metadata": {},
   "outputs": [],
   "source": []
  }
 ],
 "metadata": {
  "kernelspec": {
   "display_name": "Python 3 (ipykernel)",
   "language": "python",
   "name": "python3"
  },
  "language_info": {
   "codemirror_mode": {
    "name": "ipython",
    "version": 3
   },
   "file_extension": ".py",
   "mimetype": "text/x-python",
   "name": "python",
   "nbconvert_exporter": "python",
   "pygments_lexer": "ipython3",
   "version": "3.9.13"
  }
 },
 "nbformat": 4,
 "nbformat_minor": 5
}
