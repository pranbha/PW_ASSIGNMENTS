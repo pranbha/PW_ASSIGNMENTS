{
 "cells": [
  {
   "cell_type": "markdown",
   "id": "06a8eab2",
   "metadata": {},
   "source": [
    "### Q1. What is the difference between Ordinal Encoding and Label Encoding? Provide an example of when you might choose one over the other."
   ]
  },
  {
   "cell_type": "markdown",
   "id": "7a742ad2",
   "metadata": {},
   "source": [
    "Ordinal encoding and label encoding are both techniques used in machine learning to encode categorical variables into numerical values. However, they have some differences:\n",
    "\n",
    "1. **Ordinal Encoding**:\n",
    "   - Ordinal encoding assigns a unique integer to each category, preserving the order or rank among the categories.\n",
    "   - It is suitable for ordinal variables where the categories have a clear order or ranking.\n",
    "   - For example, if you have a variable representing education level with categories like 'High School', 'College', 'Bachelor's Degree', 'Master's Degree', and 'PhD', you can assign integers like 1, 2, 3, 4, and 5 respectively based on the level of education.\n",
    "\n",
    "2. **Label Encoding**:\n",
    "   - Label encoding assigns a unique integer to each category without considering any order or ranking.\n",
    "   - It is suitable for nominal variables where the categories do not have any inherent order.\n",
    "   - For example, if you have a variable representing colors with categories like 'Red', 'Green', and 'Blue', you can assign integers like 1, 2, and 3 respectively without implying any order among the colors.\n",
    "\n",
    "**Example of when to choose one over the other**:\n",
    "Let's consider a dataset containing a variable representing temperature ranges: 'Low', 'Medium', and 'High'. If there is a clear order or ranking among these categories (e.g., 'Low' < 'Medium' < 'High'), you would use ordinal encoding to preserve this order. However, if there is no inherent order among the categories (e.g., 'Red', 'Green', 'Blue'), you would use label encoding to simply assign unique integers to each category."
   ]
  },
  {
   "cell_type": "markdown",
   "id": "8a22b75c",
   "metadata": {},
   "source": [
    "### Q2. Explain how Target Guided Ordinal Encoding works and provide an example of when you might use it in a machine learning project."
   ]
  },
  {
   "cell_type": "markdown",
   "id": "397bfb8b",
   "metadata": {},
   "source": [
    "Target Guided Ordinal Encoding is a technique used to encode categorical variables based on the target variable in a supervised machine learning problem. It involves calculating the mean or median of the target variable for each category and then assigning ranks to the categories based on these aggregated target variable values.\n",
    "\n",
    "Here's how Target Guided Ordinal Encoding works:\n",
    "\n",
    "1. **Calculate the Mean or Median**: For each category in the categorical variable, calculate the mean or median of the target variable. This involves grouping the data by each category and computing the aggregate statistic (mean or median) of the target variable within each group.\n",
    "\n",
    "2. **Assign Ranks**: Sort the categories based on their mean or median values of the target variable. Assign ranks to the categories based on this sorted order. The category with the lowest mean or median value gets the lowest rank, and so on.\n",
    "\n",
    "3. **Encode Categories**: Replace the original categories with their assigned ranks.\n",
    "\n",
    "**Example of when to use Target Guided Ordinal Encoding**:\n",
    "Consider a dataset containing information about customers and whether they are likely to purchase a product (target variable). One of the features is 'Income Range' with categories like 'Low', 'Medium', and 'High'. You want to encode this feature in a way that reflects the likelihood of a customer purchasing the product based on their income range.\n",
    "\n",
    "In this scenario, you could use Target Guided Ordinal Encoding:\n",
    "1. Calculate the mean or median purchase likelihood for each income range category.\n",
    "2. Assign ranks to the income range categories based on their mean or median purchase likelihood.\n",
    "3. Encode the 'Income Range' feature with these assigned ranks.\n",
    "\n",
    "This encoding ensures that the ordinal values assigned to the income range categories reflect their relationship with the target variable, making it potentially more informative for the machine learning model."
   ]
  },
  {
   "cell_type": "markdown",
   "id": "4717ff7e",
   "metadata": {},
   "source": [
    "### Q3. Define covariance and explain why it is important in statistical analysis. How is covariance calculated?"
   ]
  },
  {
   "cell_type": "markdown",
   "id": "524c79af",
   "metadata": {},
   "source": [
    "Covariance is a measure of the degree to which two random variables change together. In other words, it quantifies the relationship between two variables. Specifically, covariance indicates the direction of the linear relationship between two variables (whether they tend to move in the same direction or in opposite directions) and the strength of that relationship.\n",
    "\n",
    "Here's why covariance is important in statistical analysis:\n",
    "\n",
    "1. **Relationship Assessment**: Covariance helps assess the relationship between two variables. A positive covariance indicates that the variables tend to move in the same direction, while a negative covariance indicates that they move in opposite directions. A covariance of zero suggests no linear relationship between the variables.\n",
    "\n",
    "2. **Data Analysis**: Covariance is essential for understanding the variability and patterns in data. It helps identify whether changes in one variable are associated with changes in another variable.\n",
    "\n",
    "3. **Modeling**: Covariance plays a crucial role in various statistical models, such as linear regression. Understanding the covariance between predictor variables and the target variable helps in building predictive models and assessing their performance.\n",
    "\n",
    "Covariance is calculated using the following formula:\n",
    "\n",
    "\\[ \\text{cov}(X, Y) = \\frac{\\sum_{i=1}^{n}(x_i - \\bar{x})(y_i - \\bar{y})}{n-1} \\]\n",
    "\n",
    "Where:\n",
    "- \\( X \\) and \\( Y \\) are the two random variables.\n",
    "- \\( x_i \\) and \\( y_i \\) are individual observations of variables \\( X \\) and \\( Y \\) respectively.\n",
    "- \\( \\bar{x} \\) and \\( \\bar{y} \\) are the means of variables \\( X \\) and \\( Y \\) respectively.\n",
    "- \\( n \\) is the number of observations.\n",
    "\n",
    "The covariance calculation involves subtracting the mean of each variable from individual observations, multiplying these differences together, and then averaging the products. The \\( n-1 \\) in the denominator is known as Bessel's correction, which adjusts for the degrees of freedom and makes the covariance an unbiased estimator of the population covariance."
   ]
  },
  {
   "cell_type": "markdown",
   "id": "ec6d4c18",
   "metadata": {},
   "source": [
    "### Q4. For a dataset with the following categorical variables: Color (red, green, blue), Size (small, medium, large), and Material (wood, metal, plastic), perform label encoding using Python's scikit-learn library. Show your code and explain the output."
   ]
  },
  {
   "cell_type": "code",
   "execution_count": 1,
   "id": "e21fa11a",
   "metadata": {},
   "outputs": [],
   "source": [
    "import pandas as pd\n",
    "df=pd.DataFrame({'color':['red','green','blue'], 'size':['small','medium','large'], 'material':['wood','metal','plastic']})"
   ]
  },
  {
   "cell_type": "code",
   "execution_count": 2,
   "id": "3572a9ae",
   "metadata": {},
   "outputs": [
    {
     "data": {
      "text/html": [
       "<div>\n",
       "<style scoped>\n",
       "    .dataframe tbody tr th:only-of-type {\n",
       "        vertical-align: middle;\n",
       "    }\n",
       "\n",
       "    .dataframe tbody tr th {\n",
       "        vertical-align: top;\n",
       "    }\n",
       "\n",
       "    .dataframe thead th {\n",
       "        text-align: right;\n",
       "    }\n",
       "</style>\n",
       "<table border=\"1\" class=\"dataframe\">\n",
       "  <thead>\n",
       "    <tr style=\"text-align: right;\">\n",
       "      <th></th>\n",
       "      <th>color</th>\n",
       "      <th>size</th>\n",
       "      <th>material</th>\n",
       "    </tr>\n",
       "  </thead>\n",
       "  <tbody>\n",
       "    <tr>\n",
       "      <th>0</th>\n",
       "      <td>red</td>\n",
       "      <td>small</td>\n",
       "      <td>wood</td>\n",
       "    </tr>\n",
       "    <tr>\n",
       "      <th>1</th>\n",
       "      <td>green</td>\n",
       "      <td>medium</td>\n",
       "      <td>metal</td>\n",
       "    </tr>\n",
       "    <tr>\n",
       "      <th>2</th>\n",
       "      <td>blue</td>\n",
       "      <td>large</td>\n",
       "      <td>plastic</td>\n",
       "    </tr>\n",
       "  </tbody>\n",
       "</table>\n",
       "</div>"
      ],
      "text/plain": [
       "   color    size material\n",
       "0    red   small     wood\n",
       "1  green  medium    metal\n",
       "2   blue   large  plastic"
      ]
     },
     "execution_count": 2,
     "metadata": {},
     "output_type": "execute_result"
    }
   ],
   "source": [
    "df"
   ]
  },
  {
   "cell_type": "code",
   "execution_count": 3,
   "id": "7a3b7e3f",
   "metadata": {},
   "outputs": [],
   "source": [
    "from sklearn.preprocessing import LabelEncoder"
   ]
  },
  {
   "cell_type": "code",
   "execution_count": 4,
   "id": "dd471e19",
   "metadata": {},
   "outputs": [],
   "source": [
    "lbl_encod = LabelEncoder()"
   ]
  },
  {
   "cell_type": "code",
   "execution_count": 10,
   "id": "bedfc1d5",
   "metadata": {},
   "outputs": [
    {
     "name": "stderr",
     "output_type": "stream",
     "text": [
      "C:\\Users\\pranj\\anaconda3\\lib\\site-packages\\sklearn\\preprocessing\\_label.py:115: DataConversionWarning: A column-vector y was passed when a 1d array was expected. Please change the shape of y to (n_samples, ), for example using ravel().\n",
      "  y = column_or_1d(y, warn=True)\n"
     ]
    },
    {
     "data": {
      "text/plain": [
       "array([2, 1, 0])"
      ]
     },
     "execution_count": 10,
     "metadata": {},
     "output_type": "execute_result"
    }
   ],
   "source": [
    "lbl_encod.fit_transform(df[['color']])"
   ]
  },
  {
   "cell_type": "code",
   "execution_count": 11,
   "id": "fe03c62d",
   "metadata": {},
   "outputs": [
    {
     "name": "stderr",
     "output_type": "stream",
     "text": [
      "C:\\Users\\pranj\\anaconda3\\lib\\site-packages\\sklearn\\preprocessing\\_label.py:115: DataConversionWarning: A column-vector y was passed when a 1d array was expected. Please change the shape of y to (n_samples, ), for example using ravel().\n",
      "  y = column_or_1d(y, warn=True)\n"
     ]
    },
    {
     "data": {
      "text/plain": [
       "array([2, 1, 0])"
      ]
     },
     "execution_count": 11,
     "metadata": {},
     "output_type": "execute_result"
    }
   ],
   "source": [
    "lbl_encod.fit_transform(df[['size']])"
   ]
  },
  {
   "cell_type": "code",
   "execution_count": 12,
   "id": "dc308204",
   "metadata": {},
   "outputs": [
    {
     "name": "stderr",
     "output_type": "stream",
     "text": [
      "C:\\Users\\pranj\\anaconda3\\lib\\site-packages\\sklearn\\preprocessing\\_label.py:115: DataConversionWarning: A column-vector y was passed when a 1d array was expected. Please change the shape of y to (n_samples, ), for example using ravel().\n",
      "  y = column_or_1d(y, warn=True)\n"
     ]
    },
    {
     "data": {
      "text/plain": [
       "array([2, 0, 1])"
      ]
     },
     "execution_count": 12,
     "metadata": {},
     "output_type": "execute_result"
    }
   ],
   "source": [
    "lbl_encod.fit_transform(df[['material']])"
   ]
  },
  {
   "cell_type": "markdown",
   "id": "4e46fc6f",
   "metadata": {},
   "source": [
    "### Q5. Calculate the covariance matrix for the following variables in a dataset: Age, Income, and Education level. Interpret the results."
   ]
  },
  {
   "cell_type": "code",
   "execution_count": 13,
   "id": "795dd438",
   "metadata": {},
   "outputs": [
    {
     "name": "stdout",
     "output_type": "stream",
     "text": [
      "Covariance Matrix:\n",
      "[[6.25e+01 6.25e+04 8.75e+00]\n",
      " [6.25e+04 6.25e+07 8.75e+03]\n",
      " [8.75e+00 8.75e+03 1.30e+00]]\n"
     ]
    }
   ],
   "source": [
    "import numpy as np\n",
    "\n",
    "# Sample data\n",
    "age = np.array([30, 40, 35, 25, 45])\n",
    "income = np.array([50000, 60000, 55000, 45000, 65000])\n",
    "education_level = np.array([2, 3, 2, 1, 4])\n",
    "\n",
    "# Calculate covariance matrix\n",
    "covariance_matrix = np.cov([age, income, education_level])\n",
    "\n",
    "print(\"Covariance Matrix:\")\n",
    "print(covariance_matrix)"
   ]
  },
  {
   "cell_type": "markdown",
   "id": "5145ef82",
   "metadata": {},
   "source": [
    "### Q6. You are working on a machine learning project with a dataset containing several categorical variables, including \"Gender\" (Male/Female), \"Education Level\" (High School/Bachelor's/Master's/PhD), and \"Employment Status\" (Unemployed/Part-Time/Full-Time). Which encoding method would you use for each variable, and why?"
   ]
  },
  {
   "cell_type": "markdown",
   "id": "2e1c7b3c",
   "metadata": {},
   "source": [
    "For each of the categorical variables \"Gender,\" \"Education Level,\" and \"Employment Status,\" the choice of encoding method depends on the nature of the variable and its relationship with the target variable in the dataset. Here's a recommendation for each variable:\n",
    "\n",
    "1. **Gender** (Binary Variable: Male/Female):\n",
    "   - Encoding Method: Label Encoding or One-Hot Encoding.\n",
    "   - Explanation:\n",
    "     - Label Encoding can be used if there is a clear order or inherent ranking among the categories (e.g., if you assign 0 to Male and 1 to Female).\n",
    "     - One-Hot Encoding is preferable if there is no inherent order or ranking among the categories. It creates binary columns for each category, effectively representing each category as a binary variable.\n",
    "   - Choice:\n",
    "     - Since gender typically does not have a natural order or ranking, One-Hot Encoding is often preferred to avoid introducing unintended relationships between categories.\n",
    "\n",
    "2. **Education Level** (Ordinal Variable: High School/Bachelor's/Master's/PhD):\n",
    "   - Encoding Method: Ordinal Encoding.\n",
    "   - Explanation:\n",
    "     - Ordinal Encoding preserves the order or ranking among the categories, which is suitable for variables with a clear hierarchy like education level.\n",
    "     - Using numerical values to represent the different levels of education maintains the ordinal relationship between them.\n",
    "   - Choice:\n",
    "     - Ordinal Encoding is the most appropriate choice for \"Education Level\" because it reflects the natural order of educational attainment.\n",
    "\n",
    "3. **Employment Status** (Nominal Variable: Unemployed/Part-Time/Full-Time):\n",
    "   - Encoding Method: One-Hot Encoding.\n",
    "   - Explanation:\n",
    "     - Employment status does not have a clear order or ranking, making it a nominal variable.\n",
    "     - One-Hot Encoding creates binary columns for each category, which is suitable for representing nominal variables without imposing any artificial ordering.\n",
    "   - Choice:\n",
    "     - One-Hot Encoding is the recommended choice for \"Employment Status\" to avoid implying any ordinal relationship between the categories.\n",
    "\n",
    "In summary:\n",
    "- One-Hot Encoding is preferred for \"Gender\" and \"Employment Status\" because they are nominal variables without inherent order.\n",
    "- Ordinal Encoding is suitable for \"Education Level\" because it represents an ordinal variable with a natural order."
   ]
  },
  {
   "cell_type": "markdown",
   "id": "333e52ea",
   "metadata": {},
   "source": [
    "### Q7. You are analyzing a dataset with two continuous variables, \"Temperature\" and \"Humidity\", and two categorical variables, \"Weather Condition\" (Sunny/Cloudy/Rainy) and \"Wind Direction\" (North/South/ East/West). Calculate the covariance between each pair of variables and interpret the results."
   ]
  },
  {
   "cell_type": "markdown",
   "id": "bc781172",
   "metadata": {},
   "source": [
    "To calculate the covariance between each pair of variables in the dataset, we'll need the data for \"Temperature\" and \"Humidity\" (continuous variables) and \"Weather Condition\" and \"Wind Direction\" (categorical variables).\n",
    "\n",
    "Since covariance is typically calculated between continuous variables, we can only calculate covariance between \"Temperature\" and \"Humidity\". For the categorical variables, we'll need to use a different method to assess their relationships.\n",
    "\n",
    "Here's how we can proceed:\n",
    "\n",
    "1. Calculate the covariance between \"Temperature\" and \"Humidity\".\n",
    "2. Use appropriate methods (e.g., contingency tables, chi-square tests) to analyze the relationship between the categorical variables \"Weather Condition\" and \"Wind Direction\".\n",
    "\n",
    "Interpreting the result:\n",
    "- The covariance between \"Temperature\" and \"Humidity\" indicates the direction and strength of their linear relationship.\n",
    "- A positive covariance suggests that higher temperatures are associated with higher humidity levels, and vice versa.\n",
    "- A negative covariance would suggest an inverse relationship.\n",
    "- The magnitude of the covariance indicates the strength of the relationship. However, without normalization, it's challenging to compare the covariance directly to assess the strength of the relationship accurately.\n",
    "\n",
    "For the categorical variables \"Weather Condition\" and \"Wind Direction,\" since they are categorical, we cannot calculate covariance directly. Instead, we would typically use methods such as contingency tables and chi-square tests to analyze their relationships. These methods help determine whether there is a significant association between the categories of the two variables."
   ]
  },
  {
   "cell_type": "code",
   "execution_count": 14,
   "id": "0096f75f",
   "metadata": {},
   "outputs": [
    {
     "name": "stdout",
     "output_type": "stream",
     "text": [
      "Covariance between Temperature and Humidity: 16.8\n"
     ]
    }
   ],
   "source": [
    "#Let's start by calculating the covariance between \"Temperature\" and \"Humidity\":\n",
    "\n",
    "import numpy as np\n",
    "\n",
    "# Sample data\n",
    "temperature = np.array([25, 28, 30, 22, 27])  # Example temperatures\n",
    "humidity = np.array([60, 65, 70, 55, 62])      # Example humidities\n",
    "\n",
    "# Calculate covariance\n",
    "covariance_temp_humidity = np.cov(temperature, humidity)[0, 1]\n",
    "\n",
    "print(\"Covariance between Temperature and Humidity:\", covariance_temp_humidity)"
   ]
  },
  {
   "cell_type": "code",
   "execution_count": null,
   "id": "e8896e8a",
   "metadata": {},
   "outputs": [],
   "source": []
  }
 ],
 "metadata": {
  "kernelspec": {
   "display_name": "Python 3 (ipykernel)",
   "language": "python",
   "name": "python3"
  },
  "language_info": {
   "codemirror_mode": {
    "name": "ipython",
    "version": 3
   },
   "file_extension": ".py",
   "mimetype": "text/x-python",
   "name": "python",
   "nbconvert_exporter": "python",
   "pygments_lexer": "ipython3",
   "version": "3.9.13"
  }
 },
 "nbformat": 4,
 "nbformat_minor": 5
}
