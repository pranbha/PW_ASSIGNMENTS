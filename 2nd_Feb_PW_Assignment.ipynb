{
 "cells": [
  {
   "cell_type": "markdown",
   "id": "a8db630f",
   "metadata": {},
   "source": [
    "Answer - 1"
   ]
  },
  {
   "cell_type": "code",
   "execution_count": 2,
   "id": "c90dd174",
   "metadata": {},
   "outputs": [],
   "source": [
    "#Characteristics of tuple - \n",
    "#They are indexed\n",
    "#Tuples are ordered\n",
    "#These are immutable\n",
    "#They can contain duplicate items\n",
    "\n",
    "#As mentioned in third point tuples are immutable.\n"
   ]
  },
  {
   "cell_type": "markdown",
   "id": "c3b4e59a",
   "metadata": {},
   "source": [
    "Answer - 2"
   ]
  },
  {
   "cell_type": "code",
   "execution_count": 3,
   "id": "b5255a0e",
   "metadata": {},
   "outputs": [
    {
     "name": "stdout",
     "output_type": "stream",
     "text": [
      "No. of 3 in tuple are:  3\n"
     ]
    }
   ],
   "source": [
    "#Two tuple methods in python are - \n",
    "#Count () - Returns the number of times a specified value occurs in a tuple\n",
    "#Example - \n",
    "Tuple1 = (0, 1, 2, 3, 2, 3, 1, 3, 2)\n",
    "No_of_counts = Tuple1.count(3)\n",
    "print('No. of 3 in tuple are: ', No_of_counts)"
   ]
  },
  {
   "cell_type": "code",
   "execution_count": 4,
   "id": "eea801da",
   "metadata": {},
   "outputs": [
    {
     "name": "stdout",
     "output_type": "stream",
     "text": [
      "First occurrence of 3 is 3\n",
      "First occurrence of 3 after 4th index is: 5\n"
     ]
    }
   ],
   "source": [
    "#index () - Searches the tuple for a specified value and returns the position of where it was found\n",
    "#Example - \n",
    "Tuple = (0, 1, 2, 3, 2, 3, 1, 3, 2)\n",
    "index_of_no = Tuple.index(3)\n",
    "print('First occurrence of 3 is', index_of_no)\n",
    "res = Tuple.index(3, 4)\n",
    "print('First occurrence of 3 after 4th index is:', res)\n",
    "\n",
    "#Lists are mutable and tuples are not mutable. List have many in-built methods because it uses them to modify itself but a tuple cannot be modified so it only has two in-built methods."
   ]
  },
  {
   "cell_type": "markdown",
   "id": "9042d475",
   "metadata": {},
   "source": [
    "Answer - 3"
   ]
  },
  {
   "cell_type": "code",
   "execution_count": 5,
   "id": "73c77a5f",
   "metadata": {},
   "outputs": [
    {
     "name": "stdout",
     "output_type": "stream",
     "text": [
      "Updated list after removing duplicates is : {1, 2, 3, 4}\n"
     ]
    }
   ],
   "source": [
    "#A datatype named “set” does not uses duplicate items. \n",
    "list1 = [1,1,1,2,1,3,1,4,2,1,2,2,2,3,2,4,3,1,3,2,3,3,3,4,4,1,4,2,4,3,4,4]\n",
    "Removed_Duplicate = set(list1)\n",
    "print(f\"Updated list after removing duplicates is : {Removed_Duplicate}\")\n"
   ]
  },
  {
   "cell_type": "markdown",
   "id": "78f668e8",
   "metadata": {},
   "source": [
    "Answer - 4"
   ]
  },
  {
   "cell_type": "code",
   "execution_count": 6,
   "id": "25f7f68e",
   "metadata": {},
   "outputs": [
    {
     "name": "stdout",
     "output_type": "stream",
     "text": [
      "{1, 2, 3}\n"
     ]
    }
   ],
   "source": [
    "#update () adds all missing elements to the set on which it is called whereas set. union () creates a new set. Consequently, the return value of set. update () is None (with side effects) and the return value of set.\n",
    "s = {1, 2, 3}\n",
    "s.update({1, 2})\n",
    "print(s)\n"
   ]
  },
  {
   "cell_type": "code",
   "execution_count": 7,
   "id": "54f495b3",
   "metadata": {},
   "outputs": [
    {
     "name": "stdout",
     "output_type": "stream",
     "text": [
      "{1, 2, 3}\n"
     ]
    }
   ],
   "source": [
    "s = {1, 2}\n",
    "a = s.union({1, 2, 3})\n",
    "print(a)\n"
   ]
  },
  {
   "cell_type": "markdown",
   "id": "0630a633",
   "metadata": {},
   "source": [
    "Answer - 5"
   ]
  },
  {
   "cell_type": "code",
   "execution_count": 8,
   "id": "9951f8fa",
   "metadata": {},
   "outputs": [
    {
     "name": "stdout",
     "output_type": "stream",
     "text": [
      "{'name': 'pranjal', 'course': 'btech', 'semester': '5th'}\n"
     ]
    }
   ],
   "source": [
    "'''Dictionaries are Python’s implementation of a data structure that is more generally known as an associative array. A dictionary consists of a collection of key-value pairs. Each key-value pair maps the key to its associated value.\n",
    "You can define a dictionary by enclosing a comma-separated list of key-value pairs in curly braces ({}). A colon (:) separates each key from its associated value\n",
    "'''\n",
    "d = {\"name\" : \"pranjal\", \"course\" : \"btech\", \"semester\" : \"5th\"}\n",
    "print(d)\n",
    "#Dictionaries in python are ordered. "
   ]
  },
  {
   "cell_type": "markdown",
   "id": "8537c645",
   "metadata": {},
   "source": [
    "Answer - 6"
   ]
  },
  {
   "cell_type": "code",
   "execution_count": 9,
   "id": "f8d77340",
   "metadata": {},
   "outputs": [
    {
     "name": "stdout",
     "output_type": "stream",
     "text": [
      "{'language': 'Python', 'Course': 'Data Science Masters', 'topics': ['Python', 'Machine learning', 'deep learning']}\n"
     ]
    }
   ],
   "source": [
    "#Yes, we can create nested dictionary in python.\n",
    "dict1 = {\"language\" : \"Python\", \"Course\" : \"Data Science Masters\"}\n",
    "topics = dict1.setdefault(\"topics\", [\"Python\", \"Machine learning\", \"deep learning\"])\n",
    "print(dict1)\n"
   ]
  },
  {
   "cell_type": "markdown",
   "id": "17c33851",
   "metadata": {},
   "source": [
    "Answer - 7"
   ]
  },
  {
   "cell_type": "code",
   "execution_count": 10,
   "id": "7b64bf67",
   "metadata": {},
   "outputs": [
    {
     "name": "stdout",
     "output_type": "stream",
     "text": [
      "{'language': 'Python', 'Course': 'Data Science Masters', 'topics': ['Python', 'Machine learning', 'deep learning']}\n"
     ]
    }
   ],
   "source": [
    "dict1 = {\"language\" : \"Python\", \"Course\" : \"Data Science Masters\"}\n",
    "topics = dict1.setdefault(\"topics\", [\"Python\", \"Machine learning\", \"deep learning\"])\n",
    "print(dict1)\n"
   ]
  },
  {
   "cell_type": "markdown",
   "id": "44062ac5",
   "metadata": {},
   "source": [
    "Answer - 8"
   ]
  },
  {
   "cell_type": "code",
   "execution_count": 11,
   "id": "b4cc3121",
   "metadata": {},
   "outputs": [
    {
     "name": "stdout",
     "output_type": "stream",
     "text": [
      "dict_keys(['Sport', 'Teams'])\n",
      "dict_values(['Cricket', ['India', 'South Africa', 'Australia', 'England', 'Sri Lanka', 'new Zealand']])\n",
      "dict_items([('Sport', 'Cricket'), ('Teams', ['India', 'South Africa', 'Australia', 'England', 'Sri Lanka', 'new Zealand'])])\n"
     ]
    }
   ],
   "source": [
    "#Three view objects in python are – keys, values and items.\n",
    "dict1 = {\"Sport\" : \"Cricket\", \"Teams\" : [\"India\", 'South Africa', 'Australia', 'England', 'Sri Lanka', 'new Zealand']}\n",
    "print(dict1.keys())\n",
    "print(dict1.values())\n",
    "print(dict1.items())\n"
   ]
  },
  {
   "cell_type": "code",
   "execution_count": null,
   "id": "2923bd32",
   "metadata": {},
   "outputs": [],
   "source": []
  }
 ],
 "metadata": {
  "kernelspec": {
   "display_name": "Python 3 (ipykernel)",
   "language": "python",
   "name": "python3"
  },
  "language_info": {
   "codemirror_mode": {
    "name": "ipython",
    "version": 3
   },
   "file_extension": ".py",
   "mimetype": "text/x-python",
   "name": "python",
   "nbconvert_exporter": "python",
   "pygments_lexer": "ipython3",
   "version": "3.9.13"
  }
 },
 "nbformat": 4,
 "nbformat_minor": 5
}
