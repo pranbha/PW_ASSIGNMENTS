{
 "cells": [
  {
   "cell_type": "markdown",
   "id": "002d7232",
   "metadata": {},
   "source": [
    "Q1. Create a function which will take a list as an argument and return the product of all the numbers\n",
    "after creating a flat list.\n",
    "Use the below-given list as an argument for your function.\n",
    "list1 = [1,2,3,4, [44,55,66, True], False, (34,56,78,89,34), {1,2,3,3,2,1}, {1:34, \"key2\": [55, 67, 78, 89], 4: (45,\n",
    "22, 61, 34)}, [56, 'data science'], 'Machine Learning']\n",
    "Note: you must extract numeric keys and values of the dictionary also."
   ]
  },
  {
   "cell_type": "code",
   "execution_count": 8,
   "id": "b5797a9e",
   "metadata": {},
   "outputs": [
    {
     "name": "stdout",
     "output_type": "stream",
     "text": [
      "[1, 2, 3, 4, 44, 55, 66, 34, 56, 78, 89, 34, 1, 2, 3, 1, 4, 34, 55, 67, 78, 89, 45, 22, 61, 34, 56]\n",
      "4134711838987085478833841242112000\n"
     ]
    }
   ],
   "source": [
    "list1 = [1,2,3,4, [44,55,66, True], False, (34,56,78,89,34), {1,2,3,3,2,1}, {1:34, \"key2\": [55, 67, 78, 89], 4: (45, 22, 61, 34)}, [56, 'data science'], 'Machine Learning']\n",
    "l = []\n",
    "for i in list1:\n",
    "    if type(i) == int:\n",
    "        l.append(i)\n",
    "    if type(i) == list:\n",
    "        for j in i:\n",
    "            if type(j) == int:\n",
    "                l.append(j)\n",
    "    if type(i) == tuple:\n",
    "        for j in i:\n",
    "            if type(j) == int:\n",
    "                l.append(j)\n",
    "    if type(i) == set:\n",
    "        for j in i:\n",
    "            if type(j) == int:\n",
    "                l.append(j)\n",
    "    if type(i) == dict:\n",
    "        for j in i.keys():\n",
    "            if type(j) == int:\n",
    "                l.append(j)\n",
    "        for j in i.values():\n",
    "            if type(j) == int:\n",
    "                l.append(k)\n",
    "            if type(j) == tuple:\n",
    "                for k in j:\n",
    "                    if type(k) == int:\n",
    "                        l.append(k)\n",
    "            if type(j) == set:\n",
    "                for k in j:\n",
    "                    if type(k) == int:\n",
    "                        l.append(k)\n",
    "            if type(j) == list:\n",
    "                for k in j:\n",
    "                    if type(k) == int:\n",
    "                        l.append(k)\n",
    "\n",
    "print(l)\n",
    "            \n",
    "from functools import reduce\n",
    "result = reduce(lambda x,y : x*y,l)\n",
    "print(result)"
   ]
  },
  {
   "cell_type": "markdown",
   "id": "1c0dd26d",
   "metadata": {},
   "source": [
    "Q2. Write a python program for encrypting a message sent to you by your friend. The logic of encryption\n",
    "should be such that, for a the output should be z. For b, the output should be y. For c, the output should\n",
    "be x respectively. Also, the whitespace should be replaced with a dollar sign. Keep the punctuation\n",
    "marks unchanged.\n",
    "Input Sentence: I want to become a Data Scientist.\n",
    "Encrypt the above input sentence using the program you just created.\n",
    "Note: Convert the given input sentence into lowercase before encrypting. The final output should be\n",
    "lowercase."
   ]
  },
  {
   "cell_type": "code",
   "execution_count": 9,
   "id": "f3f20061",
   "metadata": {},
   "outputs": [
    {
     "name": "stdout",
     "output_type": "stream",
     "text": [
      "i$wznt$to$yexome$z$dztz$sxientist.\n"
     ]
    }
   ],
   "source": [
    "input_sentence = \"I want to become a Data Scientist.\"\n",
    "new_sentence = input_sentence.lower()\n",
    "modified_sentence = new_sentence.replace(\"a\", \"z\").replace(\"b\", \"y\").replace(\"c\", \"x\").replace(\" \", \"$\")\n",
    "print(modified_sentence)"
   ]
  },
  {
   "cell_type": "code",
   "execution_count": null,
   "id": "76de81b8",
   "metadata": {},
   "outputs": [],
   "source": []
  }
 ],
 "metadata": {
  "kernelspec": {
   "display_name": "Python 3 (ipykernel)",
   "language": "python",
   "name": "python3"
  },
  "language_info": {
   "codemirror_mode": {
    "name": "ipython",
    "version": 3
   },
   "file_extension": ".py",
   "mimetype": "text/x-python",
   "name": "python",
   "nbconvert_exporter": "python",
   "pygments_lexer": "ipython3",
   "version": "3.9.13"
  }
 },
 "nbformat": 4,
 "nbformat_minor": 5
}
