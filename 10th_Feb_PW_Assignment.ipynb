{
 "cells": [
  {
   "cell_type": "markdown",
   "id": "65f726b0",
   "metadata": {},
   "source": [
    "Q1. Which function is used to open a file? What are the different modes of opening a file? Explain each mode of file opening."
   ]
  },
  {
   "cell_type": "markdown",
   "id": "aad34546",
   "metadata": {},
   "source": [
    "We use open() function to open a file in python.\n",
    "\n",
    "i.e f = open(\"file_name.extension\", \"opening_mode\")\n",
    "\n",
    "There are about 12 file opening modes in python.\n",
    "\n",
    "We generally use 6 out of 12 file opening modes.\n",
    "\n",
    "\"r\" - Read Only\n",
    "This is the defalt mode for opening a file.\n",
    "It is used for opening a text file with reading purpose.\n",
    "The file pointer is placed at the beginning of the file.\n",
    "It throws an I/O error in case the file doesn't exist.\n",
    "\n",
    "\"w\" - Write Only\n",
    "It is used for opening a text file with writing purpose.\n",
    "It creates the file if the file doesn't exist.\n",
    "If the file exists, the file content is overwritten with new content passed by the user.\n",
    "The file pointer is placed at the beginning of the file.\n",
    "\n",
    "\"r+\" - Read and Write\n",
    "It is used for opening a text file with reading and writing purpose.\n",
    "It throws an I/O error in case the file doesn't exist.\n",
    "The file pointer is placed at the beginning of the file.\n",
    "\n",
    "\"w+\" - Write and Read\n",
    "It is used for opening a text file with reading and writing purpose.\n",
    "If the file exists, the file content is overwritten with new content passed by the user.\n",
    "It creates the file if the file doesn't exist.\n",
    "The file pointer is placed at the beginning of the file.\n",
    "\n",
    "\"a\" - Append Only\n",
    "It is used for opening a text file with writing purpose.\n",
    "It creates the file if the file doesn't exist.\n",
    "If the file exists, the new content is appeneded at the end of the file content.\n",
    "The file pointer is placed at the beginning of the file.\n",
    "\n",
    "\"a+\" - Append and Read\n",
    "It is used for opening a text file with reading and writing purpose.\n",
    "It creates the file if the file doesn't exist.\n",
    "If the file exists, the new content is appeneded at the end of the file content.\n",
    "The file pointer is placed at the beginning of the file.\n",
    "The other 6 operations are same as above with the only difference as they are opened in binary format."
   ]
  },
  {
   "cell_type": "markdown",
   "id": "043f6241",
   "metadata": {},
   "source": [
    "Q2. Why close() function is used? Why is it important to close a file?"
   ]
  },
  {
   "cell_type": "markdown",
   "id": "896a562e",
   "metadata": {},
   "source": [
    "close() function is used to close an opened file.\n",
    "\n",
    "It is important to close a file to deallocate the file descriptor beacuse there is a limit for file descriptors in python as we have a limited resource on a computer.\n",
    "\n",
    "Context Manager is used by using with statement to get rid of closing a file explicitly."
   ]
  },
  {
   "cell_type": "markdown",
   "id": "7478c924",
   "metadata": {},
   "source": [
    "Q3. Write a python program to create a text file. Write ‘I want to become a Data Scientist’ in that file. Then close the file. Open this file and read the content of the file."
   ]
  },
  {
   "cell_type": "code",
   "execution_count": 2,
   "id": "e8f77a20",
   "metadata": {},
   "outputs": [
    {
     "name": "stdout",
     "output_type": "stream",
     "text": [
      "File created and written successfully\n",
      "I want to become a Data Scientist\n"
     ]
    }
   ],
   "source": [
    "f = open(\"test.txt\", \"w\")\n",
    "f.write(\"I want to become a Data Scientist\")\n",
    "f.close()\n",
    "print(\"File created and written successfully\")\n",
    "\n",
    "\n",
    "f = open(\"test.txt\", \"r\")\n",
    "print(f.read())\n",
    "f.close()"
   ]
  },
  {
   "cell_type": "markdown",
   "id": "63311d50",
   "metadata": {},
   "source": [
    "Q4. Explain the following with python code: read(), readline() and readlines()."
   ]
  },
  {
   "cell_type": "markdown",
   "id": "d2834076",
   "metadata": {},
   "source": [
    "read()\n",
    "It returns the whole file content line by line.\n",
    "We can also specifiy number of bytes to return by passing a parameter.\n",
    "Default passed parameter is -1 which means the whole file.\n",
    "\n",
    "readline()\n",
    "It iterates one line at a time starting from beginning of the file.\n",
    "We can also specifiy number of bytes to return by passing a parameter.\n",
    "Default passed parameter is -1 which means the whole file.\n",
    "\n",
    "readlines()\n",
    "This method returns a list containing each line in the file as a list item.\n",
    "We can also specifiy number of bytes to return by passing a parameter.\n",
    "Default passed parameter is -1 which means the whole file."
   ]
  },
  {
   "cell_type": "markdown",
   "id": "2f66911c",
   "metadata": {},
   "source": [
    "Q5. Explain why with statement is used with open(). What is the advantage of using with statement and open() together?"
   ]
  },
  {
   "cell_type": "markdown",
   "id": "87368a3e",
   "metadata": {},
   "source": [
    "write()\n",
    "\n",
    "write() function takes a string as an input argument and writes it to file\n",
    "\n",
    "To store data in line by line format, we hve to add '\\n' character to the end of each string.\n",
    "\n",
    "While writing a numeric value we have to either write it in quotes or typecast it into an string."
   ]
  },
  {
   "cell_type": "code",
   "execution_count": 4,
   "id": "6a080220",
   "metadata": {},
   "outputs": [
    {
     "name": "stdout",
     "output_type": "stream",
     "text": [
      "1st write2nd write3rd write44\n"
     ]
    }
   ],
   "source": [
    "f = open(\"t.txt\", \"w\")\n",
    "f.write('1st write')\n",
    "f.write('2nd write')\n",
    "f.write('3rd write')\n",
    "a = 44\n",
    "f.write(str(a))\n",
    "f.close()\n",
    "\n",
    "f = open(\"t.txt\")\n",
    "print(f.read())\n",
    "f.close()"
   ]
  },
  {
   "cell_type": "markdown",
   "id": "c772f04c",
   "metadata": {},
   "source": [
    "writelines()\n",
    "\n",
    "writelines() funcion is uded to write iterables(e,g string, list, tuple) in a file.\n",
    "\n",
    "While writing a numeric value we have to either write it in quotes or typecast it into an string."
   ]
  },
  {
   "cell_type": "code",
   "execution_count": 5,
   "id": "ffdd6776",
   "metadata": {},
   "outputs": [
    {
     "name": "stdout",
     "output_type": "stream",
     "text": [
      "1st Write2nd Write3rd Write\n"
     ]
    }
   ],
   "source": [
    "f = open(\"t1.txt\", \"w\")\n",
    "l = [\"1st Write\", \"2nd Write\", \"3rd Write\"]\n",
    "f.writelines(l)  # or\n",
    "# for i in l:\n",
    "#     f.writelines(i)\n",
    "f.close()\n",
    "\n",
    "f = open(\"t1.txt\")\n",
    "print(f.read())\n",
    "f.close()"
   ]
  },
  {
   "cell_type": "code",
   "execution_count": 6,
   "id": "4cc5ceaf",
   "metadata": {},
   "outputs": [
    {
     "ename": "TypeError",
     "evalue": "write() argument must be str, not list",
     "output_type": "error",
     "traceback": [
      "\u001b[1;31m---------------------------------------------------------------------------\u001b[0m",
      "\u001b[1;31mTypeError\u001b[0m                                 Traceback (most recent call last)",
      "\u001b[1;32m~\\AppData\\Local\\Temp\\ipykernel_20004\\1383167900.py\u001b[0m in \u001b[0;36m<module>\u001b[1;34m\u001b[0m\n\u001b[0;32m      1\u001b[0m \u001b[0mf\u001b[0m \u001b[1;33m=\u001b[0m \u001b[0mopen\u001b[0m\u001b[1;33m(\u001b[0m\u001b[1;34m\"t1.txt\"\u001b[0m\u001b[1;33m,\u001b[0m \u001b[1;34m\"w\"\u001b[0m\u001b[1;33m)\u001b[0m\u001b[1;33m\u001b[0m\u001b[1;33m\u001b[0m\u001b[0m\n\u001b[0;32m      2\u001b[0m \u001b[0ml\u001b[0m \u001b[1;33m=\u001b[0m \u001b[1;33m[\u001b[0m\u001b[1;34m\"1st Write\"\u001b[0m\u001b[1;33m,\u001b[0m \u001b[1;34m\"2nd Write\"\u001b[0m\u001b[1;33m,\u001b[0m \u001b[1;34m\"3rd Write\"\u001b[0m\u001b[1;33m]\u001b[0m\u001b[1;33m\u001b[0m\u001b[1;33m\u001b[0m\u001b[0m\n\u001b[1;32m----> 3\u001b[1;33m \u001b[0mf\u001b[0m\u001b[1;33m.\u001b[0m\u001b[0mwrite\u001b[0m\u001b[1;33m(\u001b[0m\u001b[0ml\u001b[0m\u001b[1;33m)\u001b[0m\u001b[1;33m\u001b[0m\u001b[1;33m\u001b[0m\u001b[0m\n\u001b[0m\u001b[0;32m      4\u001b[0m \u001b[0mf\u001b[0m\u001b[1;33m.\u001b[0m\u001b[0mclose\u001b[0m\u001b[1;33m(\u001b[0m\u001b[1;33m)\u001b[0m\u001b[1;33m\u001b[0m\u001b[1;33m\u001b[0m\u001b[0m\n",
      "\u001b[1;31mTypeError\u001b[0m: write() argument must be str, not list"
     ]
    }
   ],
   "source": [
    "f = open(\"t1.txt\", \"w\")\n",
    "l = [\"1st Write\", \"2nd Write\", \"3rd Write\"]\n",
    "f.write(l)\n",
    "f.close()"
   ]
  },
  {
   "cell_type": "code",
   "execution_count": null,
   "id": "fbbd039c",
   "metadata": {},
   "outputs": [],
   "source": []
  }
 ],
 "metadata": {
  "kernelspec": {
   "display_name": "Python 3 (ipykernel)",
   "language": "python",
   "name": "python3"
  },
  "language_info": {
   "codemirror_mode": {
    "name": "ipython",
    "version": 3
   },
   "file_extension": ".py",
   "mimetype": "text/x-python",
   "name": "python",
   "nbconvert_exporter": "python",
   "pygments_lexer": "ipython3",
   "version": "3.9.13"
  }
 },
 "nbformat": 4,
 "nbformat_minor": 5
}
